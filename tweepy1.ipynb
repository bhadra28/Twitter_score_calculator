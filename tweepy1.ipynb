{
 "cells": [
  {
   "cell_type": "code",
   "execution_count": 89,
   "id": "207a002d",
   "metadata": {},
   "outputs": [],
   "source": [
    "from tweepy import API \n",
    "from tweepy import Cursor\n",
    "from tweepy.streaming import StreamListener\n",
    "from tweepy import OAuthHandler\n",
    "from tweepy import Stream\n",
    "\n",
    "from textblob import TextBlob\n",
    " \n",
    "import twitter_credentials\n",
    "\n",
    "import matplotlib.pyplot as plt\n",
    "import numpy as np\n",
    "import pandas as pd\n",
    "import re"
   ]
  },
  {
   "cell_type": "code",
   "execution_count": 90,
   "id": "8a340dfb",
   "metadata": {},
   "outputs": [],
   "source": [
    "class TwitterAuthenticator():\n",
    "\n",
    "    def authenticate_twitter_app(self):\n",
    "        auth = OAuthHandler(twitter_credentials.CONSUMER_KEY, twitter_credentials.CONSUMER_SECRET)\n",
    "        auth.set_access_token(twitter_credentials.ACCESS_TOKEN, twitter_credentials.ACCESS_TOKEN_SECRET)\n",
    "        return auth\n"
   ]
  },
  {
   "cell_type": "code",
   "execution_count": 91,
   "id": "e0d0bba1",
   "metadata": {},
   "outputs": [],
   "source": [
    "# # # # TWITTER STREAMER # # # #\n",
    "class TwitterStreamer():\n",
    "    \"\"\"\n",
    "    Class for streaming and processing live tweets.\n",
    "    \"\"\"\n",
    "    def __init__(self):\n",
    "        self.twitter_autenticator = TwitterAuthenticator()    \n",
    "\n",
    "    def stream_tweets(self, fetched_tweets_filename, hash_tag_list):\n",
    "        # This handles Twitter authetification and the connection to Twitter Streaming API\n",
    "        listener = TwitterListener(fetched_tweets_filename)\n",
    "        auth = self.twitter_autenticator.authenticate_twitter_app() \n",
    "        stream = Stream(auth, listener)\n",
    "\n",
    "        # This line filter Twitter Streams to capture data by the keywords: \n",
    "        stream.filter(track=hash_tag_list)"
   ]
  },
  {
   "cell_type": "code",
   "execution_count": 92,
   "id": "e0466134",
   "metadata": {},
   "outputs": [],
   "source": [
    "# # # # TWITTER STREAM LISTENER # # # #\n",
    "class TwitterListener(StreamListener):\n",
    "    \"\"\"\n",
    "    This is a basic listener that just prints received tweets to stdout.\n",
    "    \"\"\"\n",
    "    def __init__(self, fetched_tweets_filename):\n",
    "        self.fetched_tweets_filename = fetched_tweets_filename\n",
    "\n",
    "    def on_data(self, data):\n",
    "        try:\n",
    "            print(data)\n",
    "            with open(self.fetched_tweets_filename, 'a') as tf:\n",
    "                tf.write(data)\n",
    "            return True\n",
    "        except BaseException as e:\n",
    "            print(\"Error on_data %s\" % str(e))\n",
    "        return True\n",
    "          \n",
    "    def on_error(self, status):\n",
    "        if status == 420:\n",
    "            # Returning False on_data method in case rate limit occurs.\n",
    "            return False\n",
    "        print(status)"
   ]
  },
  {
   "cell_type": "code",
   "execution_count": 93,
   "id": "6d380145",
   "metadata": {},
   "outputs": [],
   "source": [
    "class TweetAnalyzer():\n",
    "    \"\"\"\n",
    "    Functionality for analyzing and categorizing content from tweets.\n",
    "    \"\"\"\n",
    "\n",
    "    def clean_tweet(self, tweet):\n",
    "        return ' '.join(re.sub(\"(@[A-Za-z0-9]+)|([^0-9A-Za-z \\t])|(\\w+:\\/\\/\\S+)\", \" \", tweet).split())\n",
    "\n",
    "    def analyze_sentiment(self, tweet):\n",
    "        analysis = TextBlob(self.clean_tweet(tweet))\n",
    "        \n",
    "        if analysis.sentiment.polarity > 0:\n",
    "            return 1\n",
    "        elif analysis.sentiment.polarity == 0:\n",
    "            return 0\n",
    "        else:\n",
    "            return -1\n",
    "\n",
    "    def tweets_to_data_frame(self, tweets):\n",
    "        df = pd.DataFrame(data=[tweet.full_text for tweet in tweets], columns=['tweets'])\n",
    "\n",
    "        df['id'] = np.array([tweet.id for tweet in tweets])\n",
    "        df['len'] = np.array([len(tweet.full_text) for tweet in tweets])\n",
    "        df['date'] = np.array([tweet.created_at for tweet in tweets])\n",
    "        df['source'] = np.array([tweet.source for tweet in tweets])\n",
    "        df['likes'] = np.array([tweet.favorite_count for tweet in tweets])\n",
    "        df['retweets'] = np.array([tweet.retweet_count for tweet in tweets])\n",
    "\n",
    "        return df\n"
   ]
  },
  {
   "cell_type": "code",
   "execution_count": 94,
   "id": "df00722f",
   "metadata": {},
   "outputs": [],
   "source": [
    "class TwitterClient():\n",
    "    def __init__(self, twitter_user=None):\n",
    "        self.auth = TwitterAuthenticator().authenticate_twitter_app()\n",
    "        self.twitter_client = API(self.auth)\n",
    "\n",
    "        self.twitter_user = twitter_user\n",
    "\n",
    "    def get_twitter_client_api(self):\n",
    "        return self.twitter_client\n",
    "\n",
    "    def get_retweets(self):\n",
    "        tweets = []\n",
    "        for tweet in Cursor(self.twitter_client.retweets, id=self.twitter_user).items():\n",
    "            tweets.append(tweet)\n",
    "        return tweets\n",
    "\n",
    "    def get_friend_list(self,num_tweets=900):\n",
    "        friend_list = []\n",
    "        for friend in Cursor(self.twitter_client.friends, id=self.twitter_user).items(num_tweets):\n",
    "            friend_list.append(friend)\n",
    "        return friend_list\n",
    "    \n",
    "    def get_follower_list(self,num_tweets=900):\n",
    "        follower_list = []\n",
    "        for follower in Cursor(self.twitter_client.followers, id=self.twitter_user).items(num_tweets):\n",
    "            follower_list.append(follower)\n",
    "        return follower_list\n",
    "    \n",
    "    def get_follower_ids(self,num_tweets=900):\n",
    "        follower_ids = []\n",
    "        for follower in Cursor(self.twitter_client.followers_ids, id=self.twitter_user).items(num_tweets):\n",
    "            follower_ids.append(follower)\n",
    "        return follower_ids\n",
    "    \n",
    "    def get_friend_ids(self,num_tweets=900):\n",
    "        friend_ids = []\n",
    "        for friend in Cursor(self.twitter_client.friends_ids, id=self.twitter_user).items(num_tweets):\n",
    "            friend_ids.append(friend)\n",
    "        return friend_ids\n",
    "    \n",
    "    def search_tweets(self,query,num_tweets=900):\n",
    "        tweets=[]\n",
    "        for tweet in Cursor(self.twitter_client.search, q=query).items(num_tweets):\n",
    "            tweets.append(tweet)\n",
    "        return tweets\n",
    "        \n",
    "\n",
    "    def get_home_timeline_tweets(self, num_tweets=900):\n",
    "        home_timeline_tweets = []\n",
    "        for tweet in Cursor(self.twitter_client.home_timeline, id=self.twitter_user).items(num_tweets):\n",
    "            home_timeline_tweets.append(tweet)\n",
    "        return home_timeline_tweets\n",
    "    \n",
    "    def get_user_timeline_tweets(self, num_tweets=900):\n",
    "        user_timeline_tweets = []\n",
    "        for tweet in Cursor(self.twitter_client.user_timeline, id=self.twitter_user,tweet_mode=\"extended\").items(num_tweets):\n",
    "            user_timeline_tweets.append(tweet)\n",
    "        return user_timeline_tweets\n",
    "    \n",
    "    def get_no_of_friends(self, num_tweets=900):\n",
    "        c = Cursor(self.twitter_client.friends, id=self.twitter_user)\n",
    "        count = 0\n",
    "        for friends in c.items():\n",
    "            count += 1\n",
    "        return count\n",
    "    \n",
    "        \n",
    "    \n"
   ]
  },
  {
   "cell_type": "code",
   "execution_count": 95,
   "id": "eff0bc52",
   "metadata": {},
   "outputs": [
    {
     "name": "stdout",
     "output_type": "stream",
     "text": [
      "6\n"
     ]
    }
   ],
   "source": [
    "user_id='@pycon'\n",
    "twitter_client = TwitterClient(user_id)\n",
    "tweet_analyzer = TweetAnalyzer()\n",
    "\n",
    "api = twitter_client.get_twitter_client_api()\n",
    "\n",
    "friends=twitter_client.get_no_of_friends()\n",
    "print(friends)\n"
   ]
  },
  {
   "cell_type": "code",
   "execution_count": 96,
   "id": "67fac10f",
   "metadata": {},
   "outputs": [
    {
     "name": "stdout",
     "output_type": "stream",
     "text": [
      "[1137258091706290176, 1277619711468023808, 1404932460375203840, 215950652, 1210882901316755456, 976718440147931137, 751830059711918080, 1396286551689023490, 869430588, 144498030, 275426406, 1396063821060481027, 347690389, 1358283395235651589, 1108755849978224641, 1403159502724100096, 4448231843, 1411378478201573379, 1315096822470316035, 1333079610238533632, 1409996724714852359, 1411129812668850181, 1347701197352939521, 2573082584, 1401863456, 1178677587603648512, 1193169173209341952, 1411396233072152578, 1409884555587244041, 1606059955, 838055468811620352, 2881966013, 1254510499120640000, 1071779661640802304, 1411088809140363264, 306909052, 66361418, 1120046081675542528, 1405399578245955588, 14076948, 1286376865511481345, 1409709959504334848, 22076767, 883625223773274113, 1298210161119637505, 3043923487, 1410266084259868684, 1117951382, 1410411467216613382, 1323847836878864384, 1203580638, 1298577394056474625, 1409076550675357699, 915052036042891264, 1267875255571406855, 287953380, 1407692670466772997, 244985921, 591838971, 1408245566035816458, 1390842284812427268, 1351050045823590402, 1280759975753601024, 1350896693303242754, 3821953939, 285738355, 276935432, 1367070391005450240, 1043332014, 1320780012, 1409603828773707776, 1144410366782275584, 1218829352147791872, 1298518972011143168, 1405449218253156352, 1409418441077964800, 1401863095220375556, 336923547, 1342566359906050048, 1404010411905609736, 1708990892, 834206274107486208, 106096728, 922176332393463808, 245947502, 10173442, 1401866578036203520, 390052812, 1350920867857932290, 22480209, 204843271, 234074776, 1380938798121451528, 3165948203, 4830410714, 1253401366384578560, 1244313777228722177, 314770714, 961126484499943424, 1382579497296285700, 3340420833, 1373182128582664196, 809445703, 3146657401, 1408161802568019970, 1087628292318883841, 1150502973983875073, 79761480, 2883010787, 788736891583475713, 157930079, 1380598524652425219, 136288087, 921343842602795008, 4020711069, 1040112736732999680, 1175073600920936448, 1329976134, 1338823978266337281, 1407689213328257031, 173452514, 41408707, 1407602843989782529, 365982690, 930200719663255554, 1406226030298271751, 1407524437889593346, 1218396162857820160, 22950757, 2287259167, 1328154887742484480, 80941837, 83189451, 1050961850169344000, 874891764229976065, 715162911547781120, 731258869, 3130993869, 1118740411101487105, 1198836121909780480, 3036213339, 334719716, 1402505534968827905, 1266017788348575744, 230017379, 749434609536999424, 1393094514051538944, 1406682593907576832, 372754507, 404930061, 1369466784483598344, 1406679257657581574, 259537032, 21034726, 19498212, 1363657881007095810, 1158841325195804677, 1332613892, 956575747, 139078362, 411381256, 1103383696789393409, 334384052, 3816248258, 1286595206, 816608752874979328, 1221812326665461761, 1405417250719289349, 1405928950971441158, 907332548958846976, 282172034, 1283515070555848706, 981803538530500608, 841205007160561664, 211434011, 30641801, 195112066, 1269060978295087104, 1128446500986605569, 1405585396717658115, 2986151383, 976423746948026368, 25446485, 2729397715, 804647415370260480, 1405404231775969282, 1404096497587658761, 246140507, 1137006045782577152, 2404822326, 276042475, 4927799416, 1390227997689618433, 634444906, 4135553823, 24715150, 830554040, 18201709, 1402302617913593859, 888449738533724161, 271023892, 123224818, 1404800364797435910, 366132396, 1402104169629028354, 826118410945908736, 2570070816, 347599994, 2512687460, 493284905, 1001365399861121030, 1373420241473142789, 960236348123832321, 1376197703575642112, 116940335, 1135664793807773696, 1298364815413579777, 1188945293569646592, 792998879461466112, 1404295259010396161, 1263740786388033536, 9493592, 1240969313072353288, 1403611345648381954, 838984502345072640, 890243467812769792, 218704657, 1364799023719346199, 29384654, 861358849, 910842318869086208, 1387411674391404552, 23811019, 1403727724028567558, 19686893, 1403712703324200964, 85167256, 920873753185222656, 1161941732511997952, 906570127537328128, 744140913996267520, 67653935, 309260010, 1349690239506239488, 1364161810652364802, 1329725595576528897, 175561912, 1152998350796525573, 153836073, 1313941148575170560, 1399122168919707648, 615922297, 125405231, 1403269102869770240, 170484864, 1402299981323767814, 1227853795910131713, 1168981402068627456, 591412266, 3304768032, 1378210081066606592, 1402928626136399875, 2864337742, 1858019090, 1283041062, 101196106, 2250191573, 494418976, 1322427075387662336, 1400072596742418434, 1698922244, 264609663, 1384156582276071427, 1383755702968086530, 11691332, 1402392914500755457, 153179646, 778756106017312768, 400244379, 1402121732815790084, 1402183136922984451, 1402143063351328772, 78913886, 1375122200844509196, 1384320188493959171, 299131412, 898942863370838017, 1199556484847284225, 1400057082167001091, 78261643, 948643736, 1401753061316562947, 270120977, 1401672189326237697, 1347250446172377089, 1396891018637856773, 1217963266066059265, 914866284277493760, 984145931779141632, 75163309, 1244202566549786624, 1337261917379899393, 1361803698440081412, 1031714910571384832, 1071555674, 980833535165718528, 849369973822828544, 1333753790336557060, 624101763, 1231841298149081094, 1368647108513783813, 820912610, 376109643, 291246619, 3178003389, 1235318462253322250, 124678711, 1477897687, 746228695094857729, 2547444337, 23646953, 942483832342761472, 1293583180067491840, 956140830766530561, 1609385414, 1197253585228238848, 78224732, 1107010289600466946, 16159218, 1129237424561905664, 222203976, 44874825, 1398326040758530049, 947795487066701824, 55069741, 150582435, 552915928, 20522338, 1390455906211663876, 833211057464340480, 1385367897476935686, 60977915, 1112307391499067393, 1380279373, 2722667263, 14520319, 1392568882804690944, 2899078827, 803218181284167681, 19540488, 48668574, 358045506, 1493792916, 400222622, 269839543, 1095704330135576576, 1395059015206547457, 1310739944567173120, 1009013804829638656, 983607061979152384, 248482599, 1399744768465272833, 41200866, 1147835907430424577, 281462101, 263949149, 1399550914030018564, 960303785213009920, 1023252306396164096, 1339732412432060417, 1384296069861810179, 1175285761253376001, 1378282701959143425, 1376106835166568449, 120866818, 3071785482, 146137882, 267194324, 1398775789399724032, 1314973142046007299, 2399274690, 1329404946098257921, 1399056381336981506, 960137771108192256, 1253009938143522817, 1399009923552382977, 1394586565461127171, 2565824528, 794833406, 826041084493053954, 2424068168, 1361911712375398406, 1242007440704471040, 1389981564264751111, 783691430229311488, 928237813425872896, 975077392040497158, 749944115014594561, 433226154, 2981862482, 727029199, 1063680818, 1135576370883440645, 786410323121205248, 1373483160273518594, 85661832, 1333579985739722753, 1332797120902955008, 1398468787536633856, 109919128, 1181912654090256384, 66994371, 1388973009176719361, 1299161726697570304, 339464405, 724729650056830978, 1397976261482500103, 70997352, 1242099913032261633, 877862059857162240, 770952, 1121446346, 1378987450622746626, 1332125408582504448, 1393595146546016258, 358480421, 187138191, 40009450, 1363183104802754560, 857384258595377152, 1304135083616604161, 1357372455216689161, 1007764142621634561, 873191364787281920, 1396040992692768773, 2875911509, 1384777153238077442, 2534252870, 1372855553320452096, 2374832432, 1047835238850805760, 114939637, 1394256968617914372, 1343260987210649600, 352540386, 1334884018781818881, 391600805, 978987759913373696, 1276479542, 242579685, 1872863274, 1397681138697637893, 1266002347622371329, 1391971735457599488, 1367419512132268032, 1395839283320303616, 1046170250813861888, 1396131153082413056, 1376216048899252227, 10017532, 2972316703, 552285426, 103883355, 725851125581242368, 510289198, 1165500111063060480, 1340532240854474752, 210018131, 959165467310075906, 857320274399604736, 1380500476458860545, 1318642338969825283, 2978541863, 133188526, 1000317647647526912, 1392747294185885698, 258886679, 1397031571459395587, 22546052, 1150759257395982336, 1256480104789815296, 1369302908861353985, 702291819359399936, 847323381749825542, 1396947581692006404, 916980005460160512, 1295193409154498561, 7722082, 513329511, 494141338, 1272162489061515264, 1395297546319405063, 240590608, 1142140464, 1272859764666404865, 1213981252363014145, 853942930796560385, 1025986363081064449, 1290993959053881346, 16696013, 1396463703688577027, 1396443154732228610, 575183663, 783825314363404288, 14568831, 1274075621941886976, 1301471324053831689, 1332225043779235840, 1225509131022454785, 1379783093096091650, 1296594282812510209, 910906530618163200, 1234506446324281345, 1396252842030108675, 1362841975926517766, 840560886796435456, 3627197292, 138301381, 28754820, 12151662, 1292305218223214593, 704129769193930752, 136025897, 1435957424, 611758564, 162363423, 1173293714891927553, 1901898200, 855452640943239168, 1356461451196698625, 1343516126299344896, 280562204, 1132734278209605633, 283190766, 71953557, 979221819688398848, 120200084, 17417171, 3090568684, 3489737173, 1238716543, 1392102769562034178, 843404444939169792, 833996938739605504, 909226763192029185, 52335598, 1099607005851877376, 1395869664551620613, 2160735997, 222798444, 853683426641293313, 3353543627, 1166574493864779779, 1395793727352840193, 40151243, 1395623171831726080, 2921206279, 1240912525, 949331448091365378, 1395346980415709189, 1137009102717181953, 72761112, 1389592578346168322, 1390652874107936771, 1358479101540073475, 462695276, 470224338, 1125676967259459585, 1273492022842683393, 247474932, 1394412422786584577, 121923402, 1023629043034337280, 1276445766, 1260558780934152193, 893968150085218305, 56556965, 42567441, 54084032, 429301493, 797461458602827776, 1319373841924300802, 1128185955255562240, 1332181814534922243, 861291856310788096, 1343637137778872320, 1357690793113354242, 1280123666332889089, 37738087, 1395319976693694470, 830670810499014660, 2774042815, 2917721703, 1049341645299376128, 1394554621838848001, 748222366757453824, 815097781161488384, 1026704413702803456, 89940826, 2329310699, 1395101995430670337, 1394662970819452929, 29825518, 1387885232624390153, 2242415120, 43437096, 1336319261300543489, 99230573, 900335799077658624, 1393433773350408196, 491987266, 1343102307697750016, 1318755202099458048, 783372860727230464, 2674575145, 1852342178, 1394702583084683266, 1094652572822990848, 410906690, 196200551, 1288539201177255937, 239599375, 420380340, 265385473, 1293590909372657669, 1192785207662911490, 15585076, 559887549, 2447631823, 999473334, 2458960164, 1394614524095852548, 753872193960996864, 231017285, 4890577114, 3332014947, 3163459650, 1394355575023194115, 33132692, 1044765041780764672, 7639262, 1342511246852186114, 1393505772676558850, 624114402, 91244977, 1269922924850483200, 1058450934655787015, 1176903505384075267, 1148119326484049920, 580615720, 1381944164569473032, 1224086843882385411, 60839007, 962339536880766977, 1246714273700540417, 1534909842, 1352363376081424387, 3167386777, 1361197648947122177, 1223617955109322752, 886869600, 1275622509824655360, 19628398, 713764767114997760, 91648004, 368675631, 759355254, 1312784148667432963, 194609531, 121617984, 1256284623153364992, 1394036837036011526, 66359303, 1349398563411939329, 15213202, 20753241, 342021471, 826668361048154112, 815978252, 4244039421, 146985670, 1388906925824221184, 138052711, 102161159, 346883326, 1393857796811104256, 46519738, 603264551, 2770489840, 3300681876, 1436491868, 438922389, 42487165, 216969402, 1267106170784804865, 1392885613704060933, 35852201, 223080615, 198371318, 2318152700, 43403817, 1391630859996860418, 99678794, 56266590, 777557539, 47043321, 797197998644232193, 773727515609292801, 927267300939415552, 1196244347852746752, 1200295712531058688, 188850746, 598067942, 1061251470425698305, 78579865, 1393841268728516609, 1391358488929087489, 1156699114840547329, 2773720421, 267294332, 924902306, 1392234451422175232, 1390026074411708418, 1060033919372943360, 348137652, 1393774556251262976, 1274536655177859074, 193716971, 14977154, 1427299206, 87239221, 970771030137548800, 17188027, 116302671, 1121789923290312705, 191718679, 1059435903142129665, 934326777970810880, 1286880198076465152, 21983897, 71583142, 894191653141057536, 2328132343, 1066872592978595840, 60189852, 1327822677801889792, 906006444, 991609033873350656, 19388010, 1003511499099443200, 1233873977682071552, 1393667309366091777, 1038031683688300544, 47263988, 29131341, 284168040, 4076702783, 19050197, 916688309706829825, 826443242333835264, 454143009, 750559263270047744, 19120833, 1378454856, 1317263826367164416, 1464365280, 983888944851927040, 456366878, 235658449, 3199888886, 740646146, 3012251411, 1221773427578671104, 1201130136772337666, 53645970, 364106450, 1387031716871692288, 2238074555, 1219386237154254848, 1086933074485669889, 2167087808, 792219511818563584, 134396315, 100066278, 1333081150538047488, 1335243098193096706, 1350805046926012416, 14190628, 174215357, 19588617, 598254950, 35883558, 895278803613884417, 1222375896658608128, 1208748446259326977, 16579469, 19222587, 100986621, 786852910156091392, 1231742901899669504, 566544817, 1290935358893547520, 60182165, 79103157, 583135934, 1249773533917405184, 1003103069280833537, 1069260732255141888, 15477494, 40391243, 44898387, 881972574623744000, 1367474249649319938, 752226230359908353, 1338498057160318978, 59639780, 45548822, 1866326630, 1171989089295294464, 121943710, 2352042230, 183036072, 3040035800, 32583066, 156031462, 1079683566014005248, 2967713998, 3127685826, 634427363, 890568360064430080, 1136332753106948096, 38479596, 46313063, 61673844, 967913887306829824, 2277462703, 480174258, 1159152525976752128, 1040117906720215040, 1177816890766438400, 1177852209066909696, 250108695, 1353092700921241600, 57348774, 1378812018011029510, 1273914461653434368, 1276758776943726592, 1055183028392222722, 176552509, 1071273399178145793, 77791941, 747612362, 2758545556, 1092659255293939712, 85170605, 1355151990523891719, 491641132, 2408471545, 1238220099997192192, 55241532, 148605186, 912006044045295617, 175924610, 2237969174, 407394076, 182732437, 124067359, 1075003367896899584, 1221261564134686721, 1339354699, 346069550, 1393391296685953024, 1377492519823478785, 1388042742, 577445724, 985752550455545856, 48166301, 1301506744472961024, 46804706, 16058280, 36516166, 59239976, 960987140485197824, 844167132, 984810243925438464, 1215304684988239872, 702960073346187264, 57322194, 18957255, 2361634614, 1247838610835070976, 1057894269975961601, 735639763, 2837370234, 858354997, 1170245843028447232, 15688808, 3063945437, 2934665752, 16348975]\n"
     ]
    },
    {
     "name": "stdout",
     "output_type": "stream",
     "text": [
      "[63873759, 863550314, 948661949629456384, 15174809, 14336304, 15804774]\n"
     ]
    }
   ],
   "source": [
    "follower_ids=twitter_client.get_follower_ids()\n",
    "print(twitter_client.get_follower_ids())\n",
    "friend_ids=twitter_client.get_friend_ids()\n",
    "print(twitter_client.get_friend_ids())"
   ]
  },
  {
   "cell_type": "code",
   "execution_count": 97,
   "id": "e7875568",
   "metadata": {},
   "outputs": [
    {
     "data": {
      "text/plain": [
       "150.0"
      ]
     },
     "execution_count": 97,
     "metadata": {},
     "output_type": "execute_result"
    }
   ],
   "source": [
    "#FF Ratio(25% of twit)\n",
    "friend_count=len(friend_ids)\n",
    "follower_count=len(follower_ids)\n",
    "ff_ratio=follower_count/friend_count\n",
    "ff_ratio"
   ]
  },
  {
   "cell_type": "code",
   "execution_count": 98,
   "id": "f7c10fde",
   "metadata": {},
   "outputs": [],
   "source": [
    "ff_score=0\n",
    "if ff_ratio>1:\n",
    "    ff_score=10\n",
    "elif ff_score==0:\n",
    "    ff_score=0\n",
    "else:\n",
    "    ff_score=5;"
   ]
  },
  {
   "cell_type": "code",
   "execution_count": 99,
   "id": "9d2ae14f",
   "metadata": {},
   "outputs": [],
   "source": [
    "ff_score=ff_score*(25/10)"
   ]
  },
  {
   "cell_type": "code",
   "execution_count": 100,
   "id": "d8dc674e",
   "metadata": {},
   "outputs": [],
   "source": [
    "#Relevance score is listed ratio"
   ]
  },
  {
   "cell_type": "code",
   "execution_count": 101,
   "id": "a140fdf6",
   "metadata": {},
   "outputs": [
    {
     "data": {
      "text/plain": [
       "0.0"
      ]
     },
     "execution_count": 101,
     "metadata": {},
     "output_type": "execute_result"
    }
   ],
   "source": [
    "#listed ratio-no of followers they follow back\n",
    "listed=list(set(follower_ids) & set(friend_ids)) #intersection of the two lists\n",
    "listed\n",
    "listed_count=len(listed)\n",
    "follower_count=len(follower_ids)\n",
    "listed_ratio=listed_count/follower_count\n",
    "listed_ratio"
   ]
  },
  {
   "cell_type": "code",
   "execution_count": 102,
   "id": "ecac99e1",
   "metadata": {},
   "outputs": [],
   "source": [
    "listed_score=0\n",
    "if listed_ratio>0.5:\n",
    "    listed_score=10\n",
    "else:\n",
    "    listed_score=0"
   ]
  },
  {
   "cell_type": "code",
   "execution_count": 103,
   "id": "c952586b",
   "metadata": {},
   "outputs": [],
   "source": [
    "relevance_score=listed_score*(25/10)"
   ]
  },
  {
   "cell_type": "code",
   "execution_count": 104,
   "id": "d0da260a",
   "metadata": {},
   "outputs": [],
   "source": [
    "#usage score"
   ]
  },
  {
   "cell_type": "code",
   "execution_count": 105,
   "id": "38a151bf",
   "metadata": {},
   "outputs": [],
   "source": [
    "#tweet frequency\n",
    "utt=twitter_client.get_user_timeline_tweets()\n",
    "date_time=[]\n",
    "for i in utt:\n",
    "    date_time.append(i.created_at)"
   ]
  },
  {
   "cell_type": "code",
   "execution_count": 106,
   "id": "250ea287",
   "metadata": {},
   "outputs": [
    {
     "data": {
      "text/plain": [
       "datetime.timedelta(days=1, seconds=2611, microseconds=807564)"
      ]
     },
     "execution_count": 106,
     "metadata": {},
     "output_type": "execute_result"
    }
   ],
   "source": [
    "from datetime import timedelta\n",
    "\n",
    "sumdeltas = timedelta(seconds=0)\n",
    "i = 1\n",
    "while i < len(date_time):\n",
    "    sumdeltas += date_time[i-1] - date_time[i]\n",
    "    i = i + 1\n",
    "\n",
    "avg_delta = sumdeltas / (len(date_time) - 1)\n",
    "avg_delta"
   ]
  },
  {
   "cell_type": "code",
   "execution_count": 107,
   "id": "d2ba0b29",
   "metadata": {},
   "outputs": [],
   "source": [
    "tweet_frequency_score=0\n",
    "if avg_delta.days<7:\n",
    "    tweet_frequency_score=10\n",
    "elif avg_delta.days>30:\n",
    "    tweet_frequency_score=0\n",
    "else:\n",
    "    tweet_frequency_score=5"
   ]
  },
  {
   "cell_type": "code",
   "execution_count": 108,
   "id": "e4af06b3",
   "metadata": {},
   "outputs": [
    {
     "data": {
      "text/plain": [
       "900"
      ]
     },
     "execution_count": 108,
     "metadata": {},
     "output_type": "execute_result"
    }
   ],
   "source": [
    "#media (amount of status posted)\n",
    "media =len(utt)\n",
    "media"
   ]
  },
  {
   "cell_type": "code",
   "execution_count": 109,
   "id": "68f9f117",
   "metadata": {},
   "outputs": [],
   "source": [
    "media_score=0\n",
    "if media>50:\n",
    "    media_score=10\n",
    "elif media<5:\n",
    "    media_score=0\n",
    "else:\n",
    "    media_score=5"
   ]
  },
  {
   "cell_type": "code",
   "execution_count": 110,
   "id": "b5c57473",
   "metadata": {},
   "outputs": [],
   "source": [
    "#twitter bio (positve factor)\n",
    "user = api.get_user(user_id)\n",
    "\n",
    "# fetching the description\n",
    "description = user.description\n",
    "if description=='':\n",
    "    bio_factor=0\n",
    "else:\n",
    "    bio_factor=1\n"
   ]
  },
  {
   "cell_type": "code",
   "execution_count": 111,
   "id": "9a4e1043",
   "metadata": {},
   "outputs": [],
   "source": [
    "twitter_bio_score=0\n",
    "if description:\n",
    "    twitter_bio_score=10"
   ]
  },
  {
   "cell_type": "code",
   "execution_count": 112,
   "id": "8be0257b",
   "metadata": {},
   "outputs": [],
   "source": [
    "#twitter profile picture (positive)\n",
    "profile_pic= user.profile_image_url\n",
    "if profile_pic=='http://abs.twimg.com/sticky/default_profile_images/default_profile_normal.png':\n",
    "    pic_factor=0\n",
    "else:\n",
    "    pic_factor=1"
   ]
  },
  {
   "cell_type": "code",
   "execution_count": 113,
   "id": "63353d37",
   "metadata": {},
   "outputs": [],
   "source": [
    "profile_pic_score=0;\n",
    "if pic_factor:\n",
    "    profile_pic_score=10    "
   ]
  },
  {
   "cell_type": "code",
   "execution_count": 114,
   "id": "e5065957",
   "metadata": {},
   "outputs": [],
   "source": [
    "usage_score=tweet_frequency_score+media_score+profile_pic_score+twitter_bio_score*(25/40)"
   ]
  },
  {
   "cell_type": "code",
   "execution_count": 115,
   "id": "c7d656eb",
   "metadata": {},
   "outputs": [],
   "source": [
    "#authenticity score"
   ]
  },
  {
   "cell_type": "code",
   "execution_count": 116,
   "id": "5ca8eaa5",
   "metadata": {},
   "outputs": [
    {
     "data": {
      "text/plain": [
       "datetime.timedelta(days=5011, seconds=50225, microseconds=806747)"
      ]
     },
     "execution_count": 116,
     "metadata": {},
     "output_type": "execute_result"
    }
   ],
   "source": [
    "#duration\n",
    "from datetime import datetime\n",
    "user_created=user.created_at\n",
    "duration=datetime.now()-user_created\n",
    "duration"
   ]
  },
  {
   "cell_type": "code",
   "execution_count": 117,
   "id": "6d74c9c9",
   "metadata": {},
   "outputs": [],
   "source": [
    "duration_score=0\n",
    "if duration.days>30:\n",
    "    duration_score=10"
   ]
  },
  {
   "cell_type": "code",
   "execution_count": 118,
   "id": "25a225dd",
   "metadata": {},
   "outputs": [
    {
     "data": {
      "text/plain": [
       "6"
      ]
     },
     "execution_count": 118,
     "metadata": {},
     "output_type": "execute_result"
    }
   ],
   "source": [
    "#following count\n",
    "friend_count"
   ]
  },
  {
   "cell_type": "code",
   "execution_count": 119,
   "id": "21747d3f",
   "metadata": {},
   "outputs": [],
   "source": [
    "following_count_score=0\n",
    "if friend_count>100:\n",
    "    following_count_score=10\n",
    "elif friend_count<10:\n",
    "    following_count_score=0\n",
    "else:\n",
    "    following_count_score=5"
   ]
  },
  {
   "cell_type": "code",
   "execution_count": 120,
   "id": "a00247fd",
   "metadata": {},
   "outputs": [],
   "source": [
    "authenticity_score=duration_score+following_count_score*(25/20)"
   ]
  },
  {
   "cell_type": "code",
   "execution_count": 121,
   "id": "6036ef30",
   "metadata": {},
   "outputs": [
    {
     "data": {
      "text/plain": [
       "71.25"
      ]
     },
     "execution_count": 121,
     "metadata": {},
     "output_type": "execute_result"
    }
   ],
   "source": [
    "#twit score calculation\n",
    "twit_score=ff_score+relevance_score+usage_score+authenticity_score\n",
    "twit_score"
   ]
  },
  {
   "cell_type": "code",
   "execution_count": 122,
   "id": "823693fb",
   "metadata": {},
   "outputs": [],
   "source": [
    "#profile score"
   ]
  },
  {
   "cell_type": "code",
   "execution_count": 123,
   "id": "a2488bde",
   "metadata": {},
   "outputs": [
    {
     "name": "stdout",
     "output_type": "stream",
     "text": [
      "                                                tweets                   id  \\\n",
      "0    🐍 Take a look! 🐍 \\nA few highlights along with...  1403083027551506433   \n",
      "1    🐍 🎙️ 💬  The conference tutorials, talks, works...  1400849442455097347   \n",
      "2    #PyConUS Keynote addresses are now live on the...  1400182936721297412   \n",
      "3    #PyConUS2021 is now behind us and the final ed...  1398319693920878593   \n",
      "4    The final keynote from #PyConUS2021 was from t...  1397670156332044293   \n",
      "..                                                 ...                  ...   \n",
      "895  Since 2011, companies behind your favorite too...  1071071879887249409   \n",
      "896  #StartupRow companies use Python in all sorts ...  1070422635333464064   \n",
      "897  #StartupRow companies use Python to build the ...  1068248268650491904   \n",
      "898  Just a few more hours to donate to the @ThePSF...  1067557939169423361   \n",
      "899  Support @ThePSF by sponsoring @pycon 2019! We'...  1067448047993540608   \n",
      "\n",
      "     len                date         source  likes  retweets  sentiment  \n",
      "0    176 2021-06-10 20:13:56  Sprout Social     18         7          1  \n",
      "1    178 2021-06-04 16:18:28  Sprout Social     50        31          1  \n",
      "2    183 2021-06-02 20:10:00  Sprout Social     59        33          1  \n",
      "3    294 2021-05-28 16:46:09  Sprout Social     44        12          1  \n",
      "4    261 2021-05-26 21:45:07  Sprout Social     74        20          0  \n",
      "..   ...                 ...            ...    ...       ...        ...  \n",
      "895  284 2018-12-07 16:00:10  Sprout Social     11         3          1  \n",
      "896  269 2018-12-05 21:00:18  Sprout Social      5         4          1  \n",
      "897  263 2018-11-29 21:00:08  Sprout Social      2         2          1  \n",
      "898  229 2018-11-27 23:17:01  Sprout Social      3         3          1  \n",
      "899  231 2018-11-27 16:00:21  Sprout Social      8         2          1  \n",
      "\n",
      "[900 rows x 8 columns]\n"
     ]
    }
   ],
   "source": [
    "df = tweet_analyzer.tweets_to_data_frame(utt)    \n",
    "df['sentiment'] = np.array([tweet_analyzer.analyze_sentiment(tweet) for tweet in df['tweets']])\n",
    "\n",
    "print(df)    "
   ]
  },
  {
   "cell_type": "code",
   "execution_count": 124,
   "id": "a0bea1d8",
   "metadata": {},
   "outputs": [
    {
     "data": {
      "image/png": "[encoded data removed]",
      "text/plain": [
       "<Figure size 432x288 with 1 Axes>"
      ]
     },
     "metadata": {
      "needs_background": "light"
     },
     "output_type": "display_data"
    }
   ],
   "source": [
    "df.sentiment.plot(kind='hist');"
   ]
  },
  {
   "cell_type": "code",
   "execution_count": 125,
   "id": "a64c6ac3",
   "metadata": {},
   "outputs": [
    {
     "data": {
      "text/plain": [
       " 1    590\n",
       " 0    247\n",
       "-1     63\n",
       "Name: sentiment, dtype: int64"
      ]
     },
     "execution_count": 125,
     "metadata": {},
     "output_type": "execute_result"
    }
   ],
   "source": [
    "df.sentiment.value_counts()"
   ]
  },
  {
   "cell_type": "code",
   "execution_count": 126,
   "id": "3874e854",
   "metadata": {},
   "outputs": [],
   "source": [
    "profile_score=len(df[df.sentiment==1])/len(df.sentiment)"
   ]
  },
  {
   "cell_type": "code",
   "execution_count": 127,
   "id": "599f9d6f",
   "metadata": {},
   "outputs": [
    {
     "data": {
      "text/plain": [
       "65.55555555555556"
      ]
     },
     "execution_count": 127,
     "metadata": {},
     "output_type": "execute_result"
    }
   ],
   "source": [
    "profile_score=profile_score*100\n",
    "profile_score"
   ]
  },
  {
   "cell_type": "code",
   "execution_count": 128,
   "id": "75896bee",
   "metadata": {},
   "outputs": [],
   "source": [
    "#financial score"
   ]
  },
  {
   "cell_type": "raw",
   "id": "c0f162d9",
   "metadata": {},
   "source": [
    "\n",
    "i=0\n",
    "len(financial_hashtags[i])"
   ]
  },
  {
   "cell_type": "raw",
   "id": "58c81358",
   "metadata": {},
   "source": [
    "query=''+user_id\n",
    "i=0;\n",
    "while len(query)+len(financial_hashtags[i])+4<=512:\n",
    "    query+=' OR '+financial_hashtags[i];\n",
    "    i=i+1\n",
    "query"
   ]
  },
  {
   "cell_type": "code",
   "execution_count": 129,
   "id": "8294f4c3",
   "metadata": {},
   "outputs": [],
   "source": [
    "query=''+user_id+' python'"
   ]
  },
  {
   "cell_type": "code",
   "execution_count": 130,
   "id": "7fe72c13",
   "metadata": {},
   "outputs": [],
   "source": [
    "searched_tweets=twitter_client.search_tweets(query)"
   ]
  },
  {
   "cell_type": "code",
   "execution_count": 131,
   "id": "df31b537",
   "metadata": {},
   "outputs": [
    {
     "data": {
      "text/plain": [
       "[Status(_api=<tweepy.api.API object at 0x000001F333ADE8E0>, _json={'created_at': 'Sat Jul 03 11:29:09 +0000 2021', 'id': 1411285882787844099, 'id_str': '1411285882787844099', 'text': 'RT @pennylaneai: What are quantum computers, and how can we train them in Python?\\n\\nCheck out this crunchy talk from PennyLane lead dev @3rd…', 'truncated': False, 'entities': {'hashtags': [], 'symbols': [], 'user_mentions': [{'screen_name': 'pennylaneai', 'name': 'PennyLane', 'id': 1177708421166112768, 'id_str': '1177708421166112768', 'indices': [3, 15]}], 'urls': []}, 'metadata': {'iso_language_code': 'en', 'result_type': 'recent'}, 'source': '<a href=\"https://mobile.twitter.com\" rel=\"nofollow\">Twitter Web App</a>', 'in_reply_to_status_id': None, 'in_reply_to_status_id_str': None, 'in_reply_to_user_id': None, 'in_reply_to_user_id_str': None, 'in_reply_to_screen_name': None, 'user': {'id': 1373664574810025992, 'id_str': '1373664574810025992', 'name': 'Cellysia ∞ 🏳️\\u200d🌈 ∞', 'screen_name': '0lympicker', 'location': 'στην χωρα της μαλλορυ', 'description': 'Ω γλυκύ μου έαρ #quantumprogramming #neurodiverse #polytheist\\n#peacebetweencountries #knowledgeshouldbefree #rascistsnotwelcome #nopolitics #development #music', 'url': 'https://t.co/IzJK5a4mMp', 'entities': {'url': {'urls': [{'url': 'https://t.co/IzJK5a4mMp', 'expanded_url': 'https://twitter.com/search?q=from%3A0lympicker%20exclude%3Areplies&src=typed_query', 'display_url': 'twitter.com/search?q=from%…', 'indices': [0, 23]}]}, 'description': {'urls': []}}, 'protected': False, 'followers_count': 615, 'friends_count': 1469, 'listed_count': 2, 'created_at': 'Sun Mar 21 15:58:13 +0000 2021', 'favourites_count': 11138, 'utc_offset': None, 'time_zone': None, 'geo_enabled': False, 'verified': False, 'statuses_count': 13657, 'lang': None, 'contributors_enabled': False, 'is_translator': False, 'is_translation_enabled': False, 'profile_background_color': 'F5F8FA', 'profile_background_image_url': None, 'profile_background_image_url_https': None, 'profile_background_tile': False, 'profile_image_url': 'http://pbs.twimg.com/profile_images/1411298249638567937/gpZIHFuq_normal.png', 'profile_image_url_https': 'https://pbs.twimg.com/profile_images/1411298249638567937/gpZIHFuq_normal.png', 'profile_banner_url': 'https://pbs.twimg.com/profile_banners/1373664574810025992/1625228141', 'profile_link_color': '1DA1F2', 'profile_sidebar_border_color': 'C0DEED', 'profile_sidebar_fill_color': 'DDEEF6', 'profile_text_color': '333333', 'profile_use_background_image': True, 'has_extended_profile': True, 'default_profile': True, 'default_profile_image': False, 'following': False, 'follow_request_sent': False, 'notifications': False, 'translator_type': 'none', 'withheld_in_countries': []}, 'geo': None, 'coordinates': None, 'place': None, 'contributors': None, 'retweeted_status': {'created_at': 'Mon Jun 07 13:14:50 +0000 2021', 'id': 1401890395743731713, 'id_str': '1401890395743731713', 'text': 'What are quantum computers, and how can we train them in Python?\\n\\nCheck out this crunchy talk from PennyLane lead d… https://t.co/Qfu0jsUOt7', 'truncated': True, 'entities': {'hashtags': [], 'symbols': [], 'user_mentions': [], 'urls': [{'url': 'https://t.co/Qfu0jsUOt7', 'expanded_url': 'https://twitter.com/i/web/status/1401890395743731713', 'display_url': 'twitter.com/i/web/status/1…', 'indices': [117, 140]}]}, 'metadata': {'iso_language_code': 'en', 'result_type': 'recent'}, 'source': '<a href=\"https://mobile.twitter.com\" rel=\"nofollow\">Twitter Web App</a>', 'in_reply_to_status_id': None, 'in_reply_to_status_id_str': None, 'in_reply_to_user_id': None, 'in_reply_to_user_id_str': None, 'in_reply_to_screen_name': None, 'user': {'id': 1177708421166112768, 'id_str': '1177708421166112768', 'name': 'PennyLane', 'screen_name': 'pennylaneai', 'location': '', 'description': 'Quantum machine learning, quantum computing, and quantum chemistry. By @XanaduAI. Runs on @awscloud #Cirq @qiskit @rigetti @IonQ_Inc @Tensorflow @Pytorch', 'url': 'https://t.co/gBmB3mh3t5', 'entities': {'url': {'urls': [{'url': 'https://t.co/gBmB3mh3t5', 'expanded_url': 'https://pennylane.ai', 'display_url': 'pennylane.ai', 'indices': [0, 23]}]}, 'description': {'urls': []}}, 'protected': False, 'followers_count': 2919, 'friends_count': 136, 'listed_count': 60, 'created_at': 'Fri Sep 27 22:15:53 +0000 2019', 'favourites_count': 442, 'utc_offset': None, 'time_zone': None, 'geo_enabled': False, 'verified': False, 'statuses_count': 460, 'lang': None, 'contributors_enabled': False, 'is_translator': False, 'is_translation_enabled': False, 'profile_background_color': 'F5F8FA', 'profile_background_image_url': None, 'profile_background_image_url_https': None, 'profile_background_tile': False, 'profile_image_url': 'http://pbs.twimg.com/profile_images/1184550423014891522/1_wDMflh_normal.jpg', 'profile_image_url_https': 'https://pbs.twimg.com/profile_images/1184550423014891522/1_wDMflh_normal.jpg', 'profile_banner_url': 'https://pbs.twimg.com/profile_banners/1177708421166112768/1571253908', 'profile_link_color': '1DA1F2', 'profile_sidebar_border_color': 'C0DEED', 'profile_sidebar_fill_color': 'DDEEF6', 'profile_text_color': '333333', 'profile_use_background_image': True, 'has_extended_profile': False, 'default_profile': True, 'default_profile_image': False, 'following': False, 'follow_request_sent': False, 'notifications': False, 'translator_type': 'none', 'withheld_in_countries': []}, 'geo': None, 'coordinates': None, 'place': None, 'contributors': None, 'is_quote_status': False, 'retweet_count': 7, 'favorite_count': 29, 'favorited': False, 'retweeted': False, 'possibly_sensitive': False, 'lang': 'en'}, 'is_quote_status': False, 'retweet_count': 7, 'favorite_count': 0, 'favorited': False, 'retweeted': False, 'possibly_sensitive': False, 'lang': 'en'}, created_at=datetime.datetime(2021, 7, 3, 11, 29, 9), id=1411285882787844099, id_str='1411285882787844099', text='RT @pennylaneai: What are quantum computers, and how can we train them in Python?\\n\\nCheck out this crunchy talk from PennyLane lead dev @3rd…', truncated=False, entities={'hashtags': [], 'symbols': [], 'user_mentions': [{'screen_name': 'pennylaneai', 'name': 'PennyLane', 'id': 1177708421166112768, 'id_str': '1177708421166112768', 'indices': [3, 15]}], 'urls': []}, metadata={'iso_language_code': 'en', 'result_type': 'recent'}, source='Twitter Web App', source_url='https://mobile.twitter.com', in_reply_to_status_id=None, in_reply_to_status_id_str=None, in_reply_to_user_id=None, in_reply_to_user_id_str=None, in_reply_to_screen_name=None, author=User(_api=<tweepy.api.API object at 0x000001F333ADE8E0>, _json={'id': 1373664574810025992, 'id_str': '1373664574810025992', 'name': 'Cellysia ∞ 🏳️\\u200d🌈 ∞', 'screen_name': '0lympicker', 'location': 'στην χωρα της μαλλορυ', 'description': 'Ω γλυκύ μου έαρ #quantumprogramming #neurodiverse #polytheist\\n#peacebetweencountries #knowledgeshouldbefree #rascistsnotwelcome #nopolitics #development #music', 'url': 'https://t.co/IzJK5a4mMp', 'entities': {'url': {'urls': [{'url': 'https://t.co/IzJK5a4mMp', 'expanded_url': 'https://twitter.com/search?q=from%3A0lympicker%20exclude%3Areplies&src=typed_query', 'display_url': 'twitter.com/search?q=from%…', 'indices': [0, 23]}]}, 'description': {'urls': []}}, 'protected': False, 'followers_count': 615, 'friends_count': 1469, 'listed_count': 2, 'created_at': 'Sun Mar 21 15:58:13 +0000 2021', 'favourites_count': 11138, 'utc_offset': None, 'time_zone': None, 'geo_enabled': False, 'verified': False, 'statuses_count': 13657, 'lang': None, 'contributors_enabled': False, 'is_translator': False, 'is_translation_enabled': False, 'profile_background_color': 'F5F8FA', 'profile_background_image_url': None, 'profile_background_image_url_https': None, 'profile_background_tile': False, 'profile_image_url': 'http://pbs.twimg.com/profile_images/1411298249638567937/gpZIHFuq_normal.png', 'profile_image_url_https': 'https://pbs.twimg.com/profile_images/1411298249638567937/gpZIHFuq_normal.png', 'profile_banner_url': 'https://pbs.twimg.com/profile_banners/1373664574810025992/1625228141', 'profile_link_color': '1DA1F2', 'profile_sidebar_border_color': 'C0DEED', 'profile_sidebar_fill_color': 'DDEEF6', 'profile_text_color': '333333', 'profile_use_background_image': True, 'has_extended_profile': True, 'default_profile': True, 'default_profile_image': False, 'following': False, 'follow_request_sent': False, 'notifications': False, 'translator_type': 'none', 'withheld_in_countries': []}, id=1373664574810025992, id_str='1373664574810025992', name='Cellysia ∞ 🏳️\\u200d🌈 ∞', screen_name='0lympicker', location='στην χωρα της μαλλορυ', description='Ω γλυκύ μου έαρ #quantumprogramming #neurodiverse #polytheist\\n#peacebetweencountries #knowledgeshouldbefree #rascistsnotwelcome #nopolitics #development #music', url='https://t.co/IzJK5a4mMp', entities={'url': {'urls': [{'url': 'https://t.co/IzJK5a4mMp', 'expanded_url': 'https://twitter.com/search?q=from%3A0lympicker%20exclude%3Areplies&src=typed_query', 'display_url': 'twitter.com/search?q=from%…', 'indices': [0, 23]}]}, 'description': {'urls': []}}, protected=False, followers_count=615, friends_count=1469, listed_count=2, created_at=datetime.datetime(2021, 3, 21, 15, 58, 13), favourites_count=11138, utc_offset=None, time_zone=None, geo_enabled=False, verified=False, statuses_count=13657, lang=None, contributors_enabled=False, is_translator=False, is_translation_enabled=False, profile_background_color='F5F8FA', profile_background_image_url=None, profile_background_image_url_https=None, profile_background_tile=False, profile_image_url='http://pbs.twimg.com/profile_images/1411298249638567937/gpZIHFuq_normal.png', profile_image_url_https='https://pbs.twimg.com/profile_images/1411298249638567937/gpZIHFuq_normal.png', profile_banner_url='https://pbs.twimg.com/profile_banners/1373664574810025992/1625228141', profile_link_color='1DA1F2', profile_sidebar_border_color='C0DEED', profile_sidebar_fill_color='DDEEF6', profile_text_color='333333', profile_use_background_image=True, has_extended_profile=True, default_profile=True, default_profile_image=False, following=False, follow_request_sent=False, notifications=False, translator_type='none', withheld_in_countries=[]), user=User(_api=<tweepy.api.API object at 0x000001F333ADE8E0>, _json={'id': 1373664574810025992, 'id_str': '1373664574810025992', 'name': 'Cellysia ∞ 🏳️\\u200d🌈 ∞', 'screen_name': '0lympicker', 'location': 'στην χωρα της μαλλορυ', 'description': 'Ω γλυκύ μου έαρ #quantumprogramming #neurodiverse #polytheist\\n#peacebetweencountries #knowledgeshouldbefree #rascistsnotwelcome #nopolitics #development #music', 'url': 'https://t.co/IzJK5a4mMp', 'entities': {'url': {'urls': [{'url': 'https://t.co/IzJK5a4mMp', 'expanded_url': 'https://twitter.com/search?q=from%3A0lympicker%20exclude%3Areplies&src=typed_query', 'display_url': 'twitter.com/search?q=from%…', 'indices': [0, 23]}]}, 'description': {'urls': []}}, 'protected': False, 'followers_count': 615, 'friends_count': 1469, 'listed_count': 2, 'created_at': 'Sun Mar 21 15:58:13 +0000 2021', 'favourites_count': 11138, 'utc_offset': None, 'time_zone': None, 'geo_enabled': False, 'verified': False, 'statuses_count': 13657, 'lang': None, 'contributors_enabled': False, 'is_translator': False, 'is_translation_enabled': False, 'profile_background_color': 'F5F8FA', 'profile_background_image_url': None, 'profile_background_image_url_https': None, 'profile_background_tile': False, 'profile_image_url': 'http://pbs.twimg.com/profile_images/1411298249638567937/gpZIHFuq_normal.png', 'profile_image_url_https': 'https://pbs.twimg.com/profile_images/1411298249638567937/gpZIHFuq_normal.png', 'profile_banner_url': 'https://pbs.twimg.com/profile_banners/1373664574810025992/1625228141', 'profile_link_color': '1DA1F2', 'profile_sidebar_border_color': 'C0DEED', 'profile_sidebar_fill_color': 'DDEEF6', 'profile_text_color': '333333', 'profile_use_background_image': True, 'has_extended_profile': True, 'default_profile': True, 'default_profile_image': False, 'following': False, 'follow_request_sent': False, 'notifications': False, 'translator_type': 'none', 'withheld_in_countries': []}, id=1373664574810025992, id_str='1373664574810025992', name='Cellysia ∞ 🏳️\\u200d🌈 ∞', screen_name='0lympicker', location='στην χωρα της μαλλορυ', description='Ω γλυκύ μου έαρ #quantumprogramming #neurodiverse #polytheist\\n#peacebetweencountries #knowledgeshouldbefree #rascistsnotwelcome #nopolitics #development #music', url='https://t.co/IzJK5a4mMp', entities={'url': {'urls': [{'url': 'https://t.co/IzJK5a4mMp', 'expanded_url': 'https://twitter.com/search?q=from%3A0lympicker%20exclude%3Areplies&src=typed_query', 'display_url': 'twitter.com/search?q=from%…', 'indices': [0, 23]}]}, 'description': {'urls': []}}, protected=False, followers_count=615, friends_count=1469, listed_count=2, created_at=datetime.datetime(2021, 3, 21, 15, 58, 13), favourites_count=11138, utc_offset=None, time_zone=None, geo_enabled=False, verified=False, statuses_count=13657, lang=None, contributors_enabled=False, is_translator=False, is_translation_enabled=False, profile_background_color='F5F8FA', profile_background_image_url=None, profile_background_image_url_https=None, profile_background_tile=False, profile_image_url='http://pbs.twimg.com/profile_images/1411298249638567937/gpZIHFuq_normal.png', profile_image_url_https='https://pbs.twimg.com/profile_images/1411298249638567937/gpZIHFuq_normal.png', profile_banner_url='https://pbs.twimg.com/profile_banners/1373664574810025992/1625228141', profile_link_color='1DA1F2', profile_sidebar_border_color='C0DEED', profile_sidebar_fill_color='DDEEF6', profile_text_color='333333', profile_use_background_image=True, has_extended_profile=True, default_profile=True, default_profile_image=False, following=False, follow_request_sent=False, notifications=False, translator_type='none', withheld_in_countries=[]), geo=None, coordinates=None, place=None, contributors=None, retweeted_status=Status(_api=<tweepy.api.API object at 0x000001F333ADE8E0>, _json={'created_at': 'Mon Jun 07 13:14:50 +0000 2021', 'id': 1401890395743731713, 'id_str': '1401890395743731713', 'text': 'What are quantum computers, and how can we train them in Python?\\n\\nCheck out this crunchy talk from PennyLane lead d… https://t.co/Qfu0jsUOt7', 'truncated': True, 'entities': {'hashtags': [], 'symbols': [], 'user_mentions': [], 'urls': [{'url': 'https://t.co/Qfu0jsUOt7', 'expanded_url': 'https://twitter.com/i/web/status/1401890395743731713', 'display_url': 'twitter.com/i/web/status/1…', 'indices': [117, 140]}]}, 'metadata': {'iso_language_code': 'en', 'result_type': 'recent'}, 'source': '<a href=\"https://mobile.twitter.com\" rel=\"nofollow\">Twitter Web App</a>', 'in_reply_to_status_id': None, 'in_reply_to_status_id_str': None, 'in_reply_to_user_id': None, 'in_reply_to_user_id_str': None, 'in_reply_to_screen_name': None, 'user': {'id': 1177708421166112768, 'id_str': '1177708421166112768', 'name': 'PennyLane', 'screen_name': 'pennylaneai', 'location': '', 'description': 'Quantum machine learning, quantum computing, and quantum chemistry. By @XanaduAI. Runs on @awscloud #Cirq @qiskit @rigetti @IonQ_Inc @Tensorflow @Pytorch', 'url': 'https://t.co/gBmB3mh3t5', 'entities': {'url': {'urls': [{'url': 'https://t.co/gBmB3mh3t5', 'expanded_url': 'https://pennylane.ai', 'display_url': 'pennylane.ai', 'indices': [0, 23]}]}, 'description': {'urls': []}}, 'protected': False, 'followers_count': 2919, 'friends_count': 136, 'listed_count': 60, 'created_at': 'Fri Sep 27 22:15:53 +0000 2019', 'favourites_count': 442, 'utc_offset': None, 'time_zone': None, 'geo_enabled': False, 'verified': False, 'statuses_count': 460, 'lang': None, 'contributors_enabled': False, 'is_translator': False, 'is_translation_enabled': False, 'profile_background_color': 'F5F8FA', 'profile_background_image_url': None, 'profile_background_image_url_https': None, 'profile_background_tile': False, 'profile_image_url': 'http://pbs.twimg.com/profile_images/1184550423014891522/1_wDMflh_normal.jpg', 'profile_image_url_https': 'https://pbs.twimg.com/profile_images/1184550423014891522/1_wDMflh_normal.jpg', 'profile_banner_url': 'https://pbs.twimg.com/profile_banners/1177708421166112768/1571253908', 'profile_link_color': '1DA1F2', 'profile_sidebar_border_color': 'C0DEED', 'profile_sidebar_fill_color': 'DDEEF6', 'profile_text_color': '333333', 'profile_use_background_image': True, 'has_extended_profile': False, 'default_profile': True, 'default_profile_image': False, 'following': False, 'follow_request_sent': False, 'notifications': False, 'translator_type': 'none', 'withheld_in_countries': []}, 'geo': None, 'coordinates': None, 'place': None, 'contributors': None, 'is_quote_status': False, 'retweet_count': 7, 'favorite_count': 29, 'favorited': False, 'retweeted': False, 'possibly_sensitive': False, 'lang': 'en'}, created_at=datetime.datetime(2021, 6, 7, 13, 14, 50), id=1401890395743731713, id_str='1401890395743731713', text='What are quantum computers, and how can we train them in Python?\\n\\nCheck out this crunchy talk from PennyLane lead d… https://t.co/Qfu0jsUOt7', truncated=True, entities={'hashtags': [], 'symbols': [], 'user_mentions': [], 'urls': [{'url': 'https://t.co/Qfu0jsUOt7', 'expanded_url': 'https://twitter.com/i/web/status/1401890395743731713', 'display_url': 'twitter.com/i/web/status/1…', 'indices': [117, 140]}]}, metadata={'iso_language_code': 'en', 'result_type': 'recent'}, source='Twitter Web App', source_url='https://mobile.twitter.com', in_reply_to_status_id=None, in_reply_to_status_id_str=None, in_reply_to_user_id=None, in_reply_to_user_id_str=None, in_reply_to_screen_name=None, author=User(_api=<tweepy.api.API object at 0x000001F333ADE8E0>, _json={'id': 1177708421166112768, 'id_str': '1177708421166112768', 'name': 'PennyLane', 'screen_name': 'pennylaneai', 'location': '', 'description': 'Quantum machine learning, quantum computing, and quantum chemistry. By @XanaduAI. Runs on @awscloud #Cirq @qiskit @rigetti @IonQ_Inc @Tensorflow @Pytorch', 'url': 'https://t.co/gBmB3mh3t5', 'entities': {'url': {'urls': [{'url': 'https://t.co/gBmB3mh3t5', 'expanded_url': 'https://pennylane.ai', 'display_url': 'pennylane.ai', 'indices': [0, 23]}]}, 'description': {'urls': []}}, 'protected': False, 'followers_count': 2919, 'friends_count': 136, 'listed_count': 60, 'created_at': 'Fri Sep 27 22:15:53 +0000 2019', 'favourites_count': 442, 'utc_offset': None, 'time_zone': None, 'geo_enabled': False, 'verified': False, 'statuses_count': 460, 'lang': None, 'contributors_enabled': False, 'is_translator': False, 'is_translation_enabled': False, 'profile_background_color': 'F5F8FA', 'profile_background_image_url': None, 'profile_background_image_url_https': None, 'profile_background_tile': False, 'profile_image_url': 'http://pbs.twimg.com/profile_images/1184550423014891522/1_wDMflh_normal.jpg', 'profile_image_url_https': 'https://pbs.twimg.com/profile_images/1184550423014891522/1_wDMflh_normal.jpg', 'profile_banner_url': 'https://pbs.twimg.com/profile_banners/1177708421166112768/1571253908', 'profile_link_color': '1DA1F2', 'profile_sidebar_border_color': 'C0DEED', 'profile_sidebar_fill_color': 'DDEEF6', 'profile_text_color': '333333', 'profile_use_background_image': True, 'has_extended_profile': False, 'default_profile': True, 'default_profile_image': False, 'following': False, 'follow_request_sent': False, 'notifications': False, 'translator_type': 'none', 'withheld_in_countries': []}, id=1177708421166112768, id_str='1177708421166112768', name='PennyLane', screen_name='pennylaneai', location='', description='Quantum machine learning, quantum computing, and quantum chemistry. By @XanaduAI. Runs on @awscloud #Cirq @qiskit @rigetti @IonQ_Inc @Tensorflow @Pytorch', url='https://t.co/gBmB3mh3t5', entities={'url': {'urls': [{'url': 'https://t.co/gBmB3mh3t5', 'expanded_url': 'https://pennylane.ai', 'display_url': 'pennylane.ai', 'indices': [0, 23]}]}, 'description': {'urls': []}}, protected=False, followers_count=2919, friends_count=136, listed_count=60, created_at=datetime.datetime(2019, 9, 27, 22, 15, 53), favourites_count=442, utc_offset=None, time_zone=None, geo_enabled=False, verified=False, statuses_count=460, lang=None, contributors_enabled=False, is_translator=False, is_translation_enabled=False, profile_background_color='F5F8FA', profile_background_image_url=None, profile_background_image_url_https=None, profile_background_tile=False, profile_image_url='http://pbs.twimg.com/profile_images/1184550423014891522/1_wDMflh_normal.jpg', profile_image_url_https='https://pbs.twimg.com/profile_images/1184550423014891522/1_wDMflh_normal.jpg', profile_banner_url='https://pbs.twimg.com/profile_banners/1177708421166112768/1571253908', profile_link_color='1DA1F2', profile_sidebar_border_color='C0DEED', profile_sidebar_fill_color='DDEEF6', profile_text_color='333333', profile_use_background_image=True, has_extended_profile=False, default_profile=True, default_profile_image=False, following=False, follow_request_sent=False, notifications=False, translator_type='none', withheld_in_countries=[]), user=User(_api=<tweepy.api.API object at 0x000001F333ADE8E0>, _json={'id': 1177708421166112768, 'id_str': '1177708421166112768', 'name': 'PennyLane', 'screen_name': 'pennylaneai', 'location': '', 'description': 'Quantum machine learning, quantum computing, and quantum chemistry. By @XanaduAI. Runs on @awscloud #Cirq @qiskit @rigetti @IonQ_Inc @Tensorflow @Pytorch', 'url': 'https://t.co/gBmB3mh3t5', 'entities': {'url': {'urls': [{'url': 'https://t.co/gBmB3mh3t5', 'expanded_url': 'https://pennylane.ai', 'display_url': 'pennylane.ai', 'indices': [0, 23]}]}, 'description': {'urls': []}}, 'protected': False, 'followers_count': 2919, 'friends_count': 136, 'listed_count': 60, 'created_at': 'Fri Sep 27 22:15:53 +0000 2019', 'favourites_count': 442, 'utc_offset': None, 'time_zone': None, 'geo_enabled': False, 'verified': False, 'statuses_count': 460, 'lang': None, 'contributors_enabled': False, 'is_translator': False, 'is_translation_enabled': False, 'profile_background_color': 'F5F8FA', 'profile_background_image_url': None, 'profile_background_image_url_https': None, 'profile_background_tile': False, 'profile_image_url': 'http://pbs.twimg.com/profile_images/1184550423014891522/1_wDMflh_normal.jpg', 'profile_image_url_https': 'https://pbs.twimg.com/profile_images/1184550423014891522/1_wDMflh_normal.jpg', 'profile_banner_url': 'https://pbs.twimg.com/profile_banners/1177708421166112768/1571253908', 'profile_link_color': '1DA1F2', 'profile_sidebar_border_color': 'C0DEED', 'profile_sidebar_fill_color': 'DDEEF6', 'profile_text_color': '333333', 'profile_use_background_image': True, 'has_extended_profile': False, 'default_profile': True, 'default_profile_image': False, 'following': False, 'follow_request_sent': False, 'notifications': False, 'translator_type': 'none', 'withheld_in_countries': []}, id=1177708421166112768, id_str='1177708421166112768', name='PennyLane', screen_name='pennylaneai', location='', description='Quantum machine learning, quantum computing, and quantum chemistry. By @XanaduAI. Runs on @awscloud #Cirq @qiskit @rigetti @IonQ_Inc @Tensorflow @Pytorch', url='https://t.co/gBmB3mh3t5', entities={'url': {'urls': [{'url': 'https://t.co/gBmB3mh3t5', 'expanded_url': 'https://pennylane.ai', 'display_url': 'pennylane.ai', 'indices': [0, 23]}]}, 'description': {'urls': []}}, protected=False, followers_count=2919, friends_count=136, listed_count=60, created_at=datetime.datetime(2019, 9, 27, 22, 15, 53), favourites_count=442, utc_offset=None, time_zone=None, geo_enabled=False, verified=False, statuses_count=460, lang=None, contributors_enabled=False, is_translator=False, is_translation_enabled=False, profile_background_color='F5F8FA', profile_background_image_url=None, profile_background_image_url_https=None, profile_background_tile=False, profile_image_url='http://pbs.twimg.com/profile_images/1184550423014891522/1_wDMflh_normal.jpg', profile_image_url_https='https://pbs.twimg.com/profile_images/1184550423014891522/1_wDMflh_normal.jpg', profile_banner_url='https://pbs.twimg.com/profile_banners/1177708421166112768/1571253908', profile_link_color='1DA1F2', profile_sidebar_border_color='C0DEED', profile_sidebar_fill_color='DDEEF6', profile_text_color='333333', profile_use_background_image=True, has_extended_profile=False, default_profile=True, default_profile_image=False, following=False, follow_request_sent=False, notifications=False, translator_type='none', withheld_in_countries=[]), geo=None, coordinates=None, place=None, contributors=None, is_quote_status=False, retweet_count=7, favorite_count=29, favorited=False, retweeted=False, possibly_sensitive=False, lang='en'), is_quote_status=False, retweet_count=7, favorite_count=0, favorited=False, retweeted=False, possibly_sensitive=False, lang='en'),\n",
       " Status(_api=<tweepy.api.API object at 0x000001F333ADE8E0>, _json={'created_at': 'Fri Jul 02 23:00:10 +0000 2021', 'id': 1411097394813542400, 'id_str': '1411097394813542400', 'text': 'RT @EduardoValenteI: #engineer👉just followedme! on #Twitter @Pytlicek\\n#TomasPytel #influencer in #London, #England\\nPython engineer.@PyCon s…', 'truncated': False, 'entities': {'hashtags': [{'text': 'engineer', 'indices': [21, 30]}, {'text': 'Twitter', 'indices': [51, 59]}, {'text': 'TomasPytel', 'indices': [70, 81]}, {'text': 'influencer', 'indices': [82, 93]}, {'text': 'London', 'indices': [97, 104]}, {'text': 'England', 'indices': [106, 114]}], 'symbols': [], 'user_mentions': [{'screen_name': 'EduardoValenteI', 'name': 'Eduardo Valente', 'id': 2589984816, 'id_str': '2589984816', 'indices': [3, 19]}, {'screen_name': 'Pytlicek', 'name': 'Tomas Pytel', 'id': 207632758, 'id_str': '207632758', 'indices': [60, 69]}, {'screen_name': 'pycon', 'name': 'PyCon US', 'id': 9475182, 'id_str': '9475182', 'indices': [131, 137]}], 'urls': []}, 'metadata': {'iso_language_code': 'en', 'result_type': 'recent'}, 'source': '<a href=\"http://broconut.com/websummit/init.php\" rel=\"nofollow\">Web Summit Bot</a>', 'in_reply_to_status_id': None, 'in_reply_to_status_id_str': None, 'in_reply_to_user_id': None, 'in_reply_to_user_id_str': None, 'in_reply_to_screen_name': None, 'user': {'id': 2163813157, 'id_str': '2163813157', 'name': 'WebSummit Bot', 'screen_name': 'WebSummitBot', 'location': '', 'description': \"Re-tweeting all the best from the Hashtag #websummit using Twitter's glorious API.  Built by @Cian_911\", 'url': None, 'entities': {'description': {'urls': []}}, 'protected': False, 'followers_count': 1770, 'friends_count': 44, 'listed_count': 876, 'created_at': 'Wed Oct 30 00:42:55 +0000 2013', 'favourites_count': 13, 'utc_offset': None, 'time_zone': None, 'geo_enabled': False, 'verified': False, 'statuses_count': 29630, 'lang': None, 'contributors_enabled': False, 'is_translator': False, 'is_translation_enabled': False, 'profile_background_color': 'C0DEED', 'profile_background_image_url': 'http://abs.twimg.com/images/themes/theme1/bg.png', 'profile_background_image_url_https': 'https://abs.twimg.com/images/themes/theme1/bg.png', 'profile_background_tile': False, 'profile_image_url': 'http://pbs.twimg.com/profile_images/661288346287779840/hVlzqsS9_normal.png', 'profile_image_url_https': 'https://pbs.twimg.com/profile_images/661288346287779840/hVlzqsS9_normal.png', 'profile_banner_url': 'https://pbs.twimg.com/profile_banners/2163813157/1414943987', 'profile_link_color': '1DA1F2', 'profile_sidebar_border_color': 'C0DEED', 'profile_sidebar_fill_color': 'DDEEF6', 'profile_text_color': '333333', 'profile_use_background_image': True, 'has_extended_profile': False, 'default_profile': True, 'default_profile_image': False, 'following': False, 'follow_request_sent': False, 'notifications': False, 'translator_type': 'none', 'withheld_in_countries': []}, 'geo': None, 'coordinates': None, 'place': None, 'contributors': None, 'retweeted_status': {'created_at': 'Fri Jul 02 10:43:16 +0000 2021', 'id': 1410911948238163971, 'id_str': '1410911948238163971', 'text': '#engineer👉just followedme! on #Twitter @Pytlicek\\n#TomasPytel #influencer in #London, #England\\nPython engineer.… https://t.co/y8Urir2tXe', 'truncated': True, 'entities': {'hashtags': [{'text': 'engineer', 'indices': [0, 9]}, {'text': 'Twitter', 'indices': [30, 38]}, {'text': 'TomasPytel', 'indices': [49, 60]}, {'text': 'influencer', 'indices': [61, 72]}, {'text': 'London', 'indices': [76, 83]}, {'text': 'England', 'indices': [85, 93]}], 'symbols': [], 'user_mentions': [{'screen_name': 'Pytlicek', 'name': 'Tomas Pytel', 'id': 207632758, 'id_str': '207632758', 'indices': [39, 48]}], 'urls': [{'url': 'https://t.co/y8Urir2tXe', 'expanded_url': 'https://twitter.com/i/web/status/1410911948238163971', 'display_url': 'twitter.com/i/web/status/1…', 'indices': [112, 135]}]}, 'metadata': {'iso_language_code': 'en', 'result_type': 'recent'}, 'source': '<a href=\"https://mobile.twitter.com\" rel=\"nofollow\">Twitter Web App</a>', 'in_reply_to_status_id': None, 'in_reply_to_status_id_str': None, 'in_reply_to_user_id': None, 'in_reply_to_user_id_str': None, 'in_reply_to_screen_name': None, 'user': {'id': 2589984816, 'id_str': '2589984816', 'name': 'Eduardo Valente', 'screen_name': 'EduardoValenteI', 'location': 'SãoPaulo SampaCity Brasil 🇧🇷', 'description': 'criação #B2C #B2B consultor #Seoparaecommerce #SeoparaWebSite\\nPara #empresaonline👉https://t.co/zTUaaEvBQ0 #EV #EduardoValente', 'url': 'https://t.co/029AsFQZFA', 'entities': {'url': {'urls': [{'url': 'https://t.co/029AsFQZFA', 'expanded_url': 'http://youtu.be/vz1tBFu6CqI', 'display_url': 'youtu.be/vz1tBFu6CqI', 'indices': [0, 23]}]}, 'description': {'urls': [{'url': 'https://t.co/zTUaaEvBQ0', 'expanded_url': 'https://www.gettr.com/user/motoresdebusca', 'display_url': 'gettr.com/user/motoresde…', 'indices': [82, 105]}]}}, 'protected': False, 'followers_count': 4014, 'friends_count': 3384, 'listed_count': 102, 'created_at': 'Thu Jun 26 17:50:52 +0000 2014', 'favourites_count': 12025, 'utc_offset': None, 'time_zone': None, 'geo_enabled': True, 'verified': False, 'statuses_count': 34674, 'lang': None, 'contributors_enabled': False, 'is_translator': False, 'is_translation_enabled': False, 'profile_background_color': 'C0DEED', 'profile_background_image_url': 'http://abs.twimg.com/images/themes/theme1/bg.png', 'profile_background_image_url_https': 'https://abs.twimg.com/images/themes/theme1/bg.png', 'profile_background_tile': False, 'profile_image_url': 'http://pbs.twimg.com/profile_images/887391369727225857/XWy2Ykgo_normal.jpg', 'profile_image_url_https': 'https://pbs.twimg.com/profile_images/887391369727225857/XWy2Ykgo_normal.jpg', 'profile_banner_url': 'https://pbs.twimg.com/profile_banners/2589984816/1623251423', 'profile_link_color': '1DA1F2', 'profile_sidebar_border_color': 'C0DEED', 'profile_sidebar_fill_color': 'DDEEF6', 'profile_text_color': '333333', 'profile_use_background_image': True, 'has_extended_profile': True, 'default_profile': True, 'default_profile_image': False, 'following': False, 'follow_request_sent': False, 'notifications': False, 'translator_type': 'none', 'withheld_in_countries': []}, 'geo': None, 'coordinates': None, 'place': None, 'contributors': None, 'is_quote_status': False, 'retweet_count': 2, 'favorite_count': 0, 'favorited': False, 'retweeted': False, 'possibly_sensitive': False, 'lang': 'en'}, 'is_quote_status': False, 'retweet_count': 2, 'favorite_count': 0, 'favorited': False, 'retweeted': False, 'lang': 'en'}, created_at=datetime.datetime(2021, 7, 2, 23, 0, 10), id=1411097394813542400, id_str='1411097394813542400', text='RT @EduardoValenteI: #engineer👉just followedme! on #Twitter @Pytlicek\\n#TomasPytel #influencer in #London, #England\\nPython engineer.@PyCon s…', truncated=False, entities={'hashtags': [{'text': 'engineer', 'indices': [21, 30]}, {'text': 'Twitter', 'indices': [51, 59]}, {'text': 'TomasPytel', 'indices': [70, 81]}, {'text': 'influencer', 'indices': [82, 93]}, {'text': 'London', 'indices': [97, 104]}, {'text': 'England', 'indices': [106, 114]}], 'symbols': [], 'user_mentions': [{'screen_name': 'EduardoValenteI', 'name': 'Eduardo Valente', 'id': 2589984816, 'id_str': '2589984816', 'indices': [3, 19]}, {'screen_name': 'Pytlicek', 'name': 'Tomas Pytel', 'id': 207632758, 'id_str': '207632758', 'indices': [60, 69]}, {'screen_name': 'pycon', 'name': 'PyCon US', 'id': 9475182, 'id_str': '9475182', 'indices': [131, 137]}], 'urls': []}, metadata={'iso_language_code': 'en', 'result_type': 'recent'}, source='Web Summit Bot', source_url='http://broconut.com/websummit/init.php', in_reply_to_status_id=None, in_reply_to_status_id_str=None, in_reply_to_user_id=None, in_reply_to_user_id_str=None, in_reply_to_screen_name=None, author=User(_api=<tweepy.api.API object at 0x000001F333ADE8E0>, _json={'id': 2163813157, 'id_str': '2163813157', 'name': 'WebSummit Bot', 'screen_name': 'WebSummitBot', 'location': '', 'description': \"Re-tweeting all the best from the Hashtag #websummit using Twitter's glorious API.  Built by @Cian_911\", 'url': None, 'entities': {'description': {'urls': []}}, 'protected': False, 'followers_count': 1770, 'friends_count': 44, 'listed_count': 876, 'created_at': 'Wed Oct 30 00:42:55 +0000 2013', 'favourites_count': 13, 'utc_offset': None, 'time_zone': None, 'geo_enabled': False, 'verified': False, 'statuses_count': 29630, 'lang': None, 'contributors_enabled': False, 'is_translator': False, 'is_translation_enabled': False, 'profile_background_color': 'C0DEED', 'profile_background_image_url': 'http://abs.twimg.com/images/themes/theme1/bg.png', 'profile_background_image_url_https': 'https://abs.twimg.com/images/themes/theme1/bg.png', 'profile_background_tile': False, 'profile_image_url': 'http://pbs.twimg.com/profile_images/661288346287779840/hVlzqsS9_normal.png', 'profile_image_url_https': 'https://pbs.twimg.com/profile_images/661288346287779840/hVlzqsS9_normal.png', 'profile_banner_url': 'https://pbs.twimg.com/profile_banners/2163813157/1414943987', 'profile_link_color': '1DA1F2', 'profile_sidebar_border_color': 'C0DEED', 'profile_sidebar_fill_color': 'DDEEF6', 'profile_text_color': '333333', 'profile_use_background_image': True, 'has_extended_profile': False, 'default_profile': True, 'default_profile_image': False, 'following': False, 'follow_request_sent': False, 'notifications': False, 'translator_type': 'none', 'withheld_in_countries': []}, id=2163813157, id_str='2163813157', name='WebSummit Bot', screen_name='WebSummitBot', location='', description=\"Re-tweeting all the best from the Hashtag #websummit using Twitter's glorious API.  Built by @Cian_911\", url=None, entities={'description': {'urls': []}}, protected=False, followers_count=1770, friends_count=44, listed_count=876, created_at=datetime.datetime(2013, 10, 30, 0, 42, 55), favourites_count=13, utc_offset=None, time_zone=None, geo_enabled=False, verified=False, statuses_count=29630, lang=None, contributors_enabled=False, is_translator=False, is_translation_enabled=False, profile_background_color='C0DEED', profile_background_image_url='http://abs.twimg.com/images/themes/theme1/bg.png', profile_background_image_url_https='https://abs.twimg.com/images/themes/theme1/bg.png', profile_background_tile=False, profile_image_url='http://pbs.twimg.com/profile_images/661288346287779840/hVlzqsS9_normal.png', profile_image_url_https='https://pbs.twimg.com/profile_images/661288346287779840/hVlzqsS9_normal.png', profile_banner_url='https://pbs.twimg.com/profile_banners/2163813157/1414943987', profile_link_color='1DA1F2', profile_sidebar_border_color='C0DEED', profile_sidebar_fill_color='DDEEF6', profile_text_color='333333', profile_use_background_image=True, has_extended_profile=False, default_profile=True, default_profile_image=False, following=False, follow_request_sent=False, notifications=False, translator_type='none', withheld_in_countries=[]), user=User(_api=<tweepy.api.API object at 0x000001F333ADE8E0>, _json={'id': 2163813157, 'id_str': '2163813157', 'name': 'WebSummit Bot', 'screen_name': 'WebSummitBot', 'location': '', 'description': \"Re-tweeting all the best from the Hashtag #websummit using Twitter's glorious API.  Built by @Cian_911\", 'url': None, 'entities': {'description': {'urls': []}}, 'protected': False, 'followers_count': 1770, 'friends_count': 44, 'listed_count': 876, 'created_at': 'Wed Oct 30 00:42:55 +0000 2013', 'favourites_count': 13, 'utc_offset': None, 'time_zone': None, 'geo_enabled': False, 'verified': False, 'statuses_count': 29630, 'lang': None, 'contributors_enabled': False, 'is_translator': False, 'is_translation_enabled': False, 'profile_background_color': 'C0DEED', 'profile_background_image_url': 'http://abs.twimg.com/images/themes/theme1/bg.png', 'profile_background_image_url_https': 'https://abs.twimg.com/images/themes/theme1/bg.png', 'profile_background_tile': False, 'profile_image_url': 'http://pbs.twimg.com/profile_images/661288346287779840/hVlzqsS9_normal.png', 'profile_image_url_https': 'https://pbs.twimg.com/profile_images/661288346287779840/hVlzqsS9_normal.png', 'profile_banner_url': 'https://pbs.twimg.com/profile_banners/2163813157/1414943987', 'profile_link_color': '1DA1F2', 'profile_sidebar_border_color': 'C0DEED', 'profile_sidebar_fill_color': 'DDEEF6', 'profile_text_color': '333333', 'profile_use_background_image': True, 'has_extended_profile': False, 'default_profile': True, 'default_profile_image': False, 'following': False, 'follow_request_sent': False, 'notifications': False, 'translator_type': 'none', 'withheld_in_countries': []}, id=2163813157, id_str='2163813157', name='WebSummit Bot', screen_name='WebSummitBot', location='', description=\"Re-tweeting all the best from the Hashtag #websummit using Twitter's glorious API.  Built by @Cian_911\", url=None, entities={'description': {'urls': []}}, protected=False, followers_count=1770, friends_count=44, listed_count=876, created_at=datetime.datetime(2013, 10, 30, 0, 42, 55), favourites_count=13, utc_offset=None, time_zone=None, geo_enabled=False, verified=False, statuses_count=29630, lang=None, contributors_enabled=False, is_translator=False, is_translation_enabled=False, profile_background_color='C0DEED', profile_background_image_url='http://abs.twimg.com/images/themes/theme1/bg.png', profile_background_image_url_https='https://abs.twimg.com/images/themes/theme1/bg.png', profile_background_tile=False, profile_image_url='http://pbs.twimg.com/profile_images/661288346287779840/hVlzqsS9_normal.png', profile_image_url_https='https://pbs.twimg.com/profile_images/661288346287779840/hVlzqsS9_normal.png', profile_banner_url='https://pbs.twimg.com/profile_banners/2163813157/1414943987', profile_link_color='1DA1F2', profile_sidebar_border_color='C0DEED', profile_sidebar_fill_color='DDEEF6', profile_text_color='333333', profile_use_background_image=True, has_extended_profile=False, default_profile=True, default_profile_image=False, following=False, follow_request_sent=False, notifications=False, translator_type='none', withheld_in_countries=[]), geo=None, coordinates=None, place=None, contributors=None, retweeted_status=Status(_api=<tweepy.api.API object at 0x000001F333ADE8E0>, _json={'created_at': 'Fri Jul 02 10:43:16 +0000 2021', 'id': 1410911948238163971, 'id_str': '1410911948238163971', 'text': '#engineer👉just followedme! on #Twitter @Pytlicek\\n#TomasPytel #influencer in #London, #England\\nPython engineer.… https://t.co/y8Urir2tXe', 'truncated': True, 'entities': {'hashtags': [{'text': 'engineer', 'indices': [0, 9]}, {'text': 'Twitter', 'indices': [30, 38]}, {'text': 'TomasPytel', 'indices': [49, 60]}, {'text': 'influencer', 'indices': [61, 72]}, {'text': 'London', 'indices': [76, 83]}, {'text': 'England', 'indices': [85, 93]}], 'symbols': [], 'user_mentions': [{'screen_name': 'Pytlicek', 'name': 'Tomas Pytel', 'id': 207632758, 'id_str': '207632758', 'indices': [39, 48]}], 'urls': [{'url': 'https://t.co/y8Urir2tXe', 'expanded_url': 'https://twitter.com/i/web/status/1410911948238163971', 'display_url': 'twitter.com/i/web/status/1…', 'indices': [112, 135]}]}, 'metadata': {'iso_language_code': 'en', 'result_type': 'recent'}, 'source': '<a href=\"https://mobile.twitter.com\" rel=\"nofollow\">Twitter Web App</a>', 'in_reply_to_status_id': None, 'in_reply_to_status_id_str': None, 'in_reply_to_user_id': None, 'in_reply_to_user_id_str': None, 'in_reply_to_screen_name': None, 'user': {'id': 2589984816, 'id_str': '2589984816', 'name': 'Eduardo Valente', 'screen_name': 'EduardoValenteI', 'location': 'SãoPaulo SampaCity Brasil 🇧🇷', 'description': 'criação #B2C #B2B consultor #Seoparaecommerce #SeoparaWebSite\\nPara #empresaonline👉https://t.co/zTUaaEvBQ0 #EV #EduardoValente', 'url': 'https://t.co/029AsFQZFA', 'entities': {'url': {'urls': [{'url': 'https://t.co/029AsFQZFA', 'expanded_url': 'http://youtu.be/vz1tBFu6CqI', 'display_url': 'youtu.be/vz1tBFu6CqI', 'indices': [0, 23]}]}, 'description': {'urls': [{'url': 'https://t.co/zTUaaEvBQ0', 'expanded_url': 'https://www.gettr.com/user/motoresdebusca', 'display_url': 'gettr.com/user/motoresde…', 'indices': [82, 105]}]}}, 'protected': False, 'followers_count': 4014, 'friends_count': 3384, 'listed_count': 102, 'created_at': 'Thu Jun 26 17:50:52 +0000 2014', 'favourites_count': 12025, 'utc_offset': None, 'time_zone': None, 'geo_enabled': True, 'verified': False, 'statuses_count': 34674, 'lang': None, 'contributors_enabled': False, 'is_translator': False, 'is_translation_enabled': False, 'profile_background_color': 'C0DEED', 'profile_background_image_url': 'http://abs.twimg.com/images/themes/theme1/bg.png', 'profile_background_image_url_https': 'https://abs.twimg.com/images/themes/theme1/bg.png', 'profile_background_tile': False, 'profile_image_url': 'http://pbs.twimg.com/profile_images/887391369727225857/XWy2Ykgo_normal.jpg', 'profile_image_url_https': 'https://pbs.twimg.com/profile_images/887391369727225857/XWy2Ykgo_normal.jpg', 'profile_banner_url': 'https://pbs.twimg.com/profile_banners/2589984816/1623251423', 'profile_link_color': '1DA1F2', 'profile_sidebar_border_color': 'C0DEED', 'profile_sidebar_fill_color': 'DDEEF6', 'profile_text_color': '333333', 'profile_use_background_image': True, 'has_extended_profile': True, 'default_profile': True, 'default_profile_image': False, 'following': False, 'follow_request_sent': False, 'notifications': False, 'translator_type': 'none', 'withheld_in_countries': []}, 'geo': None, 'coordinates': None, 'place': None, 'contributors': None, 'is_quote_status': False, 'retweet_count': 2, 'favorite_count': 0, 'favorited': False, 'retweeted': False, 'possibly_sensitive': False, 'lang': 'en'}, created_at=datetime.datetime(2021, 7, 2, 10, 43, 16), id=1410911948238163971, id_str='1410911948238163971', text='#engineer👉just followedme! on #Twitter @Pytlicek\\n#TomasPytel #influencer in #London, #England\\nPython engineer.… https://t.co/y8Urir2tXe', truncated=True, entities={'hashtags': [{'text': 'engineer', 'indices': [0, 9]}, {'text': 'Twitter', 'indices': [30, 38]}, {'text': 'TomasPytel', 'indices': [49, 60]}, {'text': 'influencer', 'indices': [61, 72]}, {'text': 'London', 'indices': [76, 83]}, {'text': 'England', 'indices': [85, 93]}], 'symbols': [], 'user_mentions': [{'screen_name': 'Pytlicek', 'name': 'Tomas Pytel', 'id': 207632758, 'id_str': '207632758', 'indices': [39, 48]}], 'urls': [{'url': 'https://t.co/y8Urir2tXe', 'expanded_url': 'https://twitter.com/i/web/status/1410911948238163971', 'display_url': 'twitter.com/i/web/status/1…', 'indices': [112, 135]}]}, metadata={'iso_language_code': 'en', 'result_type': 'recent'}, source='Twitter Web App', source_url='https://mobile.twitter.com', in_reply_to_status_id=None, in_reply_to_status_id_str=None, in_reply_to_user_id=None, in_reply_to_user_id_str=None, in_reply_to_screen_name=None, author=User(_api=<tweepy.api.API object at 0x000001F333ADE8E0>, _json={'id': 2589984816, 'id_str': '2589984816', 'name': 'Eduardo Valente', 'screen_name': 'EduardoValenteI', 'location': 'SãoPaulo SampaCity Brasil 🇧🇷', 'description': 'criação #B2C #B2B consultor #Seoparaecommerce #SeoparaWebSite\\nPara #empresaonline👉https://t.co/zTUaaEvBQ0 #EV #EduardoValente', 'url': 'https://t.co/029AsFQZFA', 'entities': {'url': {'urls': [{'url': 'https://t.co/029AsFQZFA', 'expanded_url': 'http://youtu.be/vz1tBFu6CqI', 'display_url': 'youtu.be/vz1tBFu6CqI', 'indices': [0, 23]}]}, 'description': {'urls': [{'url': 'https://t.co/zTUaaEvBQ0', 'expanded_url': 'https://www.gettr.com/user/motoresdebusca', 'display_url': 'gettr.com/user/motoresde…', 'indices': [82, 105]}]}}, 'protected': False, 'followers_count': 4014, 'friends_count': 3384, 'listed_count': 102, 'created_at': 'Thu Jun 26 17:50:52 +0000 2014', 'favourites_count': 12025, 'utc_offset': None, 'time_zone': None, 'geo_enabled': True, 'verified': False, 'statuses_count': 34674, 'lang': None, 'contributors_enabled': False, 'is_translator': False, 'is_translation_enabled': False, 'profile_background_color': 'C0DEED', 'profile_background_image_url': 'http://abs.twimg.com/images/themes/theme1/bg.png', 'profile_background_image_url_https': 'https://abs.twimg.com/images/themes/theme1/bg.png', 'profile_background_tile': False, 'profile_image_url': 'http://pbs.twimg.com/profile_images/887391369727225857/XWy2Ykgo_normal.jpg', 'profile_image_url_https': 'https://pbs.twimg.com/profile_images/887391369727225857/XWy2Ykgo_normal.jpg', 'profile_banner_url': 'https://pbs.twimg.com/profile_banners/2589984816/1623251423', 'profile_link_color': '1DA1F2', 'profile_sidebar_border_color': 'C0DEED', 'profile_sidebar_fill_color': 'DDEEF6', 'profile_text_color': '333333', 'profile_use_background_image': True, 'has_extended_profile': True, 'default_profile': True, 'default_profile_image': False, 'following': False, 'follow_request_sent': False, 'notifications': False, 'translator_type': 'none', 'withheld_in_countries': []}, id=2589984816, id_str='2589984816', name='Eduardo Valente', screen_name='EduardoValenteI', location='SãoPaulo SampaCity Brasil 🇧🇷', description='criação #B2C #B2B consultor #Seoparaecommerce #SeoparaWebSite\\nPara #empresaonline👉https://t.co/zTUaaEvBQ0 #EV #EduardoValente', url='https://t.co/029AsFQZFA', entities={'url': {'urls': [{'url': 'https://t.co/029AsFQZFA', 'expanded_url': 'http://youtu.be/vz1tBFu6CqI', 'display_url': 'youtu.be/vz1tBFu6CqI', 'indices': [0, 23]}]}, 'description': {'urls': [{'url': 'https://t.co/zTUaaEvBQ0', 'expanded_url': 'https://www.gettr.com/user/motoresdebusca', 'display_url': 'gettr.com/user/motoresde…', 'indices': [82, 105]}]}}, protected=False, followers_count=4014, friends_count=3384, listed_count=102, created_at=datetime.datetime(2014, 6, 26, 17, 50, 52), favourites_count=12025, utc_offset=None, time_zone=None, geo_enabled=True, verified=False, statuses_count=34674, lang=None, contributors_enabled=False, is_translator=False, is_translation_enabled=False, profile_background_color='C0DEED', profile_background_image_url='http://abs.twimg.com/images/themes/theme1/bg.png', profile_background_image_url_https='https://abs.twimg.com/images/themes/theme1/bg.png', profile_background_tile=False, profile_image_url='http://pbs.twimg.com/profile_images/887391369727225857/XWy2Ykgo_normal.jpg', profile_image_url_https='https://pbs.twimg.com/profile_images/887391369727225857/XWy2Ykgo_normal.jpg', profile_banner_url='https://pbs.twimg.com/profile_banners/2589984816/1623251423', profile_link_color='1DA1F2', profile_sidebar_border_color='C0DEED', profile_sidebar_fill_color='DDEEF6', profile_text_color='333333', profile_use_background_image=True, has_extended_profile=True, default_profile=True, default_profile_image=False, following=False, follow_request_sent=False, notifications=False, translator_type='none', withheld_in_countries=[]), user=User(_api=<tweepy.api.API object at 0x000001F333ADE8E0>, _json={'id': 2589984816, 'id_str': '2589984816', 'name': 'Eduardo Valente', 'screen_name': 'EduardoValenteI', 'location': 'SãoPaulo SampaCity Brasil 🇧🇷', 'description': 'criação #B2C #B2B consultor #Seoparaecommerce #SeoparaWebSite\\nPara #empresaonline👉https://t.co/zTUaaEvBQ0 #EV #EduardoValente', 'url': 'https://t.co/029AsFQZFA', 'entities': {'url': {'urls': [{'url': 'https://t.co/029AsFQZFA', 'expanded_url': 'http://youtu.be/vz1tBFu6CqI', 'display_url': 'youtu.be/vz1tBFu6CqI', 'indices': [0, 23]}]}, 'description': {'urls': [{'url': 'https://t.co/zTUaaEvBQ0', 'expanded_url': 'https://www.gettr.com/user/motoresdebusca', 'display_url': 'gettr.com/user/motoresde…', 'indices': [82, 105]}]}}, 'protected': False, 'followers_count': 4014, 'friends_count': 3384, 'listed_count': 102, 'created_at': 'Thu Jun 26 17:50:52 +0000 2014', 'favourites_count': 12025, 'utc_offset': None, 'time_zone': None, 'geo_enabled': True, 'verified': False, 'statuses_count': 34674, 'lang': None, 'contributors_enabled': False, 'is_translator': False, 'is_translation_enabled': False, 'profile_background_color': 'C0DEED', 'profile_background_image_url': 'http://abs.twimg.com/images/themes/theme1/bg.png', 'profile_background_image_url_https': 'https://abs.twimg.com/images/themes/theme1/bg.png', 'profile_background_tile': False, 'profile_image_url': 'http://pbs.twimg.com/profile_images/887391369727225857/XWy2Ykgo_normal.jpg', 'profile_image_url_https': 'https://pbs.twimg.com/profile_images/887391369727225857/XWy2Ykgo_normal.jpg', 'profile_banner_url': 'https://pbs.twimg.com/profile_banners/2589984816/1623251423', 'profile_link_color': '1DA1F2', 'profile_sidebar_border_color': 'C0DEED', 'profile_sidebar_fill_color': 'DDEEF6', 'profile_text_color': '333333', 'profile_use_background_image': True, 'has_extended_profile': True, 'default_profile': True, 'default_profile_image': False, 'following': False, 'follow_request_sent': False, 'notifications': False, 'translator_type': 'none', 'withheld_in_countries': []}, id=2589984816, id_str='2589984816', name='Eduardo Valente', screen_name='EduardoValenteI', location='SãoPaulo SampaCity Brasil 🇧🇷', description='criação #B2C #B2B consultor #Seoparaecommerce #SeoparaWebSite\\nPara #empresaonline👉https://t.co/zTUaaEvBQ0 #EV #EduardoValente', url='https://t.co/029AsFQZFA', entities={'url': {'urls': [{'url': 'https://t.co/029AsFQZFA', 'expanded_url': 'http://youtu.be/vz1tBFu6CqI', 'display_url': 'youtu.be/vz1tBFu6CqI', 'indices': [0, 23]}]}, 'description': {'urls': [{'url': 'https://t.co/zTUaaEvBQ0', 'expanded_url': 'https://www.gettr.com/user/motoresdebusca', 'display_url': 'gettr.com/user/motoresde…', 'indices': [82, 105]}]}}, protected=False, followers_count=4014, friends_count=3384, listed_count=102, created_at=datetime.datetime(2014, 6, 26, 17, 50, 52), favourites_count=12025, utc_offset=None, time_zone=None, geo_enabled=True, verified=False, statuses_count=34674, lang=None, contributors_enabled=False, is_translator=False, is_translation_enabled=False, profile_background_color='C0DEED', profile_background_image_url='http://abs.twimg.com/images/themes/theme1/bg.png', profile_background_image_url_https='https://abs.twimg.com/images/themes/theme1/bg.png', profile_background_tile=False, profile_image_url='http://pbs.twimg.com/profile_images/887391369727225857/XWy2Ykgo_normal.jpg', profile_image_url_https='https://pbs.twimg.com/profile_images/887391369727225857/XWy2Ykgo_normal.jpg', profile_banner_url='https://pbs.twimg.com/profile_banners/2589984816/1623251423', profile_link_color='1DA1F2', profile_sidebar_border_color='C0DEED', profile_sidebar_fill_color='DDEEF6', profile_text_color='333333', profile_use_background_image=True, has_extended_profile=True, default_profile=True, default_profile_image=False, following=False, follow_request_sent=False, notifications=False, translator_type='none', withheld_in_countries=[]), geo=None, coordinates=None, place=None, contributors=None, is_quote_status=False, retweet_count=2, favorite_count=0, favorited=False, retweeted=False, possibly_sensitive=False, lang='en'), is_quote_status=False, retweet_count=2, favorite_count=0, favorited=False, retweeted=False, lang='en'),\n",
       " Status(_api=<tweepy.api.API object at 0x000001F333ADE8E0>, _json={'created_at': 'Fri Jul 02 23:00:09 +0000 2021', 'id': 1411097390585626627, 'id_str': '1411097390585626627', 'text': 'RT @EduardoValenteI: :.@CoimbraSummit Hi my friend, very welcome!\\nThank you for sharing!\\n#Coimbra #Portugal\\n#coimbrasummit\\n@Pytlicek\\n#Tomas…', 'truncated': False, 'entities': {'hashtags': [{'text': 'Coimbra', 'indices': [89, 97]}, {'text': 'Portugal', 'indices': [98, 107]}, {'text': 'coimbrasummit', 'indices': [108, 122]}], 'symbols': [], 'user_mentions': [{'screen_name': 'EduardoValenteI', 'name': 'Eduardo Valente', 'id': 2589984816, 'id_str': '2589984816', 'indices': [3, 19]}, {'screen_name': 'CoimbraSummit', 'name': 'CoimbraSummit', 'id': 786512101330124800, 'id_str': '786512101330124800', 'indices': [23, 37]}, {'screen_name': 'Pytlicek', 'name': 'Tomas Pytel', 'id': 207632758, 'id_str': '207632758', 'indices': [123, 132]}], 'urls': []}, 'metadata': {'iso_language_code': 'en', 'result_type': 'recent'}, 'source': '<a href=\"http://broconut.com/websummit/init.php\" rel=\"nofollow\">Web Summit Bot</a>', 'in_reply_to_status_id': None, 'in_reply_to_status_id_str': None, 'in_reply_to_user_id': None, 'in_reply_to_user_id_str': None, 'in_reply_to_screen_name': None, 'user': {'id': 2163813157, 'id_str': '2163813157', 'name': 'WebSummit Bot', 'screen_name': 'WebSummitBot', 'location': '', 'description': \"Re-tweeting all the best from the Hashtag #websummit using Twitter's glorious API.  Built by @Cian_911\", 'url': None, 'entities': {'description': {'urls': []}}, 'protected': False, 'followers_count': 1770, 'friends_count': 44, 'listed_count': 876, 'created_at': 'Wed Oct 30 00:42:55 +0000 2013', 'favourites_count': 13, 'utc_offset': None, 'time_zone': None, 'geo_enabled': False, 'verified': False, 'statuses_count': 29630, 'lang': None, 'contributors_enabled': False, 'is_translator': False, 'is_translation_enabled': False, 'profile_background_color': 'C0DEED', 'profile_background_image_url': 'http://abs.twimg.com/images/themes/theme1/bg.png', 'profile_background_image_url_https': 'https://abs.twimg.com/images/themes/theme1/bg.png', 'profile_background_tile': False, 'profile_image_url': 'http://pbs.twimg.com/profile_images/661288346287779840/hVlzqsS9_normal.png', 'profile_image_url_https': 'https://pbs.twimg.com/profile_images/661288346287779840/hVlzqsS9_normal.png', 'profile_banner_url': 'https://pbs.twimg.com/profile_banners/2163813157/1414943987', 'profile_link_color': '1DA1F2', 'profile_sidebar_border_color': 'C0DEED', 'profile_sidebar_fill_color': 'DDEEF6', 'profile_text_color': '333333', 'profile_use_background_image': True, 'has_extended_profile': False, 'default_profile': True, 'default_profile_image': False, 'following': False, 'follow_request_sent': False, 'notifications': False, 'translator_type': 'none', 'withheld_in_countries': []}, 'geo': None, 'coordinates': None, 'place': None, 'contributors': None, 'retweeted_status': {'created_at': 'Fri Jul 02 11:36:32 +0000 2021', 'id': 1410925354617815045, 'id_str': '1410925354617815045', 'text': ':.@CoimbraSummit Hi my friend, very welcome!\\nThank you for sharing!\\n#Coimbra #Portugal\\n#coimbrasummit\\n@Pytlicek… https://t.co/Xvsn0tTRRr', 'truncated': True, 'entities': {'hashtags': [{'text': 'Coimbra', 'indices': [68, 76]}, {'text': 'Portugal', 'indices': [77, 86]}, {'text': 'coimbrasummit', 'indices': [87, 101]}], 'symbols': [], 'user_mentions': [{'screen_name': 'CoimbraSummit', 'name': 'CoimbraSummit', 'id': 786512101330124800, 'id_str': '786512101330124800', 'indices': [2, 16]}, {'screen_name': 'Pytlicek', 'name': 'Tomas Pytel', 'id': 207632758, 'id_str': '207632758', 'indices': [102, 111]}], 'urls': [{'url': 'https://t.co/Xvsn0tTRRr', 'expanded_url': 'https://twitter.com/i/web/status/1410925354617815045', 'display_url': 'twitter.com/i/web/status/1…', 'indices': [113, 136]}]}, 'metadata': {'iso_language_code': 'en', 'result_type': 'recent'}, 'source': '<a href=\"https://mobile.twitter.com\" rel=\"nofollow\">Twitter Web App</a>', 'in_reply_to_status_id': 1410911948238163971, 'in_reply_to_status_id_str': '1410911948238163971', 'in_reply_to_user_id': 2589984816, 'in_reply_to_user_id_str': '2589984816', 'in_reply_to_screen_name': 'EduardoValenteI', 'user': {'id': 2589984816, 'id_str': '2589984816', 'name': 'Eduardo Valente', 'screen_name': 'EduardoValenteI', 'location': 'SãoPaulo SampaCity Brasil 🇧🇷', 'description': 'criação #B2C #B2B consultor #Seoparaecommerce #SeoparaWebSite\\nPara #empresaonline👉https://t.co/zTUaaEvBQ0 #EV #EduardoValente', 'url': 'https://t.co/029AsFQZFA', 'entities': {'url': {'urls': [{'url': 'https://t.co/029AsFQZFA', 'expanded_url': 'http://youtu.be/vz1tBFu6CqI', 'display_url': 'youtu.be/vz1tBFu6CqI', 'indices': [0, 23]}]}, 'description': {'urls': [{'url': 'https://t.co/zTUaaEvBQ0', 'expanded_url': 'https://www.gettr.com/user/motoresdebusca', 'display_url': 'gettr.com/user/motoresde…', 'indices': [82, 105]}]}}, 'protected': False, 'followers_count': 4014, 'friends_count': 3384, 'listed_count': 102, 'created_at': 'Thu Jun 26 17:50:52 +0000 2014', 'favourites_count': 12025, 'utc_offset': None, 'time_zone': None, 'geo_enabled': True, 'verified': False, 'statuses_count': 34674, 'lang': None, 'contributors_enabled': False, 'is_translator': False, 'is_translation_enabled': False, 'profile_background_color': 'C0DEED', 'profile_background_image_url': 'http://abs.twimg.com/images/themes/theme1/bg.png', 'profile_background_image_url_https': 'https://abs.twimg.com/images/themes/theme1/bg.png', 'profile_background_tile': False, 'profile_image_url': 'http://pbs.twimg.com/profile_images/887391369727225857/XWy2Ykgo_normal.jpg', 'profile_image_url_https': 'https://pbs.twimg.com/profile_images/887391369727225857/XWy2Ykgo_normal.jpg', 'profile_banner_url': 'https://pbs.twimg.com/profile_banners/2589984816/1623251423', 'profile_link_color': '1DA1F2', 'profile_sidebar_border_color': 'C0DEED', 'profile_sidebar_fill_color': 'DDEEF6', 'profile_text_color': '333333', 'profile_use_background_image': True, 'has_extended_profile': True, 'default_profile': True, 'default_profile_image': False, 'following': False, 'follow_request_sent': False, 'notifications': False, 'translator_type': 'none', 'withheld_in_countries': []}, 'geo': None, 'coordinates': None, 'place': None, 'contributors': None, 'is_quote_status': False, 'retweet_count': 2, 'favorite_count': 0, 'favorited': False, 'retweeted': False, 'possibly_sensitive': False, 'lang': 'en'}, 'is_quote_status': False, 'retweet_count': 2, 'favorite_count': 0, 'favorited': False, 'retweeted': False, 'lang': 'en'}, created_at=datetime.datetime(2021, 7, 2, 23, 0, 9), id=1411097390585626627, id_str='1411097390585626627', text='RT @EduardoValenteI: :.@CoimbraSummit Hi my friend, very welcome!\\nThank you for sharing!\\n#Coimbra #Portugal\\n#coimbrasummit\\n@Pytlicek\\n#Tomas…', truncated=False, entities={'hashtags': [{'text': 'Coimbra', 'indices': [89, 97]}, {'text': 'Portugal', 'indices': [98, 107]}, {'text': 'coimbrasummit', 'indices': [108, 122]}], 'symbols': [], 'user_mentions': [{'screen_name': 'EduardoValenteI', 'name': 'Eduardo Valente', 'id': 2589984816, 'id_str': '2589984816', 'indices': [3, 19]}, {'screen_name': 'CoimbraSummit', 'name': 'CoimbraSummit', 'id': 786512101330124800, 'id_str': '786512101330124800', 'indices': [23, 37]}, {'screen_name': 'Pytlicek', 'name': 'Tomas Pytel', 'id': 207632758, 'id_str': '207632758', 'indices': [123, 132]}], 'urls': []}, metadata={'iso_language_code': 'en', 'result_type': 'recent'}, source='Web Summit Bot', source_url='http://broconut.com/websummit/init.php', in_reply_to_status_id=None, in_reply_to_status_id_str=None, in_reply_to_user_id=None, in_reply_to_user_id_str=None, in_reply_to_screen_name=None, author=User(_api=<tweepy.api.API object at 0x000001F333ADE8E0>, _json={'id': 2163813157, 'id_str': '2163813157', 'name': 'WebSummit Bot', 'screen_name': 'WebSummitBot', 'location': '', 'description': \"Re-tweeting all the best from the Hashtag #websummit using Twitter's glorious API.  Built by @Cian_911\", 'url': None, 'entities': {'description': {'urls': []}}, 'protected': False, 'followers_count': 1770, 'friends_count': 44, 'listed_count': 876, 'created_at': 'Wed Oct 30 00:42:55 +0000 2013', 'favourites_count': 13, 'utc_offset': None, 'time_zone': None, 'geo_enabled': False, 'verified': False, 'statuses_count': 29630, 'lang': None, 'contributors_enabled': False, 'is_translator': False, 'is_translation_enabled': False, 'profile_background_color': 'C0DEED', 'profile_background_image_url': 'http://abs.twimg.com/images/themes/theme1/bg.png', 'profile_background_image_url_https': 'https://abs.twimg.com/images/themes/theme1/bg.png', 'profile_background_tile': False, 'profile_image_url': 'http://pbs.twimg.com/profile_images/661288346287779840/hVlzqsS9_normal.png', 'profile_image_url_https': 'https://pbs.twimg.com/profile_images/661288346287779840/hVlzqsS9_normal.png', 'profile_banner_url': 'https://pbs.twimg.com/profile_banners/2163813157/1414943987', 'profile_link_color': '1DA1F2', 'profile_sidebar_border_color': 'C0DEED', 'profile_sidebar_fill_color': 'DDEEF6', 'profile_text_color': '333333', 'profile_use_background_image': True, 'has_extended_profile': False, 'default_profile': True, 'default_profile_image': False, 'following': False, 'follow_request_sent': False, 'notifications': False, 'translator_type': 'none', 'withheld_in_countries': []}, id=2163813157, id_str='2163813157', name='WebSummit Bot', screen_name='WebSummitBot', location='', description=\"Re-tweeting all the best from the Hashtag #websummit using Twitter's glorious API.  Built by @Cian_911\", url=None, entities={'description': {'urls': []}}, protected=False, followers_count=1770, friends_count=44, listed_count=876, created_at=datetime.datetime(2013, 10, 30, 0, 42, 55), favourites_count=13, utc_offset=None, time_zone=None, geo_enabled=False, verified=False, statuses_count=29630, lang=None, contributors_enabled=False, is_translator=False, is_translation_enabled=False, profile_background_color='C0DEED', profile_background_image_url='http://abs.twimg.com/images/themes/theme1/bg.png', profile_background_image_url_https='https://abs.twimg.com/images/themes/theme1/bg.png', profile_background_tile=False, profile_image_url='http://pbs.twimg.com/profile_images/661288346287779840/hVlzqsS9_normal.png', profile_image_url_https='https://pbs.twimg.com/profile_images/661288346287779840/hVlzqsS9_normal.png', profile_banner_url='https://pbs.twimg.com/profile_banners/2163813157/1414943987', profile_link_color='1DA1F2', profile_sidebar_border_color='C0DEED', profile_sidebar_fill_color='DDEEF6', profile_text_color='333333', profile_use_background_image=True, has_extended_profile=False, default_profile=True, default_profile_image=False, following=False, follow_request_sent=False, notifications=False, translator_type='none', withheld_in_countries=[]), user=User(_api=<tweepy.api.API object at 0x000001F333ADE8E0>, _json={'id': 2163813157, 'id_str': '2163813157', 'name': 'WebSummit Bot', 'screen_name': 'WebSummitBot', 'location': '', 'description': \"Re-tweeting all the best from the Hashtag #websummit using Twitter's glorious API.  Built by @Cian_911\", 'url': None, 'entities': {'description': {'urls': []}}, 'protected': False, 'followers_count': 1770, 'friends_count': 44, 'listed_count': 876, 'created_at': 'Wed Oct 30 00:42:55 +0000 2013', 'favourites_count': 13, 'utc_offset': None, 'time_zone': None, 'geo_enabled': False, 'verified': False, 'statuses_count': 29630, 'lang': None, 'contributors_enabled': False, 'is_translator': False, 'is_translation_enabled': False, 'profile_background_color': 'C0DEED', 'profile_background_image_url': 'http://abs.twimg.com/images/themes/theme1/bg.png', 'profile_background_image_url_https': 'https://abs.twimg.com/images/themes/theme1/bg.png', 'profile_background_tile': False, 'profile_image_url': 'http://pbs.twimg.com/profile_images/661288346287779840/hVlzqsS9_normal.png', 'profile_image_url_https': 'https://pbs.twimg.com/profile_images/661288346287779840/hVlzqsS9_normal.png', 'profile_banner_url': 'https://pbs.twimg.com/profile_banners/2163813157/1414943987', 'profile_link_color': '1DA1F2', 'profile_sidebar_border_color': 'C0DEED', 'profile_sidebar_fill_color': 'DDEEF6', 'profile_text_color': '333333', 'profile_use_background_image': True, 'has_extended_profile': False, 'default_profile': True, 'default_profile_image': False, 'following': False, 'follow_request_sent': False, 'notifications': False, 'translator_type': 'none', 'withheld_in_countries': []}, id=2163813157, id_str='2163813157', name='WebSummit Bot', screen_name='WebSummitBot', location='', description=\"Re-tweeting all the best from the Hashtag #websummit using Twitter's glorious API.  Built by @Cian_911\", url=None, entities={'description': {'urls': []}}, protected=False, followers_count=1770, friends_count=44, listed_count=876, created_at=datetime.datetime(2013, 10, 30, 0, 42, 55), favourites_count=13, utc_offset=None, time_zone=None, geo_enabled=False, verified=False, statuses_count=29630, lang=None, contributors_enabled=False, is_translator=False, is_translation_enabled=False, profile_background_color='C0DEED', profile_background_image_url='http://abs.twimg.com/images/themes/theme1/bg.png', profile_background_image_url_https='https://abs.twimg.com/images/themes/theme1/bg.png', profile_background_tile=False, profile_image_url='http://pbs.twimg.com/profile_images/661288346287779840/hVlzqsS9_normal.png', profile_image_url_https='https://pbs.twimg.com/profile_images/661288346287779840/hVlzqsS9_normal.png', profile_banner_url='https://pbs.twimg.com/profile_banners/2163813157/1414943987', profile_link_color='1DA1F2', profile_sidebar_border_color='C0DEED', profile_sidebar_fill_color='DDEEF6', profile_text_color='333333', profile_use_background_image=True, has_extended_profile=False, default_profile=True, default_profile_image=False, following=False, follow_request_sent=False, notifications=False, translator_type='none', withheld_in_countries=[]), geo=None, coordinates=None, place=None, contributors=None, retweeted_status=Status(_api=<tweepy.api.API object at 0x000001F333ADE8E0>, _json={'created_at': 'Fri Jul 02 11:36:32 +0000 2021', 'id': 1410925354617815045, 'id_str': '1410925354617815045', 'text': ':.@CoimbraSummit Hi my friend, very welcome!\\nThank you for sharing!\\n#Coimbra #Portugal\\n#coimbrasummit\\n@Pytlicek… https://t.co/Xvsn0tTRRr', 'truncated': True, 'entities': {'hashtags': [{'text': 'Coimbra', 'indices': [68, 76]}, {'text': 'Portugal', 'indices': [77, 86]}, {'text': 'coimbrasummit', 'indices': [87, 101]}], 'symbols': [], 'user_mentions': [{'screen_name': 'CoimbraSummit', 'name': 'CoimbraSummit', 'id': 786512101330124800, 'id_str': '786512101330124800', 'indices': [2, 16]}, {'screen_name': 'Pytlicek', 'name': 'Tomas Pytel', 'id': 207632758, 'id_str': '207632758', 'indices': [102, 111]}], 'urls': [{'url': 'https://t.co/Xvsn0tTRRr', 'expanded_url': 'https://twitter.com/i/web/status/1410925354617815045', 'display_url': 'twitter.com/i/web/status/1…', 'indices': [113, 136]}]}, 'metadata': {'iso_language_code': 'en', 'result_type': 'recent'}, 'source': '<a href=\"https://mobile.twitter.com\" rel=\"nofollow\">Twitter Web App</a>', 'in_reply_to_status_id': 1410911948238163971, 'in_reply_to_status_id_str': '1410911948238163971', 'in_reply_to_user_id': 2589984816, 'in_reply_to_user_id_str': '2589984816', 'in_reply_to_screen_name': 'EduardoValenteI', 'user': {'id': 2589984816, 'id_str': '2589984816', 'name': 'Eduardo Valente', 'screen_name': 'EduardoValenteI', 'location': 'SãoPaulo SampaCity Brasil 🇧🇷', 'description': 'criação #B2C #B2B consultor #Seoparaecommerce #SeoparaWebSite\\nPara #empresaonline👉https://t.co/zTUaaEvBQ0 #EV #EduardoValente', 'url': 'https://t.co/029AsFQZFA', 'entities': {'url': {'urls': [{'url': 'https://t.co/029AsFQZFA', 'expanded_url': 'http://youtu.be/vz1tBFu6CqI', 'display_url': 'youtu.be/vz1tBFu6CqI', 'indices': [0, 23]}]}, 'description': {'urls': [{'url': 'https://t.co/zTUaaEvBQ0', 'expanded_url': 'https://www.gettr.com/user/motoresdebusca', 'display_url': 'gettr.com/user/motoresde…', 'indices': [82, 105]}]}}, 'protected': False, 'followers_count': 4014, 'friends_count': 3384, 'listed_count': 102, 'created_at': 'Thu Jun 26 17:50:52 +0000 2014', 'favourites_count': 12025, 'utc_offset': None, 'time_zone': None, 'geo_enabled': True, 'verified': False, 'statuses_count': 34674, 'lang': None, 'contributors_enabled': False, 'is_translator': False, 'is_translation_enabled': False, 'profile_background_color': 'C0DEED', 'profile_background_image_url': 'http://abs.twimg.com/images/themes/theme1/bg.png', 'profile_background_image_url_https': 'https://abs.twimg.com/images/themes/theme1/bg.png', 'profile_background_tile': False, 'profile_image_url': 'http://pbs.twimg.com/profile_images/887391369727225857/XWy2Ykgo_normal.jpg', 'profile_image_url_https': 'https://pbs.twimg.com/profile_images/887391369727225857/XWy2Ykgo_normal.jpg', 'profile_banner_url': 'https://pbs.twimg.com/profile_banners/2589984816/1623251423', 'profile_link_color': '1DA1F2', 'profile_sidebar_border_color': 'C0DEED', 'profile_sidebar_fill_color': 'DDEEF6', 'profile_text_color': '333333', 'profile_use_background_image': True, 'has_extended_profile': True, 'default_profile': True, 'default_profile_image': False, 'following': False, 'follow_request_sent': False, 'notifications': False, 'translator_type': 'none', 'withheld_in_countries': []}, 'geo': None, 'coordinates': None, 'place': None, 'contributors': None, 'is_quote_status': False, 'retweet_count': 2, 'favorite_count': 0, 'favorited': False, 'retweeted': False, 'possibly_sensitive': False, 'lang': 'en'}, created_at=datetime.datetime(2021, 7, 2, 11, 36, 32), id=1410925354617815045, id_str='1410925354617815045', text=':.@CoimbraSummit Hi my friend, very welcome!\\nThank you for sharing!\\n#Coimbra #Portugal\\n#coimbrasummit\\n@Pytlicek… https://t.co/Xvsn0tTRRr', truncated=True, entities={'hashtags': [{'text': 'Coimbra', 'indices': [68, 76]}, {'text': 'Portugal', 'indices': [77, 86]}, {'text': 'coimbrasummit', 'indices': [87, 101]}], 'symbols': [], 'user_mentions': [{'screen_name': 'CoimbraSummit', 'name': 'CoimbraSummit', 'id': 786512101330124800, 'id_str': '786512101330124800', 'indices': [2, 16]}, {'screen_name': 'Pytlicek', 'name': 'Tomas Pytel', 'id': 207632758, 'id_str': '207632758', 'indices': [102, 111]}], 'urls': [{'url': 'https://t.co/Xvsn0tTRRr', 'expanded_url': 'https://twitter.com/i/web/status/1410925354617815045', 'display_url': 'twitter.com/i/web/status/1…', 'indices': [113, 136]}]}, metadata={'iso_language_code': 'en', 'result_type': 'recent'}, source='Twitter Web App', source_url='https://mobile.twitter.com', in_reply_to_status_id=1410911948238163971, in_reply_to_status_id_str='1410911948238163971', in_reply_to_user_id=2589984816, in_reply_to_user_id_str='2589984816', in_reply_to_screen_name='EduardoValenteI', author=User(_api=<tweepy.api.API object at 0x000001F333ADE8E0>, _json={'id': 2589984816, 'id_str': '2589984816', 'name': 'Eduardo Valente', 'screen_name': 'EduardoValenteI', 'location': 'SãoPaulo SampaCity Brasil 🇧🇷', 'description': 'criação #B2C #B2B consultor #Seoparaecommerce #SeoparaWebSite\\nPara #empresaonline👉https://t.co/zTUaaEvBQ0 #EV #EduardoValente', 'url': 'https://t.co/029AsFQZFA', 'entities': {'url': {'urls': [{'url': 'https://t.co/029AsFQZFA', 'expanded_url': 'http://youtu.be/vz1tBFu6CqI', 'display_url': 'youtu.be/vz1tBFu6CqI', 'indices': [0, 23]}]}, 'description': {'urls': [{'url': 'https://t.co/zTUaaEvBQ0', 'expanded_url': 'https://www.gettr.com/user/motoresdebusca', 'display_url': 'gettr.com/user/motoresde…', 'indices': [82, 105]}]}}, 'protected': False, 'followers_count': 4014, 'friends_count': 3384, 'listed_count': 102, 'created_at': 'Thu Jun 26 17:50:52 +0000 2014', 'favourites_count': 12025, 'utc_offset': None, 'time_zone': None, 'geo_enabled': True, 'verified': False, 'statuses_count': 34674, 'lang': None, 'contributors_enabled': False, 'is_translator': False, 'is_translation_enabled': False, 'profile_background_color': 'C0DEED', 'profile_background_image_url': 'http://abs.twimg.com/images/themes/theme1/bg.png', 'profile_background_image_url_https': 'https://abs.twimg.com/images/themes/theme1/bg.png', 'profile_background_tile': False, 'profile_image_url': 'http://pbs.twimg.com/profile_images/887391369727225857/XWy2Ykgo_normal.jpg', 'profile_image_url_https': 'https://pbs.twimg.com/profile_images/887391369727225857/XWy2Ykgo_normal.jpg', 'profile_banner_url': 'https://pbs.twimg.com/profile_banners/2589984816/1623251423', 'profile_link_color': '1DA1F2', 'profile_sidebar_border_color': 'C0DEED', 'profile_sidebar_fill_color': 'DDEEF6', 'profile_text_color': '333333', 'profile_use_background_image': True, 'has_extended_profile': True, 'default_profile': True, 'default_profile_image': False, 'following': False, 'follow_request_sent': False, 'notifications': False, 'translator_type': 'none', 'withheld_in_countries': []}, id=2589984816, id_str='2589984816', name='Eduardo Valente', screen_name='EduardoValenteI', location='SãoPaulo SampaCity Brasil 🇧🇷', description='criação #B2C #B2B consultor #Seoparaecommerce #SeoparaWebSite\\nPara #empresaonline👉https://t.co/zTUaaEvBQ0 #EV #EduardoValente', url='https://t.co/029AsFQZFA', entities={'url': {'urls': [{'url': 'https://t.co/029AsFQZFA', 'expanded_url': 'http://youtu.be/vz1tBFu6CqI', 'display_url': 'youtu.be/vz1tBFu6CqI', 'indices': [0, 23]}]}, 'description': {'urls': [{'url': 'https://t.co/zTUaaEvBQ0', 'expanded_url': 'https://www.gettr.com/user/motoresdebusca', 'display_url': 'gettr.com/user/motoresde…', 'indices': [82, 105]}]}}, protected=False, followers_count=4014, friends_count=3384, listed_count=102, created_at=datetime.datetime(2014, 6, 26, 17, 50, 52), favourites_count=12025, utc_offset=None, time_zone=None, geo_enabled=True, verified=False, statuses_count=34674, lang=None, contributors_enabled=False, is_translator=False, is_translation_enabled=False, profile_background_color='C0DEED', profile_background_image_url='http://abs.twimg.com/images/themes/theme1/bg.png', profile_background_image_url_https='https://abs.twimg.com/images/themes/theme1/bg.png', profile_background_tile=False, profile_image_url='http://pbs.twimg.com/profile_images/887391369727225857/XWy2Ykgo_normal.jpg', profile_image_url_https='https://pbs.twimg.com/profile_images/887391369727225857/XWy2Ykgo_normal.jpg', profile_banner_url='https://pbs.twimg.com/profile_banners/2589984816/1623251423', profile_link_color='1DA1F2', profile_sidebar_border_color='C0DEED', profile_sidebar_fill_color='DDEEF6', profile_text_color='333333', profile_use_background_image=True, has_extended_profile=True, default_profile=True, default_profile_image=False, following=False, follow_request_sent=False, notifications=False, translator_type='none', withheld_in_countries=[]), user=User(_api=<tweepy.api.API object at 0x000001F333ADE8E0>, _json={'id': 2589984816, 'id_str': '2589984816', 'name': 'Eduardo Valente', 'screen_name': 'EduardoValenteI', 'location': 'SãoPaulo SampaCity Brasil 🇧🇷', 'description': 'criação #B2C #B2B consultor #Seoparaecommerce #SeoparaWebSite\\nPara #empresaonline👉https://t.co/zTUaaEvBQ0 #EV #EduardoValente', 'url': 'https://t.co/029AsFQZFA', 'entities': {'url': {'urls': [{'url': 'https://t.co/029AsFQZFA', 'expanded_url': 'http://youtu.be/vz1tBFu6CqI', 'display_url': 'youtu.be/vz1tBFu6CqI', 'indices': [0, 23]}]}, 'description': {'urls': [{'url': 'https://t.co/zTUaaEvBQ0', 'expanded_url': 'https://www.gettr.com/user/motoresdebusca', 'display_url': 'gettr.com/user/motoresde…', 'indices': [82, 105]}]}}, 'protected': False, 'followers_count': 4014, 'friends_count': 3384, 'listed_count': 102, 'created_at': 'Thu Jun 26 17:50:52 +0000 2014', 'favourites_count': 12025, 'utc_offset': None, 'time_zone': None, 'geo_enabled': True, 'verified': False, 'statuses_count': 34674, 'lang': None, 'contributors_enabled': False, 'is_translator': False, 'is_translation_enabled': False, 'profile_background_color': 'C0DEED', 'profile_background_image_url': 'http://abs.twimg.com/images/themes/theme1/bg.png', 'profile_background_image_url_https': 'https://abs.twimg.com/images/themes/theme1/bg.png', 'profile_background_tile': False, 'profile_image_url': 'http://pbs.twimg.com/profile_images/887391369727225857/XWy2Ykgo_normal.jpg', 'profile_image_url_https': 'https://pbs.twimg.com/profile_images/887391369727225857/XWy2Ykgo_normal.jpg', 'profile_banner_url': 'https://pbs.twimg.com/profile_banners/2589984816/1623251423', 'profile_link_color': '1DA1F2', 'profile_sidebar_border_color': 'C0DEED', 'profile_sidebar_fill_color': 'DDEEF6', 'profile_text_color': '333333', 'profile_use_background_image': True, 'has_extended_profile': True, 'default_profile': True, 'default_profile_image': False, 'following': False, 'follow_request_sent': False, 'notifications': False, 'translator_type': 'none', 'withheld_in_countries': []}, id=2589984816, id_str='2589984816', name='Eduardo Valente', screen_name='EduardoValenteI', location='SãoPaulo SampaCity Brasil 🇧🇷', description='criação #B2C #B2B consultor #Seoparaecommerce #SeoparaWebSite\\nPara #empresaonline👉https://t.co/zTUaaEvBQ0 #EV #EduardoValente', url='https://t.co/029AsFQZFA', entities={'url': {'urls': [{'url': 'https://t.co/029AsFQZFA', 'expanded_url': 'http://youtu.be/vz1tBFu6CqI', 'display_url': 'youtu.be/vz1tBFu6CqI', 'indices': [0, 23]}]}, 'description': {'urls': [{'url': 'https://t.co/zTUaaEvBQ0', 'expanded_url': 'https://www.gettr.com/user/motoresdebusca', 'display_url': 'gettr.com/user/motoresde…', 'indices': [82, 105]}]}}, protected=False, followers_count=4014, friends_count=3384, listed_count=102, created_at=datetime.datetime(2014, 6, 26, 17, 50, 52), favourites_count=12025, utc_offset=None, time_zone=None, geo_enabled=True, verified=False, statuses_count=34674, lang=None, contributors_enabled=False, is_translator=False, is_translation_enabled=False, profile_background_color='C0DEED', profile_background_image_url='http://abs.twimg.com/images/themes/theme1/bg.png', profile_background_image_url_https='https://abs.twimg.com/images/themes/theme1/bg.png', profile_background_tile=False, profile_image_url='http://pbs.twimg.com/profile_images/887391369727225857/XWy2Ykgo_normal.jpg', profile_image_url_https='https://pbs.twimg.com/profile_images/887391369727225857/XWy2Ykgo_normal.jpg', profile_banner_url='https://pbs.twimg.com/profile_banners/2589984816/1623251423', profile_link_color='1DA1F2', profile_sidebar_border_color='C0DEED', profile_sidebar_fill_color='DDEEF6', profile_text_color='333333', profile_use_background_image=True, has_extended_profile=True, default_profile=True, default_profile_image=False, following=False, follow_request_sent=False, notifications=False, translator_type='none', withheld_in_countries=[]), geo=None, coordinates=None, place=None, contributors=None, is_quote_status=False, retweet_count=2, favorite_count=0, favorited=False, retweeted=False, possibly_sensitive=False, lang='en'), is_quote_status=False, retweet_count=2, favorite_count=0, favorited=False, retweeted=False, lang='en'),\n",
       " Status(_api=<tweepy.api.API object at 0x000001F333ADE8E0>, _json={'created_at': 'Fri Jul 02 11:43:19 +0000 2021', 'id': 1410927057916379145, 'id_str': '1410927057916379145', 'text': 'RT @EduardoValenteI: :.@CoimbraSummit Hi my friend, very welcome!\\nThank you for sharing!\\n#Coimbra #Portugal\\n#coimbrasummit\\n@Pytlicek\\n#Tomas…', 'truncated': False, 'entities': {'hashtags': [{'text': 'Coimbra', 'indices': [89, 97]}, {'text': 'Portugal', 'indices': [98, 107]}, {'text': 'coimbrasummit', 'indices': [108, 122]}], 'symbols': [], 'user_mentions': [{'screen_name': 'EduardoValenteI', 'name': 'Eduardo Valente', 'id': 2589984816, 'id_str': '2589984816', 'indices': [3, 19]}, {'screen_name': 'CoimbraSummit', 'name': 'CoimbraSummit', 'id': 786512101330124800, 'id_str': '786512101330124800', 'indices': [23, 37]}, {'screen_name': 'Pytlicek', 'name': 'Tomas Pytel', 'id': 207632758, 'id_str': '207632758', 'indices': [123, 132]}], 'urls': []}, 'metadata': {'iso_language_code': 'en', 'result_type': 'recent'}, 'source': '<a href=\"http://www.coimbrasummit.com/\" rel=\"nofollow\">WebSummitBot2</a>', 'in_reply_to_status_id': None, 'in_reply_to_status_id_str': None, 'in_reply_to_user_id': None, 'in_reply_to_user_id_str': None, 'in_reply_to_screen_name': None, 'user': {'id': 786512101330124800, 'id_str': '786512101330124800', 'name': 'CoimbraSummit', 'screen_name': 'CoimbraSummit', 'location': 'Coimbra, Portugal', 'description': 'Twitter of creators, entrepreneurs, dreamers, youth and elders, companies and startups, from Coimbra that are here, doing, trying and fighting every day.', 'url': 'https://t.co/JSN6fDLLfw', 'entities': {'url': {'urls': [{'url': 'https://t.co/JSN6fDLLfw', 'expanded_url': 'http://www.coimbrasummit.com', 'display_url': 'coimbrasummit.com', 'indices': [0, 23]}]}, 'description': {'urls': []}}, 'protected': False, 'followers_count': 2239, 'friends_count': 196, 'listed_count': 506, 'created_at': 'Thu Oct 13 10:21:12 +0000 2016', 'favourites_count': 1945, 'utc_offset': None, 'time_zone': None, 'geo_enabled': False, 'verified': False, 'statuses_count': 127168, 'lang': None, 'contributors_enabled': False, 'is_translator': False, 'is_translation_enabled': False, 'profile_background_color': '000000', 'profile_background_image_url': 'http://abs.twimg.com/images/themes/theme1/bg.png', 'profile_background_image_url_https': 'https://abs.twimg.com/images/themes/theme1/bg.png', 'profile_background_tile': False, 'profile_image_url': 'http://pbs.twimg.com/profile_images/786513701583069184/OFb7pB3z_normal.jpg', 'profile_image_url_https': 'https://pbs.twimg.com/profile_images/786513701583069184/OFb7pB3z_normal.jpg', 'profile_banner_url': 'https://pbs.twimg.com/profile_banners/786512101330124800/1476357609', 'profile_link_color': '000000', 'profile_sidebar_border_color': '000000', 'profile_sidebar_fill_color': '000000', 'profile_text_color': '000000', 'profile_use_background_image': False, 'has_extended_profile': False, 'default_profile': False, 'default_profile_image': False, 'following': False, 'follow_request_sent': False, 'notifications': False, 'translator_type': 'none', 'withheld_in_countries': []}, 'geo': None, 'coordinates': None, 'place': None, 'contributors': None, 'retweeted_status': {'created_at': 'Fri Jul 02 11:36:32 +0000 2021', 'id': 1410925354617815045, 'id_str': '1410925354617815045', 'text': ':.@CoimbraSummit Hi my friend, very welcome!\\nThank you for sharing!\\n#Coimbra #Portugal\\n#coimbrasummit\\n@Pytlicek… https://t.co/Xvsn0tTRRr', 'truncated': True, 'entities': {'hashtags': [{'text': 'Coimbra', 'indices': [68, 76]}, {'text': 'Portugal', 'indices': [77, 86]}, {'text': 'coimbrasummit', 'indices': [87, 101]}], 'symbols': [], 'user_mentions': [{'screen_name': 'CoimbraSummit', 'name': 'CoimbraSummit', 'id': 786512101330124800, 'id_str': '786512101330124800', 'indices': [2, 16]}, {'screen_name': 'Pytlicek', 'name': 'Tomas Pytel', 'id': 207632758, 'id_str': '207632758', 'indices': [102, 111]}], 'urls': [{'url': 'https://t.co/Xvsn0tTRRr', 'expanded_url': 'https://twitter.com/i/web/status/1410925354617815045', 'display_url': 'twitter.com/i/web/status/1…', 'indices': [113, 136]}]}, 'metadata': {'iso_language_code': 'en', 'result_type': 'recent'}, 'source': '<a href=\"https://mobile.twitter.com\" rel=\"nofollow\">Twitter Web App</a>', 'in_reply_to_status_id': 1410911948238163971, 'in_reply_to_status_id_str': '1410911948238163971', 'in_reply_to_user_id': 2589984816, 'in_reply_to_user_id_str': '2589984816', 'in_reply_to_screen_name': 'EduardoValenteI', 'user': {'id': 2589984816, 'id_str': '2589984816', 'name': 'Eduardo Valente', 'screen_name': 'EduardoValenteI', 'location': 'SãoPaulo SampaCity Brasil 🇧🇷', 'description': 'criação #B2C #B2B consultor #Seoparaecommerce #SeoparaWebSite\\nPara #empresaonline👉https://t.co/zTUaaEvBQ0 #EV #EduardoValente', 'url': 'https://t.co/029AsFQZFA', 'entities': {'url': {'urls': [{'url': 'https://t.co/029AsFQZFA', 'expanded_url': 'http://youtu.be/vz1tBFu6CqI', 'display_url': 'youtu.be/vz1tBFu6CqI', 'indices': [0, 23]}]}, 'description': {'urls': [{'url': 'https://t.co/zTUaaEvBQ0', 'expanded_url': 'https://www.gettr.com/user/motoresdebusca', 'display_url': 'gettr.com/user/motoresde…', 'indices': [82, 105]}]}}, 'protected': False, 'followers_count': 4014, 'friends_count': 3384, 'listed_count': 102, 'created_at': 'Thu Jun 26 17:50:52 +0000 2014', 'favourites_count': 12025, 'utc_offset': None, 'time_zone': None, 'geo_enabled': True, 'verified': False, 'statuses_count': 34674, 'lang': None, 'contributors_enabled': False, 'is_translator': False, 'is_translation_enabled': False, 'profile_background_color': 'C0DEED', 'profile_background_image_url': 'http://abs.twimg.com/images/themes/theme1/bg.png', 'profile_background_image_url_https': 'https://abs.twimg.com/images/themes/theme1/bg.png', 'profile_background_tile': False, 'profile_image_url': 'http://pbs.twimg.com/profile_images/887391369727225857/XWy2Ykgo_normal.jpg', 'profile_image_url_https': 'https://pbs.twimg.com/profile_images/887391369727225857/XWy2Ykgo_normal.jpg', 'profile_banner_url': 'https://pbs.twimg.com/profile_banners/2589984816/1623251423', 'profile_link_color': '1DA1F2', 'profile_sidebar_border_color': 'C0DEED', 'profile_sidebar_fill_color': 'DDEEF6', 'profile_text_color': '333333', 'profile_use_background_image': True, 'has_extended_profile': True, 'default_profile': True, 'default_profile_image': False, 'following': False, 'follow_request_sent': False, 'notifications': False, 'translator_type': 'none', 'withheld_in_countries': []}, 'geo': None, 'coordinates': None, 'place': None, 'contributors': None, 'is_quote_status': False, 'retweet_count': 2, 'favorite_count': 0, 'favorited': False, 'retweeted': False, 'possibly_sensitive': False, 'lang': 'en'}, 'is_quote_status': False, 'retweet_count': 2, 'favorite_count': 0, 'favorited': False, 'retweeted': False, 'lang': 'en'}, created_at=datetime.datetime(2021, 7, 2, 11, 43, 19), id=1410927057916379145, id_str='1410927057916379145', text='RT @EduardoValenteI: :.@CoimbraSummit Hi my friend, very welcome!\\nThank you for sharing!\\n#Coimbra #Portugal\\n#coimbrasummit\\n@Pytlicek\\n#Tomas…', truncated=False, entities={'hashtags': [{'text': 'Coimbra', 'indices': [89, 97]}, {'text': 'Portugal', 'indices': [98, 107]}, {'text': 'coimbrasummit', 'indices': [108, 122]}], 'symbols': [], 'user_mentions': [{'screen_name': 'EduardoValenteI', 'name': 'Eduardo Valente', 'id': 2589984816, 'id_str': '2589984816', 'indices': [3, 19]}, {'screen_name': 'CoimbraSummit', 'name': 'CoimbraSummit', 'id': 786512101330124800, 'id_str': '786512101330124800', 'indices': [23, 37]}, {'screen_name': 'Pytlicek', 'name': 'Tomas Pytel', 'id': 207632758, 'id_str': '207632758', 'indices': [123, 132]}], 'urls': []}, metadata={'iso_language_code': 'en', 'result_type': 'recent'}, source='WebSummitBot2', source_url='http://www.coimbrasummit.com/', in_reply_to_status_id=None, in_reply_to_status_id_str=None, in_reply_to_user_id=None, in_reply_to_user_id_str=None, in_reply_to_screen_name=None, author=User(_api=<tweepy.api.API object at 0x000001F333ADE8E0>, _json={'id': 786512101330124800, 'id_str': '786512101330124800', 'name': 'CoimbraSummit', 'screen_name': 'CoimbraSummit', 'location': 'Coimbra, Portugal', 'description': 'Twitter of creators, entrepreneurs, dreamers, youth and elders, companies and startups, from Coimbra that are here, doing, trying and fighting every day.', 'url': 'https://t.co/JSN6fDLLfw', 'entities': {'url': {'urls': [{'url': 'https://t.co/JSN6fDLLfw', 'expanded_url': 'http://www.coimbrasummit.com', 'display_url': 'coimbrasummit.com', 'indices': [0, 23]}]}, 'description': {'urls': []}}, 'protected': False, 'followers_count': 2239, 'friends_count': 196, 'listed_count': 506, 'created_at': 'Thu Oct 13 10:21:12 +0000 2016', 'favourites_count': 1945, 'utc_offset': None, 'time_zone': None, 'geo_enabled': False, 'verified': False, 'statuses_count': 127168, 'lang': None, 'contributors_enabled': False, 'is_translator': False, 'is_translation_enabled': False, 'profile_background_color': '000000', 'profile_background_image_url': 'http://abs.twimg.com/images/themes/theme1/bg.png', 'profile_background_image_url_https': 'https://abs.twimg.com/images/themes/theme1/bg.png', 'profile_background_tile': False, 'profile_image_url': 'http://pbs.twimg.com/profile_images/786513701583069184/OFb7pB3z_normal.jpg', 'profile_image_url_https': 'https://pbs.twimg.com/profile_images/786513701583069184/OFb7pB3z_normal.jpg', 'profile_banner_url': 'https://pbs.twimg.com/profile_banners/786512101330124800/1476357609', 'profile_link_color': '000000', 'profile_sidebar_border_color': '000000', 'profile_sidebar_fill_color': '000000', 'profile_text_color': '000000', 'profile_use_background_image': False, 'has_extended_profile': False, 'default_profile': False, 'default_profile_image': False, 'following': False, 'follow_request_sent': False, 'notifications': False, 'translator_type': 'none', 'withheld_in_countries': []}, id=786512101330124800, id_str='786512101330124800', name='CoimbraSummit', screen_name='CoimbraSummit', location='Coimbra, Portugal', description='Twitter of creators, entrepreneurs, dreamers, youth and elders, companies and startups, from Coimbra that are here, doing, trying and fighting every day.', url='https://t.co/JSN6fDLLfw', entities={'url': {'urls': [{'url': 'https://t.co/JSN6fDLLfw', 'expanded_url': 'http://www.coimbrasummit.com', 'display_url': 'coimbrasummit.com', 'indices': [0, 23]}]}, 'description': {'urls': []}}, protected=False, followers_count=2239, friends_count=196, listed_count=506, created_at=datetime.datetime(2016, 10, 13, 10, 21, 12), favourites_count=1945, utc_offset=None, time_zone=None, geo_enabled=False, verified=False, statuses_count=127168, lang=None, contributors_enabled=False, is_translator=False, is_translation_enabled=False, profile_background_color='000000', profile_background_image_url='http://abs.twimg.com/images/themes/theme1/bg.png', profile_background_image_url_https='https://abs.twimg.com/images/themes/theme1/bg.png', profile_background_tile=False, profile_image_url='http://pbs.twimg.com/profile_images/786513701583069184/OFb7pB3z_normal.jpg', profile_image_url_https='https://pbs.twimg.com/profile_images/786513701583069184/OFb7pB3z_normal.jpg', profile_banner_url='https://pbs.twimg.com/profile_banners/786512101330124800/1476357609', profile_link_color='000000', profile_sidebar_border_color='000000', profile_sidebar_fill_color='000000', profile_text_color='000000', profile_use_background_image=False, has_extended_profile=False, default_profile=False, default_profile_image=False, following=False, follow_request_sent=False, notifications=False, translator_type='none', withheld_in_countries=[]), user=User(_api=<tweepy.api.API object at 0x000001F333ADE8E0>, _json={'id': 786512101330124800, 'id_str': '786512101330124800', 'name': 'CoimbraSummit', 'screen_name': 'CoimbraSummit', 'location': 'Coimbra, Portugal', 'description': 'Twitter of creators, entrepreneurs, dreamers, youth and elders, companies and startups, from Coimbra that are here, doing, trying and fighting every day.', 'url': 'https://t.co/JSN6fDLLfw', 'entities': {'url': {'urls': [{'url': 'https://t.co/JSN6fDLLfw', 'expanded_url': 'http://www.coimbrasummit.com', 'display_url': 'coimbrasummit.com', 'indices': [0, 23]}]}, 'description': {'urls': []}}, 'protected': False, 'followers_count': 2239, 'friends_count': 196, 'listed_count': 506, 'created_at': 'Thu Oct 13 10:21:12 +0000 2016', 'favourites_count': 1945, 'utc_offset': None, 'time_zone': None, 'geo_enabled': False, 'verified': False, 'statuses_count': 127168, 'lang': None, 'contributors_enabled': False, 'is_translator': False, 'is_translation_enabled': False, 'profile_background_color': '000000', 'profile_background_image_url': 'http://abs.twimg.com/images/themes/theme1/bg.png', 'profile_background_image_url_https': 'https://abs.twimg.com/images/themes/theme1/bg.png', 'profile_background_tile': False, 'profile_image_url': 'http://pbs.twimg.com/profile_images/786513701583069184/OFb7pB3z_normal.jpg', 'profile_image_url_https': 'https://pbs.twimg.com/profile_images/786513701583069184/OFb7pB3z_normal.jpg', 'profile_banner_url': 'https://pbs.twimg.com/profile_banners/786512101330124800/1476357609', 'profile_link_color': '000000', 'profile_sidebar_border_color': '000000', 'profile_sidebar_fill_color': '000000', 'profile_text_color': '000000', 'profile_use_background_image': False, 'has_extended_profile': False, 'default_profile': False, 'default_profile_image': False, 'following': False, 'follow_request_sent': False, 'notifications': False, 'translator_type': 'none', 'withheld_in_countries': []}, id=786512101330124800, id_str='786512101330124800', name='CoimbraSummit', screen_name='CoimbraSummit', location='Coimbra, Portugal', description='Twitter of creators, entrepreneurs, dreamers, youth and elders, companies and startups, from Coimbra that are here, doing, trying and fighting every day.', url='https://t.co/JSN6fDLLfw', entities={'url': {'urls': [{'url': 'https://t.co/JSN6fDLLfw', 'expanded_url': 'http://www.coimbrasummit.com', 'display_url': 'coimbrasummit.com', 'indices': [0, 23]}]}, 'description': {'urls': []}}, protected=False, followers_count=2239, friends_count=196, listed_count=506, created_at=datetime.datetime(2016, 10, 13, 10, 21, 12), favourites_count=1945, utc_offset=None, time_zone=None, geo_enabled=False, verified=False, statuses_count=127168, lang=None, contributors_enabled=False, is_translator=False, is_translation_enabled=False, profile_background_color='000000', profile_background_image_url='http://abs.twimg.com/images/themes/theme1/bg.png', profile_background_image_url_https='https://abs.twimg.com/images/themes/theme1/bg.png', profile_background_tile=False, profile_image_url='http://pbs.twimg.com/profile_images/786513701583069184/OFb7pB3z_normal.jpg', profile_image_url_https='https://pbs.twimg.com/profile_images/786513701583069184/OFb7pB3z_normal.jpg', profile_banner_url='https://pbs.twimg.com/profile_banners/786512101330124800/1476357609', profile_link_color='000000', profile_sidebar_border_color='000000', profile_sidebar_fill_color='000000', profile_text_color='000000', profile_use_background_image=False, has_extended_profile=False, default_profile=False, default_profile_image=False, following=False, follow_request_sent=False, notifications=False, translator_type='none', withheld_in_countries=[]), geo=None, coordinates=None, place=None, contributors=None, retweeted_status=Status(_api=<tweepy.api.API object at 0x000001F333ADE8E0>, _json={'created_at': 'Fri Jul 02 11:36:32 +0000 2021', 'id': 1410925354617815045, 'id_str': '1410925354617815045', 'text': ':.@CoimbraSummit Hi my friend, very welcome!\\nThank you for sharing!\\n#Coimbra #Portugal\\n#coimbrasummit\\n@Pytlicek… https://t.co/Xvsn0tTRRr', 'truncated': True, 'entities': {'hashtags': [{'text': 'Coimbra', 'indices': [68, 76]}, {'text': 'Portugal', 'indices': [77, 86]}, {'text': 'coimbrasummit', 'indices': [87, 101]}], 'symbols': [], 'user_mentions': [{'screen_name': 'CoimbraSummit', 'name': 'CoimbraSummit', 'id': 786512101330124800, 'id_str': '786512101330124800', 'indices': [2, 16]}, {'screen_name': 'Pytlicek', 'name': 'Tomas Pytel', 'id': 207632758, 'id_str': '207632758', 'indices': [102, 111]}], 'urls': [{'url': 'https://t.co/Xvsn0tTRRr', 'expanded_url': 'https://twitter.com/i/web/status/1410925354617815045', 'display_url': 'twitter.com/i/web/status/1…', 'indices': [113, 136]}]}, 'metadata': {'iso_language_code': 'en', 'result_type': 'recent'}, 'source': '<a href=\"https://mobile.twitter.com\" rel=\"nofollow\">Twitter Web App</a>', 'in_reply_to_status_id': 1410911948238163971, 'in_reply_to_status_id_str': '1410911948238163971', 'in_reply_to_user_id': 2589984816, 'in_reply_to_user_id_str': '2589984816', 'in_reply_to_screen_name': 'EduardoValenteI', 'user': {'id': 2589984816, 'id_str': '2589984816', 'name': 'Eduardo Valente', 'screen_name': 'EduardoValenteI', 'location': 'SãoPaulo SampaCity Brasil 🇧🇷', 'description': 'criação #B2C #B2B consultor #Seoparaecommerce #SeoparaWebSite\\nPara #empresaonline👉https://t.co/zTUaaEvBQ0 #EV #EduardoValente', 'url': 'https://t.co/029AsFQZFA', 'entities': {'url': {'urls': [{'url': 'https://t.co/029AsFQZFA', 'expanded_url': 'http://youtu.be/vz1tBFu6CqI', 'display_url': 'youtu.be/vz1tBFu6CqI', 'indices': [0, 23]}]}, 'description': {'urls': [{'url': 'https://t.co/zTUaaEvBQ0', 'expanded_url': 'https://www.gettr.com/user/motoresdebusca', 'display_url': 'gettr.com/user/motoresde…', 'indices': [82, 105]}]}}, 'protected': False, 'followers_count': 4014, 'friends_count': 3384, 'listed_count': 102, 'created_at': 'Thu Jun 26 17:50:52 +0000 2014', 'favourites_count': 12025, 'utc_offset': None, 'time_zone': None, 'geo_enabled': True, 'verified': False, 'statuses_count': 34674, 'lang': None, 'contributors_enabled': False, 'is_translator': False, 'is_translation_enabled': False, 'profile_background_color': 'C0DEED', 'profile_background_image_url': 'http://abs.twimg.com/images/themes/theme1/bg.png', 'profile_background_image_url_https': 'https://abs.twimg.com/images/themes/theme1/bg.png', 'profile_background_tile': False, 'profile_image_url': 'http://pbs.twimg.com/profile_images/887391369727225857/XWy2Ykgo_normal.jpg', 'profile_image_url_https': 'https://pbs.twimg.com/profile_images/887391369727225857/XWy2Ykgo_normal.jpg', 'profile_banner_url': 'https://pbs.twimg.com/profile_banners/2589984816/1623251423', 'profile_link_color': '1DA1F2', 'profile_sidebar_border_color': 'C0DEED', 'profile_sidebar_fill_color': 'DDEEF6', 'profile_text_color': '333333', 'profile_use_background_image': True, 'has_extended_profile': True, 'default_profile': True, 'default_profile_image': False, 'following': False, 'follow_request_sent': False, 'notifications': False, 'translator_type': 'none', 'withheld_in_countries': []}, 'geo': None, 'coordinates': None, 'place': None, 'contributors': None, 'is_quote_status': False, 'retweet_count': 2, 'favorite_count': 0, 'favorited': False, 'retweeted': False, 'possibly_sensitive': False, 'lang': 'en'}, created_at=datetime.datetime(2021, 7, 2, 11, 36, 32), id=1410925354617815045, id_str='1410925354617815045', text=':.@CoimbraSummit Hi my friend, very welcome!\\nThank you for sharing!\\n#Coimbra #Portugal\\n#coimbrasummit\\n@Pytlicek… https://t.co/Xvsn0tTRRr', truncated=True, entities={'hashtags': [{'text': 'Coimbra', 'indices': [68, 76]}, {'text': 'Portugal', 'indices': [77, 86]}, {'text': 'coimbrasummit', 'indices': [87, 101]}], 'symbols': [], 'user_mentions': [{'screen_name': 'CoimbraSummit', 'name': 'CoimbraSummit', 'id': 786512101330124800, 'id_str': '786512101330124800', 'indices': [2, 16]}, {'screen_name': 'Pytlicek', 'name': 'Tomas Pytel', 'id': 207632758, 'id_str': '207632758', 'indices': [102, 111]}], 'urls': [{'url': 'https://t.co/Xvsn0tTRRr', 'expanded_url': 'https://twitter.com/i/web/status/1410925354617815045', 'display_url': 'twitter.com/i/web/status/1…', 'indices': [113, 136]}]}, metadata={'iso_language_code': 'en', 'result_type': 'recent'}, source='Twitter Web App', source_url='https://mobile.twitter.com', in_reply_to_status_id=1410911948238163971, in_reply_to_status_id_str='1410911948238163971', in_reply_to_user_id=2589984816, in_reply_to_user_id_str='2589984816', in_reply_to_screen_name='EduardoValenteI', author=User(_api=<tweepy.api.API object at 0x000001F333ADE8E0>, _json={'id': 2589984816, 'id_str': '2589984816', 'name': 'Eduardo Valente', 'screen_name': 'EduardoValenteI', 'location': 'SãoPaulo SampaCity Brasil 🇧🇷', 'description': 'criação #B2C #B2B consultor #Seoparaecommerce #SeoparaWebSite\\nPara #empresaonline👉https://t.co/zTUaaEvBQ0 #EV #EduardoValente', 'url': 'https://t.co/029AsFQZFA', 'entities': {'url': {'urls': [{'url': 'https://t.co/029AsFQZFA', 'expanded_url': 'http://youtu.be/vz1tBFu6CqI', 'display_url': 'youtu.be/vz1tBFu6CqI', 'indices': [0, 23]}]}, 'description': {'urls': [{'url': 'https://t.co/zTUaaEvBQ0', 'expanded_url': 'https://www.gettr.com/user/motoresdebusca', 'display_url': 'gettr.com/user/motoresde…', 'indices': [82, 105]}]}}, 'protected': False, 'followers_count': 4014, 'friends_count': 3384, 'listed_count': 102, 'created_at': 'Thu Jun 26 17:50:52 +0000 2014', 'favourites_count': 12025, 'utc_offset': None, 'time_zone': None, 'geo_enabled': True, 'verified': False, 'statuses_count': 34674, 'lang': None, 'contributors_enabled': False, 'is_translator': False, 'is_translation_enabled': False, 'profile_background_color': 'C0DEED', 'profile_background_image_url': 'http://abs.twimg.com/images/themes/theme1/bg.png', 'profile_background_image_url_https': 'https://abs.twimg.com/images/themes/theme1/bg.png', 'profile_background_tile': False, 'profile_image_url': 'http://pbs.twimg.com/profile_images/887391369727225857/XWy2Ykgo_normal.jpg', 'profile_image_url_https': 'https://pbs.twimg.com/profile_images/887391369727225857/XWy2Ykgo_normal.jpg', 'profile_banner_url': 'https://pbs.twimg.com/profile_banners/2589984816/1623251423', 'profile_link_color': '1DA1F2', 'profile_sidebar_border_color': 'C0DEED', 'profile_sidebar_fill_color': 'DDEEF6', 'profile_text_color': '333333', 'profile_use_background_image': True, 'has_extended_profile': True, 'default_profile': True, 'default_profile_image': False, 'following': False, 'follow_request_sent': False, 'notifications': False, 'translator_type': 'none', 'withheld_in_countries': []}, id=2589984816, id_str='2589984816', name='Eduardo Valente', screen_name='EduardoValenteI', location='SãoPaulo SampaCity Brasil 🇧🇷', description='criação #B2C #B2B consultor #Seoparaecommerce #SeoparaWebSite\\nPara #empresaonline👉https://t.co/zTUaaEvBQ0 #EV #EduardoValente', url='https://t.co/029AsFQZFA', entities={'url': {'urls': [{'url': 'https://t.co/029AsFQZFA', 'expanded_url': 'http://youtu.be/vz1tBFu6CqI', 'display_url': 'youtu.be/vz1tBFu6CqI', 'indices': [0, 23]}]}, 'description': {'urls': [{'url': 'https://t.co/zTUaaEvBQ0', 'expanded_url': 'https://www.gettr.com/user/motoresdebusca', 'display_url': 'gettr.com/user/motoresde…', 'indices': [82, 105]}]}}, protected=False, followers_count=4014, friends_count=3384, listed_count=102, created_at=datetime.datetime(2014, 6, 26, 17, 50, 52), favourites_count=12025, utc_offset=None, time_zone=None, geo_enabled=True, verified=False, statuses_count=34674, lang=None, contributors_enabled=False, is_translator=False, is_translation_enabled=False, profile_background_color='C0DEED', profile_background_image_url='http://abs.twimg.com/images/themes/theme1/bg.png', profile_background_image_url_https='https://abs.twimg.com/images/themes/theme1/bg.png', profile_background_tile=False, profile_image_url='http://pbs.twimg.com/profile_images/887391369727225857/XWy2Ykgo_normal.jpg', profile_image_url_https='https://pbs.twimg.com/profile_images/887391369727225857/XWy2Ykgo_normal.jpg', profile_banner_url='https://pbs.twimg.com/profile_banners/2589984816/1623251423', profile_link_color='1DA1F2', profile_sidebar_border_color='C0DEED', profile_sidebar_fill_color='DDEEF6', profile_text_color='333333', profile_use_background_image=True, has_extended_profile=True, default_profile=True, default_profile_image=False, following=False, follow_request_sent=False, notifications=False, translator_type='none', withheld_in_countries=[]), user=User(_api=<tweepy.api.API object at 0x000001F333ADE8E0>, _json={'id': 2589984816, 'id_str': '2589984816', 'name': 'Eduardo Valente', 'screen_name': 'EduardoValenteI', 'location': 'SãoPaulo SampaCity Brasil 🇧🇷', 'description': 'criação #B2C #B2B consultor #Seoparaecommerce #SeoparaWebSite\\nPara #empresaonline👉https://t.co/zTUaaEvBQ0 #EV #EduardoValente', 'url': 'https://t.co/029AsFQZFA', 'entities': {'url': {'urls': [{'url': 'https://t.co/029AsFQZFA', 'expanded_url': 'http://youtu.be/vz1tBFu6CqI', 'display_url': 'youtu.be/vz1tBFu6CqI', 'indices': [0, 23]}]}, 'description': {'urls': [{'url': 'https://t.co/zTUaaEvBQ0', 'expanded_url': 'https://www.gettr.com/user/motoresdebusca', 'display_url': 'gettr.com/user/motoresde…', 'indices': [82, 105]}]}}, 'protected': False, 'followers_count': 4014, 'friends_count': 3384, 'listed_count': 102, 'created_at': 'Thu Jun 26 17:50:52 +0000 2014', 'favourites_count': 12025, 'utc_offset': None, 'time_zone': None, 'geo_enabled': True, 'verified': False, 'statuses_count': 34674, 'lang': None, 'contributors_enabled': False, 'is_translator': False, 'is_translation_enabled': False, 'profile_background_color': 'C0DEED', 'profile_background_image_url': 'http://abs.twimg.com/images/themes/theme1/bg.png', 'profile_background_image_url_https': 'https://abs.twimg.com/images/themes/theme1/bg.png', 'profile_background_tile': False, 'profile_image_url': 'http://pbs.twimg.com/profile_images/887391369727225857/XWy2Ykgo_normal.jpg', 'profile_image_url_https': 'https://pbs.twimg.com/profile_images/887391369727225857/XWy2Ykgo_normal.jpg', 'profile_banner_url': 'https://pbs.twimg.com/profile_banners/2589984816/1623251423', 'profile_link_color': '1DA1F2', 'profile_sidebar_border_color': 'C0DEED', 'profile_sidebar_fill_color': 'DDEEF6', 'profile_text_color': '333333', 'profile_use_background_image': True, 'has_extended_profile': True, 'default_profile': True, 'default_profile_image': False, 'following': False, 'follow_request_sent': False, 'notifications': False, 'translator_type': 'none', 'withheld_in_countries': []}, id=2589984816, id_str='2589984816', name='Eduardo Valente', screen_name='EduardoValenteI', location='SãoPaulo SampaCity Brasil 🇧🇷', description='criação #B2C #B2B consultor #Seoparaecommerce #SeoparaWebSite\\nPara #empresaonline👉https://t.co/zTUaaEvBQ0 #EV #EduardoValente', url='https://t.co/029AsFQZFA', entities={'url': {'urls': [{'url': 'https://t.co/029AsFQZFA', 'expanded_url': 'http://youtu.be/vz1tBFu6CqI', 'display_url': 'youtu.be/vz1tBFu6CqI', 'indices': [0, 23]}]}, 'description': {'urls': [{'url': 'https://t.co/zTUaaEvBQ0', 'expanded_url': 'https://www.gettr.com/user/motoresdebusca', 'display_url': 'gettr.com/user/motoresde…', 'indices': [82, 105]}]}}, protected=False, followers_count=4014, friends_count=3384, listed_count=102, created_at=datetime.datetime(2014, 6, 26, 17, 50, 52), favourites_count=12025, utc_offset=None, time_zone=None, geo_enabled=True, verified=False, statuses_count=34674, lang=None, contributors_enabled=False, is_translator=False, is_translation_enabled=False, profile_background_color='C0DEED', profile_background_image_url='http://abs.twimg.com/images/themes/theme1/bg.png', profile_background_image_url_https='https://abs.twimg.com/images/themes/theme1/bg.png', profile_background_tile=False, profile_image_url='http://pbs.twimg.com/profile_images/887391369727225857/XWy2Ykgo_normal.jpg', profile_image_url_https='https://pbs.twimg.com/profile_images/887391369727225857/XWy2Ykgo_normal.jpg', profile_banner_url='https://pbs.twimg.com/profile_banners/2589984816/1623251423', profile_link_color='1DA1F2', profile_sidebar_border_color='C0DEED', profile_sidebar_fill_color='DDEEF6', profile_text_color='333333', profile_use_background_image=True, has_extended_profile=True, default_profile=True, default_profile_image=False, following=False, follow_request_sent=False, notifications=False, translator_type='none', withheld_in_countries=[]), geo=None, coordinates=None, place=None, contributors=None, is_quote_status=False, retweet_count=2, favorite_count=0, favorited=False, retweeted=False, possibly_sensitive=False, lang='en'), is_quote_status=False, retweet_count=2, favorite_count=0, favorited=False, retweeted=False, lang='en'),\n",
       " Status(_api=<tweepy.api.API object at 0x000001F333ADE8E0>, _json={'created_at': 'Fri Jul 02 11:36:32 +0000 2021', 'id': 1410925354617815045, 'id_str': '1410925354617815045', 'text': ':.@CoimbraSummit Hi my friend, very welcome!\\nThank you for sharing!\\n#Coimbra #Portugal\\n#coimbrasummit\\n@Pytlicek… https://t.co/Xvsn0tTRRr', 'truncated': True, 'entities': {'hashtags': [{'text': 'Coimbra', 'indices': [68, 76]}, {'text': 'Portugal', 'indices': [77, 86]}, {'text': 'coimbrasummit', 'indices': [87, 101]}], 'symbols': [], 'user_mentions': [{'screen_name': 'CoimbraSummit', 'name': 'CoimbraSummit', 'id': 786512101330124800, 'id_str': '786512101330124800', 'indices': [2, 16]}, {'screen_name': 'Pytlicek', 'name': 'Tomas Pytel', 'id': 207632758, 'id_str': '207632758', 'indices': [102, 111]}], 'urls': [{'url': 'https://t.co/Xvsn0tTRRr', 'expanded_url': 'https://twitter.com/i/web/status/1410925354617815045', 'display_url': 'twitter.com/i/web/status/1…', 'indices': [113, 136]}]}, 'metadata': {'iso_language_code': 'en', 'result_type': 'recent'}, 'source': '<a href=\"https://mobile.twitter.com\" rel=\"nofollow\">Twitter Web App</a>', 'in_reply_to_status_id': 1410911948238163971, 'in_reply_to_status_id_str': '1410911948238163971', 'in_reply_to_user_id': 2589984816, 'in_reply_to_user_id_str': '2589984816', 'in_reply_to_screen_name': 'EduardoValenteI', 'user': {'id': 2589984816, 'id_str': '2589984816', 'name': 'Eduardo Valente', 'screen_name': 'EduardoValenteI', 'location': 'SãoPaulo SampaCity Brasil 🇧🇷', 'description': 'criação #B2C #B2B consultor #Seoparaecommerce #SeoparaWebSite\\nPara #empresaonline👉https://t.co/zTUaaEvBQ0 #EV #EduardoValente', 'url': 'https://t.co/029AsFQZFA', 'entities': {'url': {'urls': [{'url': 'https://t.co/029AsFQZFA', 'expanded_url': 'http://youtu.be/vz1tBFu6CqI', 'display_url': 'youtu.be/vz1tBFu6CqI', 'indices': [0, 23]}]}, 'description': {'urls': [{'url': 'https://t.co/zTUaaEvBQ0', 'expanded_url': 'https://www.gettr.com/user/motoresdebusca', 'display_url': 'gettr.com/user/motoresde…', 'indices': [82, 105]}]}}, 'protected': False, 'followers_count': 4014, 'friends_count': 3384, 'listed_count': 102, 'created_at': 'Thu Jun 26 17:50:52 +0000 2014', 'favourites_count': 12025, 'utc_offset': None, 'time_zone': None, 'geo_enabled': True, 'verified': False, 'statuses_count': 34674, 'lang': None, 'contributors_enabled': False, 'is_translator': False, 'is_translation_enabled': False, 'profile_background_color': 'C0DEED', 'profile_background_image_url': 'http://abs.twimg.com/images/themes/theme1/bg.png', 'profile_background_image_url_https': 'https://abs.twimg.com/images/themes/theme1/bg.png', 'profile_background_tile': False, 'profile_image_url': 'http://pbs.twimg.com/profile_images/887391369727225857/XWy2Ykgo_normal.jpg', 'profile_image_url_https': 'https://pbs.twimg.com/profile_images/887391369727225857/XWy2Ykgo_normal.jpg', 'profile_banner_url': 'https://pbs.twimg.com/profile_banners/2589984816/1623251423', 'profile_link_color': '1DA1F2', 'profile_sidebar_border_color': 'C0DEED', 'profile_sidebar_fill_color': 'DDEEF6', 'profile_text_color': '333333', 'profile_use_background_image': True, 'has_extended_profile': True, 'default_profile': True, 'default_profile_image': False, 'following': False, 'follow_request_sent': False, 'notifications': False, 'translator_type': 'none', 'withheld_in_countries': []}, 'geo': None, 'coordinates': None, 'place': None, 'contributors': None, 'is_quote_status': False, 'retweet_count': 2, 'favorite_count': 0, 'favorited': False, 'retweeted': False, 'possibly_sensitive': False, 'lang': 'en'}, created_at=datetime.datetime(2021, 7, 2, 11, 36, 32), id=1410925354617815045, id_str='1410925354617815045', text=':.@CoimbraSummit Hi my friend, very welcome!\\nThank you for sharing!\\n#Coimbra #Portugal\\n#coimbrasummit\\n@Pytlicek… https://t.co/Xvsn0tTRRr', truncated=True, entities={'hashtags': [{'text': 'Coimbra', 'indices': [68, 76]}, {'text': 'Portugal', 'indices': [77, 86]}, {'text': 'coimbrasummit', 'indices': [87, 101]}], 'symbols': [], 'user_mentions': [{'screen_name': 'CoimbraSummit', 'name': 'CoimbraSummit', 'id': 786512101330124800, 'id_str': '786512101330124800', 'indices': [2, 16]}, {'screen_name': 'Pytlicek', 'name': 'Tomas Pytel', 'id': 207632758, 'id_str': '207632758', 'indices': [102, 111]}], 'urls': [{'url': 'https://t.co/Xvsn0tTRRr', 'expanded_url': 'https://twitter.com/i/web/status/1410925354617815045', 'display_url': 'twitter.com/i/web/status/1…', 'indices': [113, 136]}]}, metadata={'iso_language_code': 'en', 'result_type': 'recent'}, source='Twitter Web App', source_url='https://mobile.twitter.com', in_reply_to_status_id=1410911948238163971, in_reply_to_status_id_str='1410911948238163971', in_reply_to_user_id=2589984816, in_reply_to_user_id_str='2589984816', in_reply_to_screen_name='EduardoValenteI', author=User(_api=<tweepy.api.API object at 0x000001F333ADE8E0>, _json={'id': 2589984816, 'id_str': '2589984816', 'name': 'Eduardo Valente', 'screen_name': 'EduardoValenteI', 'location': 'SãoPaulo SampaCity Brasil 🇧🇷', 'description': 'criação #B2C #B2B consultor #Seoparaecommerce #SeoparaWebSite\\nPara #empresaonline👉https://t.co/zTUaaEvBQ0 #EV #EduardoValente', 'url': 'https://t.co/029AsFQZFA', 'entities': {'url': {'urls': [{'url': 'https://t.co/029AsFQZFA', 'expanded_url': 'http://youtu.be/vz1tBFu6CqI', 'display_url': 'youtu.be/vz1tBFu6CqI', 'indices': [0, 23]}]}, 'description': {'urls': [{'url': 'https://t.co/zTUaaEvBQ0', 'expanded_url': 'https://www.gettr.com/user/motoresdebusca', 'display_url': 'gettr.com/user/motoresde…', 'indices': [82, 105]}]}}, 'protected': False, 'followers_count': 4014, 'friends_count': 3384, 'listed_count': 102, 'created_at': 'Thu Jun 26 17:50:52 +0000 2014', 'favourites_count': 12025, 'utc_offset': None, 'time_zone': None, 'geo_enabled': True, 'verified': False, 'statuses_count': 34674, 'lang': None, 'contributors_enabled': False, 'is_translator': False, 'is_translation_enabled': False, 'profile_background_color': 'C0DEED', 'profile_background_image_url': 'http://abs.twimg.com/images/themes/theme1/bg.png', 'profile_background_image_url_https': 'https://abs.twimg.com/images/themes/theme1/bg.png', 'profile_background_tile': False, 'profile_image_url': 'http://pbs.twimg.com/profile_images/887391369727225857/XWy2Ykgo_normal.jpg', 'profile_image_url_https': 'https://pbs.twimg.com/profile_images/887391369727225857/XWy2Ykgo_normal.jpg', 'profile_banner_url': 'https://pbs.twimg.com/profile_banners/2589984816/1623251423', 'profile_link_color': '1DA1F2', 'profile_sidebar_border_color': 'C0DEED', 'profile_sidebar_fill_color': 'DDEEF6', 'profile_text_color': '333333', 'profile_use_background_image': True, 'has_extended_profile': True, 'default_profile': True, 'default_profile_image': False, 'following': False, 'follow_request_sent': False, 'notifications': False, 'translator_type': 'none', 'withheld_in_countries': []}, id=2589984816, id_str='2589984816', name='Eduardo Valente', screen_name='EduardoValenteI', location='SãoPaulo SampaCity Brasil 🇧🇷', description='criação #B2C #B2B consultor #Seoparaecommerce #SeoparaWebSite\\nPara #empresaonline👉https://t.co/zTUaaEvBQ0 #EV #EduardoValente', url='https://t.co/029AsFQZFA', entities={'url': {'urls': [{'url': 'https://t.co/029AsFQZFA', 'expanded_url': 'http://youtu.be/vz1tBFu6CqI', 'display_url': 'youtu.be/vz1tBFu6CqI', 'indices': [0, 23]}]}, 'description': {'urls': [{'url': 'https://t.co/zTUaaEvBQ0', 'expanded_url': 'https://www.gettr.com/user/motoresdebusca', 'display_url': 'gettr.com/user/motoresde…', 'indices': [82, 105]}]}}, protected=False, followers_count=4014, friends_count=3384, listed_count=102, created_at=datetime.datetime(2014, 6, 26, 17, 50, 52), favourites_count=12025, utc_offset=None, time_zone=None, geo_enabled=True, verified=False, statuses_count=34674, lang=None, contributors_enabled=False, is_translator=False, is_translation_enabled=False, profile_background_color='C0DEED', profile_background_image_url='http://abs.twimg.com/images/themes/theme1/bg.png', profile_background_image_url_https='https://abs.twimg.com/images/themes/theme1/bg.png', profile_background_tile=False, profile_image_url='http://pbs.twimg.com/profile_images/887391369727225857/XWy2Ykgo_normal.jpg', profile_image_url_https='https://pbs.twimg.com/profile_images/887391369727225857/XWy2Ykgo_normal.jpg', profile_banner_url='https://pbs.twimg.com/profile_banners/2589984816/1623251423', profile_link_color='1DA1F2', profile_sidebar_border_color='C0DEED', profile_sidebar_fill_color='DDEEF6', profile_text_color='333333', profile_use_background_image=True, has_extended_profile=True, default_profile=True, default_profile_image=False, following=False, follow_request_sent=False, notifications=False, translator_type='none', withheld_in_countries=[]), user=User(_api=<tweepy.api.API object at 0x000001F333ADE8E0>, _json={'id': 2589984816, 'id_str': '2589984816', 'name': 'Eduardo Valente', 'screen_name': 'EduardoValenteI', 'location': 'SãoPaulo SampaCity Brasil 🇧🇷', 'description': 'criação #B2C #B2B consultor #Seoparaecommerce #SeoparaWebSite\\nPara #empresaonline👉https://t.co/zTUaaEvBQ0 #EV #EduardoValente', 'url': 'https://t.co/029AsFQZFA', 'entities': {'url': {'urls': [{'url': 'https://t.co/029AsFQZFA', 'expanded_url': 'http://youtu.be/vz1tBFu6CqI', 'display_url': 'youtu.be/vz1tBFu6CqI', 'indices': [0, 23]}]}, 'description': {'urls': [{'url': 'https://t.co/zTUaaEvBQ0', 'expanded_url': 'https://www.gettr.com/user/motoresdebusca', 'display_url': 'gettr.com/user/motoresde…', 'indices': [82, 105]}]}}, 'protected': False, 'followers_count': 4014, 'friends_count': 3384, 'listed_count': 102, 'created_at': 'Thu Jun 26 17:50:52 +0000 2014', 'favourites_count': 12025, 'utc_offset': None, 'time_zone': None, 'geo_enabled': True, 'verified': False, 'statuses_count': 34674, 'lang': None, 'contributors_enabled': False, 'is_translator': False, 'is_translation_enabled': False, 'profile_background_color': 'C0DEED', 'profile_background_image_url': 'http://abs.twimg.com/images/themes/theme1/bg.png', 'profile_background_image_url_https': 'https://abs.twimg.com/images/themes/theme1/bg.png', 'profile_background_tile': False, 'profile_image_url': 'http://pbs.twimg.com/profile_images/887391369727225857/XWy2Ykgo_normal.jpg', 'profile_image_url_https': 'https://pbs.twimg.com/profile_images/887391369727225857/XWy2Ykgo_normal.jpg', 'profile_banner_url': 'https://pbs.twimg.com/profile_banners/2589984816/1623251423', 'profile_link_color': '1DA1F2', 'profile_sidebar_border_color': 'C0DEED', 'profile_sidebar_fill_color': 'DDEEF6', 'profile_text_color': '333333', 'profile_use_background_image': True, 'has_extended_profile': True, 'default_profile': True, 'default_profile_image': False, 'following': False, 'follow_request_sent': False, 'notifications': False, 'translator_type': 'none', 'withheld_in_countries': []}, id=2589984816, id_str='2589984816', name='Eduardo Valente', screen_name='EduardoValenteI', location='SãoPaulo SampaCity Brasil 🇧🇷', description='criação #B2C #B2B consultor #Seoparaecommerce #SeoparaWebSite\\nPara #empresaonline👉https://t.co/zTUaaEvBQ0 #EV #EduardoValente', url='https://t.co/029AsFQZFA', entities={'url': {'urls': [{'url': 'https://t.co/029AsFQZFA', 'expanded_url': 'http://youtu.be/vz1tBFu6CqI', 'display_url': 'youtu.be/vz1tBFu6CqI', 'indices': [0, 23]}]}, 'description': {'urls': [{'url': 'https://t.co/zTUaaEvBQ0', 'expanded_url': 'https://www.gettr.com/user/motoresdebusca', 'display_url': 'gettr.com/user/motoresde…', 'indices': [82, 105]}]}}, protected=False, followers_count=4014, friends_count=3384, listed_count=102, created_at=datetime.datetime(2014, 6, 26, 17, 50, 52), favourites_count=12025, utc_offset=None, time_zone=None, geo_enabled=True, verified=False, statuses_count=34674, lang=None, contributors_enabled=False, is_translator=False, is_translation_enabled=False, profile_background_color='C0DEED', profile_background_image_url='http://abs.twimg.com/images/themes/theme1/bg.png', profile_background_image_url_https='https://abs.twimg.com/images/themes/theme1/bg.png', profile_background_tile=False, profile_image_url='http://pbs.twimg.com/profile_images/887391369727225857/XWy2Ykgo_normal.jpg', profile_image_url_https='https://pbs.twimg.com/profile_images/887391369727225857/XWy2Ykgo_normal.jpg', profile_banner_url='https://pbs.twimg.com/profile_banners/2589984816/1623251423', profile_link_color='1DA1F2', profile_sidebar_border_color='C0DEED', profile_sidebar_fill_color='DDEEF6', profile_text_color='333333', profile_use_background_image=True, has_extended_profile=True, default_profile=True, default_profile_image=False, following=False, follow_request_sent=False, notifications=False, translator_type='none', withheld_in_countries=[]), geo=None, coordinates=None, place=None, contributors=None, is_quote_status=False, retweet_count=2, favorite_count=0, favorited=False, retweeted=False, possibly_sensitive=False, lang='en'),\n",
       " Status(_api=<tweepy.api.API object at 0x000001F333ADE8E0>, _json={'created_at': 'Fri Jul 02 10:43:23 +0000 2021', 'id': 1410911976826494976, 'id_str': '1410911976826494976', 'text': 'RT @EduardoValenteI: #engineer👉just followedme! on #Twitter @Pytlicek\\n#TomasPytel #influencer in #London, #England\\nPython engineer.@PyCon s…', 'truncated': False, 'entities': {'hashtags': [{'text': 'engineer', 'indices': [21, 30]}, {'text': 'Twitter', 'indices': [51, 59]}, {'text': 'TomasPytel', 'indices': [70, 81]}, {'text': 'influencer', 'indices': [82, 93]}, {'text': 'London', 'indices': [97, 104]}, {'text': 'England', 'indices': [106, 114]}], 'symbols': [], 'user_mentions': [{'screen_name': 'EduardoValenteI', 'name': 'Eduardo Valente', 'id': 2589984816, 'id_str': '2589984816', 'indices': [3, 19]}, {'screen_name': 'Pytlicek', 'name': 'Tomas Pytel', 'id': 207632758, 'id_str': '207632758', 'indices': [60, 69]}, {'screen_name': 'pycon', 'name': 'PyCon US', 'id': 9475182, 'id_str': '9475182', 'indices': [131, 137]}], 'urls': []}, 'metadata': {'iso_language_code': 'en', 'result_type': 'recent'}, 'source': '<a href=\"http://www.coimbrasummit.com/\" rel=\"nofollow\">WebSummitBot2</a>', 'in_reply_to_status_id': None, 'in_reply_to_status_id_str': None, 'in_reply_to_user_id': None, 'in_reply_to_user_id_str': None, 'in_reply_to_screen_name': None, 'user': {'id': 786512101330124800, 'id_str': '786512101330124800', 'name': 'CoimbraSummit', 'screen_name': 'CoimbraSummit', 'location': 'Coimbra, Portugal', 'description': 'Twitter of creators, entrepreneurs, dreamers, youth and elders, companies and startups, from Coimbra that are here, doing, trying and fighting every day.', 'url': 'https://t.co/JSN6fDLLfw', 'entities': {'url': {'urls': [{'url': 'https://t.co/JSN6fDLLfw', 'expanded_url': 'http://www.coimbrasummit.com', 'display_url': 'coimbrasummit.com', 'indices': [0, 23]}]}, 'description': {'urls': []}}, 'protected': False, 'followers_count': 2239, 'friends_count': 196, 'listed_count': 506, 'created_at': 'Thu Oct 13 10:21:12 +0000 2016', 'favourites_count': 1945, 'utc_offset': None, 'time_zone': None, 'geo_enabled': False, 'verified': False, 'statuses_count': 127168, 'lang': None, 'contributors_enabled': False, 'is_translator': False, 'is_translation_enabled': False, 'profile_background_color': '000000', 'profile_background_image_url': 'http://abs.twimg.com/images/themes/theme1/bg.png', 'profile_background_image_url_https': 'https://abs.twimg.com/images/themes/theme1/bg.png', 'profile_background_tile': False, 'profile_image_url': 'http://pbs.twimg.com/profile_images/786513701583069184/OFb7pB3z_normal.jpg', 'profile_image_url_https': 'https://pbs.twimg.com/profile_images/786513701583069184/OFb7pB3z_normal.jpg', 'profile_banner_url': 'https://pbs.twimg.com/profile_banners/786512101330124800/1476357609', 'profile_link_color': '000000', 'profile_sidebar_border_color': '000000', 'profile_sidebar_fill_color': '000000', 'profile_text_color': '000000', 'profile_use_background_image': False, 'has_extended_profile': False, 'default_profile': False, 'default_profile_image': False, 'following': False, 'follow_request_sent': False, 'notifications': False, 'translator_type': 'none', 'withheld_in_countries': []}, 'geo': None, 'coordinates': None, 'place': None, 'contributors': None, 'retweeted_status': {'created_at': 'Fri Jul 02 10:43:16 +0000 2021', 'id': 1410911948238163971, 'id_str': '1410911948238163971', 'text': '#engineer👉just followedme! on #Twitter @Pytlicek\\n#TomasPytel #influencer in #London, #England\\nPython engineer.… https://t.co/y8Urir2tXe', 'truncated': True, 'entities': {'hashtags': [{'text': 'engineer', 'indices': [0, 9]}, {'text': 'Twitter', 'indices': [30, 38]}, {'text': 'TomasPytel', 'indices': [49, 60]}, {'text': 'influencer', 'indices': [61, 72]}, {'text': 'London', 'indices': [76, 83]}, {'text': 'England', 'indices': [85, 93]}], 'symbols': [], 'user_mentions': [{'screen_name': 'Pytlicek', 'name': 'Tomas Pytel', 'id': 207632758, 'id_str': '207632758', 'indices': [39, 48]}], 'urls': [{'url': 'https://t.co/y8Urir2tXe', 'expanded_url': 'https://twitter.com/i/web/status/1410911948238163971', 'display_url': 'twitter.com/i/web/status/1…', 'indices': [112, 135]}]}, 'metadata': {'iso_language_code': 'en', 'result_type': 'recent'}, 'source': '<a href=\"https://mobile.twitter.com\" rel=\"nofollow\">Twitter Web App</a>', 'in_reply_to_status_id': None, 'in_reply_to_status_id_str': None, 'in_reply_to_user_id': None, 'in_reply_to_user_id_str': None, 'in_reply_to_screen_name': None, 'user': {'id': 2589984816, 'id_str': '2589984816', 'name': 'Eduardo Valente', 'screen_name': 'EduardoValenteI', 'location': 'SãoPaulo SampaCity Brasil 🇧🇷', 'description': 'criação #B2C #B2B consultor #Seoparaecommerce #SeoparaWebSite\\nPara #empresaonline👉https://t.co/zTUaaEvBQ0 #EV #EduardoValente', 'url': 'https://t.co/029AsFQZFA', 'entities': {'url': {'urls': [{'url': 'https://t.co/029AsFQZFA', 'expanded_url': 'http://youtu.be/vz1tBFu6CqI', 'display_url': 'youtu.be/vz1tBFu6CqI', 'indices': [0, 23]}]}, 'description': {'urls': [{'url': 'https://t.co/zTUaaEvBQ0', 'expanded_url': 'https://www.gettr.com/user/motoresdebusca', 'display_url': 'gettr.com/user/motoresde…', 'indices': [82, 105]}]}}, 'protected': False, 'followers_count': 4014, 'friends_count': 3384, 'listed_count': 102, 'created_at': 'Thu Jun 26 17:50:52 +0000 2014', 'favourites_count': 12025, 'utc_offset': None, 'time_zone': None, 'geo_enabled': True, 'verified': False, 'statuses_count': 34674, 'lang': None, 'contributors_enabled': False, 'is_translator': False, 'is_translation_enabled': False, 'profile_background_color': 'C0DEED', 'profile_background_image_url': 'http://abs.twimg.com/images/themes/theme1/bg.png', 'profile_background_image_url_https': 'https://abs.twimg.com/images/themes/theme1/bg.png', 'profile_background_tile': False, 'profile_image_url': 'http://pbs.twimg.com/profile_images/887391369727225857/XWy2Ykgo_normal.jpg', 'profile_image_url_https': 'https://pbs.twimg.com/profile_images/887391369727225857/XWy2Ykgo_normal.jpg', 'profile_banner_url': 'https://pbs.twimg.com/profile_banners/2589984816/1623251423', 'profile_link_color': '1DA1F2', 'profile_sidebar_border_color': 'C0DEED', 'profile_sidebar_fill_color': 'DDEEF6', 'profile_text_color': '333333', 'profile_use_background_image': True, 'has_extended_profile': True, 'default_profile': True, 'default_profile_image': False, 'following': False, 'follow_request_sent': False, 'notifications': False, 'translator_type': 'none', 'withheld_in_countries': []}, 'geo': None, 'coordinates': None, 'place': None, 'contributors': None, 'is_quote_status': False, 'retweet_count': 2, 'favorite_count': 0, 'favorited': False, 'retweeted': False, 'possibly_sensitive': False, 'lang': 'en'}, 'is_quote_status': False, 'retweet_count': 2, 'favorite_count': 0, 'favorited': False, 'retweeted': False, 'lang': 'en'}, created_at=datetime.datetime(2021, 7, 2, 10, 43, 23), id=1410911976826494976, id_str='1410911976826494976', text='RT @EduardoValenteI: #engineer👉just followedme! on #Twitter @Pytlicek\\n#TomasPytel #influencer in #London, #England\\nPython engineer.@PyCon s…', truncated=False, entities={'hashtags': [{'text': 'engineer', 'indices': [21, 30]}, {'text': 'Twitter', 'indices': [51, 59]}, {'text': 'TomasPytel', 'indices': [70, 81]}, {'text': 'influencer', 'indices': [82, 93]}, {'text': 'London', 'indices': [97, 104]}, {'text': 'England', 'indices': [106, 114]}], 'symbols': [], 'user_mentions': [{'screen_name': 'EduardoValenteI', 'name': 'Eduardo Valente', 'id': 2589984816, 'id_str': '2589984816', 'indices': [3, 19]}, {'screen_name': 'Pytlicek', 'name': 'Tomas Pytel', 'id': 207632758, 'id_str': '207632758', 'indices': [60, 69]}, {'screen_name': 'pycon', 'name': 'PyCon US', 'id': 9475182, 'id_str': '9475182', 'indices': [131, 137]}], 'urls': []}, metadata={'iso_language_code': 'en', 'result_type': 'recent'}, source='WebSummitBot2', source_url='http://www.coimbrasummit.com/', in_reply_to_status_id=None, in_reply_to_status_id_str=None, in_reply_to_user_id=None, in_reply_to_user_id_str=None, in_reply_to_screen_name=None, author=User(_api=<tweepy.api.API object at 0x000001F333ADE8E0>, _json={'id': 786512101330124800, 'id_str': '786512101330124800', 'name': 'CoimbraSummit', 'screen_name': 'CoimbraSummit', 'location': 'Coimbra, Portugal', 'description': 'Twitter of creators, entrepreneurs, dreamers, youth and elders, companies and startups, from Coimbra that are here, doing, trying and fighting every day.', 'url': 'https://t.co/JSN6fDLLfw', 'entities': {'url': {'urls': [{'url': 'https://t.co/JSN6fDLLfw', 'expanded_url': 'http://www.coimbrasummit.com', 'display_url': 'coimbrasummit.com', 'indices': [0, 23]}]}, 'description': {'urls': []}}, 'protected': False, 'followers_count': 2239, 'friends_count': 196, 'listed_count': 506, 'created_at': 'Thu Oct 13 10:21:12 +0000 2016', 'favourites_count': 1945, 'utc_offset': None, 'time_zone': None, 'geo_enabled': False, 'verified': False, 'statuses_count': 127168, 'lang': None, 'contributors_enabled': False, 'is_translator': False, 'is_translation_enabled': False, 'profile_background_color': '000000', 'profile_background_image_url': 'http://abs.twimg.com/images/themes/theme1/bg.png', 'profile_background_image_url_https': 'https://abs.twimg.com/images/themes/theme1/bg.png', 'profile_background_tile': False, 'profile_image_url': 'http://pbs.twimg.com/profile_images/786513701583069184/OFb7pB3z_normal.jpg', 'profile_image_url_https': 'https://pbs.twimg.com/profile_images/786513701583069184/OFb7pB3z_normal.jpg', 'profile_banner_url': 'https://pbs.twimg.com/profile_banners/786512101330124800/1476357609', 'profile_link_color': '000000', 'profile_sidebar_border_color': '000000', 'profile_sidebar_fill_color': '000000', 'profile_text_color': '000000', 'profile_use_background_image': False, 'has_extended_profile': False, 'default_profile': False, 'default_profile_image': False, 'following': False, 'follow_request_sent': False, 'notifications': False, 'translator_type': 'none', 'withheld_in_countries': []}, id=786512101330124800, id_str='786512101330124800', name='CoimbraSummit', screen_name='CoimbraSummit', location='Coimbra, Portugal', description='Twitter of creators, entrepreneurs, dreamers, youth and elders, companies and startups, from Coimbra that are here, doing, trying and fighting every day.', url='https://t.co/JSN6fDLLfw', entities={'url': {'urls': [{'url': 'https://t.co/JSN6fDLLfw', 'expanded_url': 'http://www.coimbrasummit.com', 'display_url': 'coimbrasummit.com', 'indices': [0, 23]}]}, 'description': {'urls': []}}, protected=False, followers_count=2239, friends_count=196, listed_count=506, created_at=datetime.datetime(2016, 10, 13, 10, 21, 12), favourites_count=1945, utc_offset=None, time_zone=None, geo_enabled=False, verified=False, statuses_count=127168, lang=None, contributors_enabled=False, is_translator=False, is_translation_enabled=False, profile_background_color='000000', profile_background_image_url='http://abs.twimg.com/images/themes/theme1/bg.png', profile_background_image_url_https='https://abs.twimg.com/images/themes/theme1/bg.png', profile_background_tile=False, profile_image_url='http://pbs.twimg.com/profile_images/786513701583069184/OFb7pB3z_normal.jpg', profile_image_url_https='https://pbs.twimg.com/profile_images/786513701583069184/OFb7pB3z_normal.jpg', profile_banner_url='https://pbs.twimg.com/profile_banners/786512101330124800/1476357609', profile_link_color='000000', profile_sidebar_border_color='000000', profile_sidebar_fill_color='000000', profile_text_color='000000', profile_use_background_image=False, has_extended_profile=False, default_profile=False, default_profile_image=False, following=False, follow_request_sent=False, notifications=False, translator_type='none', withheld_in_countries=[]), user=User(_api=<tweepy.api.API object at 0x000001F333ADE8E0>, _json={'id': 786512101330124800, 'id_str': '786512101330124800', 'name': 'CoimbraSummit', 'screen_name': 'CoimbraSummit', 'location': 'Coimbra, Portugal', 'description': 'Twitter of creators, entrepreneurs, dreamers, youth and elders, companies and startups, from Coimbra that are here, doing, trying and fighting every day.', 'url': 'https://t.co/JSN6fDLLfw', 'entities': {'url': {'urls': [{'url': 'https://t.co/JSN6fDLLfw', 'expanded_url': 'http://www.coimbrasummit.com', 'display_url': 'coimbrasummit.com', 'indices': [0, 23]}]}, 'description': {'urls': []}}, 'protected': False, 'followers_count': 2239, 'friends_count': 196, 'listed_count': 506, 'created_at': 'Thu Oct 13 10:21:12 +0000 2016', 'favourites_count': 1945, 'utc_offset': None, 'time_zone': None, 'geo_enabled': False, 'verified': False, 'statuses_count': 127168, 'lang': None, 'contributors_enabled': False, 'is_translator': False, 'is_translation_enabled': False, 'profile_background_color': '000000', 'profile_background_image_url': 'http://abs.twimg.com/images/themes/theme1/bg.png', 'profile_background_image_url_https': 'https://abs.twimg.com/images/themes/theme1/bg.png', 'profile_background_tile': False, 'profile_image_url': 'http://pbs.twimg.com/profile_images/786513701583069184/OFb7pB3z_normal.jpg', 'profile_image_url_https': 'https://pbs.twimg.com/profile_images/786513701583069184/OFb7pB3z_normal.jpg', 'profile_banner_url': 'https://pbs.twimg.com/profile_banners/786512101330124800/1476357609', 'profile_link_color': '000000', 'profile_sidebar_border_color': '000000', 'profile_sidebar_fill_color': '000000', 'profile_text_color': '000000', 'profile_use_background_image': False, 'has_extended_profile': False, 'default_profile': False, 'default_profile_image': False, 'following': False, 'follow_request_sent': False, 'notifications': False, 'translator_type': 'none', 'withheld_in_countries': []}, id=786512101330124800, id_str='786512101330124800', name='CoimbraSummit', screen_name='CoimbraSummit', location='Coimbra, Portugal', description='Twitter of creators, entrepreneurs, dreamers, youth and elders, companies and startups, from Coimbra that are here, doing, trying and fighting every day.', url='https://t.co/JSN6fDLLfw', entities={'url': {'urls': [{'url': 'https://t.co/JSN6fDLLfw', 'expanded_url': 'http://www.coimbrasummit.com', 'display_url': 'coimbrasummit.com', 'indices': [0, 23]}]}, 'description': {'urls': []}}, protected=False, followers_count=2239, friends_count=196, listed_count=506, created_at=datetime.datetime(2016, 10, 13, 10, 21, 12), favourites_count=1945, utc_offset=None, time_zone=None, geo_enabled=False, verified=False, statuses_count=127168, lang=None, contributors_enabled=False, is_translator=False, is_translation_enabled=False, profile_background_color='000000', profile_background_image_url='http://abs.twimg.com/images/themes/theme1/bg.png', profile_background_image_url_https='https://abs.twimg.com/images/themes/theme1/bg.png', profile_background_tile=False, profile_image_url='http://pbs.twimg.com/profile_images/786513701583069184/OFb7pB3z_normal.jpg', profile_image_url_https='https://pbs.twimg.com/profile_images/786513701583069184/OFb7pB3z_normal.jpg', profile_banner_url='https://pbs.twimg.com/profile_banners/786512101330124800/1476357609', profile_link_color='000000', profile_sidebar_border_color='000000', profile_sidebar_fill_color='000000', profile_text_color='000000', profile_use_background_image=False, has_extended_profile=False, default_profile=False, default_profile_image=False, following=False, follow_request_sent=False, notifications=False, translator_type='none', withheld_in_countries=[]), geo=None, coordinates=None, place=None, contributors=None, retweeted_status=Status(_api=<tweepy.api.API object at 0x000001F333ADE8E0>, _json={'created_at': 'Fri Jul 02 10:43:16 +0000 2021', 'id': 1410911948238163971, 'id_str': '1410911948238163971', 'text': '#engineer👉just followedme! on #Twitter @Pytlicek\\n#TomasPytel #influencer in #London, #England\\nPython engineer.… https://t.co/y8Urir2tXe', 'truncated': True, 'entities': {'hashtags': [{'text': 'engineer', 'indices': [0, 9]}, {'text': 'Twitter', 'indices': [30, 38]}, {'text': 'TomasPytel', 'indices': [49, 60]}, {'text': 'influencer', 'indices': [61, 72]}, {'text': 'London', 'indices': [76, 83]}, {'text': 'England', 'indices': [85, 93]}], 'symbols': [], 'user_mentions': [{'screen_name': 'Pytlicek', 'name': 'Tomas Pytel', 'id': 207632758, 'id_str': '207632758', 'indices': [39, 48]}], 'urls': [{'url': 'https://t.co/y8Urir2tXe', 'expanded_url': 'https://twitter.com/i/web/status/1410911948238163971', 'display_url': 'twitter.com/i/web/status/1…', 'indices': [112, 135]}]}, 'metadata': {'iso_language_code': 'en', 'result_type': 'recent'}, 'source': '<a href=\"https://mobile.twitter.com\" rel=\"nofollow\">Twitter Web App</a>', 'in_reply_to_status_id': None, 'in_reply_to_status_id_str': None, 'in_reply_to_user_id': None, 'in_reply_to_user_id_str': None, 'in_reply_to_screen_name': None, 'user': {'id': 2589984816, 'id_str': '2589984816', 'name': 'Eduardo Valente', 'screen_name': 'EduardoValenteI', 'location': 'SãoPaulo SampaCity Brasil 🇧🇷', 'description': 'criação #B2C #B2B consultor #Seoparaecommerce #SeoparaWebSite\\nPara #empresaonline👉https://t.co/zTUaaEvBQ0 #EV #EduardoValente', 'url': 'https://t.co/029AsFQZFA', 'entities': {'url': {'urls': [{'url': 'https://t.co/029AsFQZFA', 'expanded_url': 'http://youtu.be/vz1tBFu6CqI', 'display_url': 'youtu.be/vz1tBFu6CqI', 'indices': [0, 23]}]}, 'description': {'urls': [{'url': 'https://t.co/zTUaaEvBQ0', 'expanded_url': 'https://www.gettr.com/user/motoresdebusca', 'display_url': 'gettr.com/user/motoresde…', 'indices': [82, 105]}]}}, 'protected': False, 'followers_count': 4014, 'friends_count': 3384, 'listed_count': 102, 'created_at': 'Thu Jun 26 17:50:52 +0000 2014', 'favourites_count': 12025, 'utc_offset': None, 'time_zone': None, 'geo_enabled': True, 'verified': False, 'statuses_count': 34674, 'lang': None, 'contributors_enabled': False, 'is_translator': False, 'is_translation_enabled': False, 'profile_background_color': 'C0DEED', 'profile_background_image_url': 'http://abs.twimg.com/images/themes/theme1/bg.png', 'profile_background_image_url_https': 'https://abs.twimg.com/images/themes/theme1/bg.png', 'profile_background_tile': False, 'profile_image_url': 'http://pbs.twimg.com/profile_images/887391369727225857/XWy2Ykgo_normal.jpg', 'profile_image_url_https': 'https://pbs.twimg.com/profile_images/887391369727225857/XWy2Ykgo_normal.jpg', 'profile_banner_url': 'https://pbs.twimg.com/profile_banners/2589984816/1623251423', 'profile_link_color': '1DA1F2', 'profile_sidebar_border_color': 'C0DEED', 'profile_sidebar_fill_color': 'DDEEF6', 'profile_text_color': '333333', 'profile_use_background_image': True, 'has_extended_profile': True, 'default_profile': True, 'default_profile_image': False, 'following': False, 'follow_request_sent': False, 'notifications': False, 'translator_type': 'none', 'withheld_in_countries': []}, 'geo': None, 'coordinates': None, 'place': None, 'contributors': None, 'is_quote_status': False, 'retweet_count': 2, 'favorite_count': 0, 'favorited': False, 'retweeted': False, 'possibly_sensitive': False, 'lang': 'en'}, created_at=datetime.datetime(2021, 7, 2, 10, 43, 16), id=1410911948238163971, id_str='1410911948238163971', text='#engineer👉just followedme! on #Twitter @Pytlicek\\n#TomasPytel #influencer in #London, #England\\nPython engineer.… https://t.co/y8Urir2tXe', truncated=True, entities={'hashtags': [{'text': 'engineer', 'indices': [0, 9]}, {'text': 'Twitter', 'indices': [30, 38]}, {'text': 'TomasPytel', 'indices': [49, 60]}, {'text': 'influencer', 'indices': [61, 72]}, {'text': 'London', 'indices': [76, 83]}, {'text': 'England', 'indices': [85, 93]}], 'symbols': [], 'user_mentions': [{'screen_name': 'Pytlicek', 'name': 'Tomas Pytel', 'id': 207632758, 'id_str': '207632758', 'indices': [39, 48]}], 'urls': [{'url': 'https://t.co/y8Urir2tXe', 'expanded_url': 'https://twitter.com/i/web/status/1410911948238163971', 'display_url': 'twitter.com/i/web/status/1…', 'indices': [112, 135]}]}, metadata={'iso_language_code': 'en', 'result_type': 'recent'}, source='Twitter Web App', source_url='https://mobile.twitter.com', in_reply_to_status_id=None, in_reply_to_status_id_str=None, in_reply_to_user_id=None, in_reply_to_user_id_str=None, in_reply_to_screen_name=None, author=User(_api=<tweepy.api.API object at 0x000001F333ADE8E0>, _json={'id': 2589984816, 'id_str': '2589984816', 'name': 'Eduardo Valente', 'screen_name': 'EduardoValenteI', 'location': 'SãoPaulo SampaCity Brasil 🇧🇷', 'description': 'criação #B2C #B2B consultor #Seoparaecommerce #SeoparaWebSite\\nPara #empresaonline👉https://t.co/zTUaaEvBQ0 #EV #EduardoValente', 'url': 'https://t.co/029AsFQZFA', 'entities': {'url': {'urls': [{'url': 'https://t.co/029AsFQZFA', 'expanded_url': 'http://youtu.be/vz1tBFu6CqI', 'display_url': 'youtu.be/vz1tBFu6CqI', 'indices': [0, 23]}]}, 'description': {'urls': [{'url': 'https://t.co/zTUaaEvBQ0', 'expanded_url': 'https://www.gettr.com/user/motoresdebusca', 'display_url': 'gettr.com/user/motoresde…', 'indices': [82, 105]}]}}, 'protected': False, 'followers_count': 4014, 'friends_count': 3384, 'listed_count': 102, 'created_at': 'Thu Jun 26 17:50:52 +0000 2014', 'favourites_count': 12025, 'utc_offset': None, 'time_zone': None, 'geo_enabled': True, 'verified': False, 'statuses_count': 34674, 'lang': None, 'contributors_enabled': False, 'is_translator': False, 'is_translation_enabled': False, 'profile_background_color': 'C0DEED', 'profile_background_image_url': 'http://abs.twimg.com/images/themes/theme1/bg.png', 'profile_background_image_url_https': 'https://abs.twimg.com/images/themes/theme1/bg.png', 'profile_background_tile': False, 'profile_image_url': 'http://pbs.twimg.com/profile_images/887391369727225857/XWy2Ykgo_normal.jpg', 'profile_image_url_https': 'https://pbs.twimg.com/profile_images/887391369727225857/XWy2Ykgo_normal.jpg', 'profile_banner_url': 'https://pbs.twimg.com/profile_banners/2589984816/1623251423', 'profile_link_color': '1DA1F2', 'profile_sidebar_border_color': 'C0DEED', 'profile_sidebar_fill_color': 'DDEEF6', 'profile_text_color': '333333', 'profile_use_background_image': True, 'has_extended_profile': True, 'default_profile': True, 'default_profile_image': False, 'following': False, 'follow_request_sent': False, 'notifications': False, 'translator_type': 'none', 'withheld_in_countries': []}, id=2589984816, id_str='2589984816', name='Eduardo Valente', screen_name='EduardoValenteI', location='SãoPaulo SampaCity Brasil 🇧🇷', description='criação #B2C #B2B consultor #Seoparaecommerce #SeoparaWebSite\\nPara #empresaonline👉https://t.co/zTUaaEvBQ0 #EV #EduardoValente', url='https://t.co/029AsFQZFA', entities={'url': {'urls': [{'url': 'https://t.co/029AsFQZFA', 'expanded_url': 'http://youtu.be/vz1tBFu6CqI', 'display_url': 'youtu.be/vz1tBFu6CqI', 'indices': [0, 23]}]}, 'description': {'urls': [{'url': 'https://t.co/zTUaaEvBQ0', 'expanded_url': 'https://www.gettr.com/user/motoresdebusca', 'display_url': 'gettr.com/user/motoresde…', 'indices': [82, 105]}]}}, protected=False, followers_count=4014, friends_count=3384, listed_count=102, created_at=datetime.datetime(2014, 6, 26, 17, 50, 52), favourites_count=12025, utc_offset=None, time_zone=None, geo_enabled=True, verified=False, statuses_count=34674, lang=None, contributors_enabled=False, is_translator=False, is_translation_enabled=False, profile_background_color='C0DEED', profile_background_image_url='http://abs.twimg.com/images/themes/theme1/bg.png', profile_background_image_url_https='https://abs.twimg.com/images/themes/theme1/bg.png', profile_background_tile=False, profile_image_url='http://pbs.twimg.com/profile_images/887391369727225857/XWy2Ykgo_normal.jpg', profile_image_url_https='https://pbs.twimg.com/profile_images/887391369727225857/XWy2Ykgo_normal.jpg', profile_banner_url='https://pbs.twimg.com/profile_banners/2589984816/1623251423', profile_link_color='1DA1F2', profile_sidebar_border_color='C0DEED', profile_sidebar_fill_color='DDEEF6', profile_text_color='333333', profile_use_background_image=True, has_extended_profile=True, default_profile=True, default_profile_image=False, following=False, follow_request_sent=False, notifications=False, translator_type='none', withheld_in_countries=[]), user=User(_api=<tweepy.api.API object at 0x000001F333ADE8E0>, _json={'id': 2589984816, 'id_str': '2589984816', 'name': 'Eduardo Valente', 'screen_name': 'EduardoValenteI', 'location': 'SãoPaulo SampaCity Brasil 🇧🇷', 'description': 'criação #B2C #B2B consultor #Seoparaecommerce #SeoparaWebSite\\nPara #empresaonline👉https://t.co/zTUaaEvBQ0 #EV #EduardoValente', 'url': 'https://t.co/029AsFQZFA', 'entities': {'url': {'urls': [{'url': 'https://t.co/029AsFQZFA', 'expanded_url': 'http://youtu.be/vz1tBFu6CqI', 'display_url': 'youtu.be/vz1tBFu6CqI', 'indices': [0, 23]}]}, 'description': {'urls': [{'url': 'https://t.co/zTUaaEvBQ0', 'expanded_url': 'https://www.gettr.com/user/motoresdebusca', 'display_url': 'gettr.com/user/motoresde…', 'indices': [82, 105]}]}}, 'protected': False, 'followers_count': 4014, 'friends_count': 3384, 'listed_count': 102, 'created_at': 'Thu Jun 26 17:50:52 +0000 2014', 'favourites_count': 12025, 'utc_offset': None, 'time_zone': None, 'geo_enabled': True, 'verified': False, 'statuses_count': 34674, 'lang': None, 'contributors_enabled': False, 'is_translator': False, 'is_translation_enabled': False, 'profile_background_color': 'C0DEED', 'profile_background_image_url': 'http://abs.twimg.com/images/themes/theme1/bg.png', 'profile_background_image_url_https': 'https://abs.twimg.com/images/themes/theme1/bg.png', 'profile_background_tile': False, 'profile_image_url': 'http://pbs.twimg.com/profile_images/887391369727225857/XWy2Ykgo_normal.jpg', 'profile_image_url_https': 'https://pbs.twimg.com/profile_images/887391369727225857/XWy2Ykgo_normal.jpg', 'profile_banner_url': 'https://pbs.twimg.com/profile_banners/2589984816/1623251423', 'profile_link_color': '1DA1F2', 'profile_sidebar_border_color': 'C0DEED', 'profile_sidebar_fill_color': 'DDEEF6', 'profile_text_color': '333333', 'profile_use_background_image': True, 'has_extended_profile': True, 'default_profile': True, 'default_profile_image': False, 'following': False, 'follow_request_sent': False, 'notifications': False, 'translator_type': 'none', 'withheld_in_countries': []}, id=2589984816, id_str='2589984816', name='Eduardo Valente', screen_name='EduardoValenteI', location='SãoPaulo SampaCity Brasil 🇧🇷', description='criação #B2C #B2B consultor #Seoparaecommerce #SeoparaWebSite\\nPara #empresaonline👉https://t.co/zTUaaEvBQ0 #EV #EduardoValente', url='https://t.co/029AsFQZFA', entities={'url': {'urls': [{'url': 'https://t.co/029AsFQZFA', 'expanded_url': 'http://youtu.be/vz1tBFu6CqI', 'display_url': 'youtu.be/vz1tBFu6CqI', 'indices': [0, 23]}]}, 'description': {'urls': [{'url': 'https://t.co/zTUaaEvBQ0', 'expanded_url': 'https://www.gettr.com/user/motoresdebusca', 'display_url': 'gettr.com/user/motoresde…', 'indices': [82, 105]}]}}, protected=False, followers_count=4014, friends_count=3384, listed_count=102, created_at=datetime.datetime(2014, 6, 26, 17, 50, 52), favourites_count=12025, utc_offset=None, time_zone=None, geo_enabled=True, verified=False, statuses_count=34674, lang=None, contributors_enabled=False, is_translator=False, is_translation_enabled=False, profile_background_color='C0DEED', profile_background_image_url='http://abs.twimg.com/images/themes/theme1/bg.png', profile_background_image_url_https='https://abs.twimg.com/images/themes/theme1/bg.png', profile_background_tile=False, profile_image_url='http://pbs.twimg.com/profile_images/887391369727225857/XWy2Ykgo_normal.jpg', profile_image_url_https='https://pbs.twimg.com/profile_images/887391369727225857/XWy2Ykgo_normal.jpg', profile_banner_url='https://pbs.twimg.com/profile_banners/2589984816/1623251423', profile_link_color='1DA1F2', profile_sidebar_border_color='C0DEED', profile_sidebar_fill_color='DDEEF6', profile_text_color='333333', profile_use_background_image=True, has_extended_profile=True, default_profile=True, default_profile_image=False, following=False, follow_request_sent=False, notifications=False, translator_type='none', withheld_in_countries=[]), geo=None, coordinates=None, place=None, contributors=None, is_quote_status=False, retweet_count=2, favorite_count=0, favorited=False, retweeted=False, possibly_sensitive=False, lang='en'), is_quote_status=False, retweet_count=2, favorite_count=0, favorited=False, retweeted=False, lang='en'),\n",
       " Status(_api=<tweepy.api.API object at 0x000001F333ADE8E0>, _json={'created_at': 'Fri Jul 02 10:43:16 +0000 2021', 'id': 1410911948238163971, 'id_str': '1410911948238163971', 'text': '#engineer👉just followedme! on #Twitter @Pytlicek\\n#TomasPytel #influencer in #London, #England\\nPython engineer.… https://t.co/y8Urir2tXe', 'truncated': True, 'entities': {'hashtags': [{'text': 'engineer', 'indices': [0, 9]}, {'text': 'Twitter', 'indices': [30, 38]}, {'text': 'TomasPytel', 'indices': [49, 60]}, {'text': 'influencer', 'indices': [61, 72]}, {'text': 'London', 'indices': [76, 83]}, {'text': 'England', 'indices': [85, 93]}], 'symbols': [], 'user_mentions': [{'screen_name': 'Pytlicek', 'name': 'Tomas Pytel', 'id': 207632758, 'id_str': '207632758', 'indices': [39, 48]}], 'urls': [{'url': 'https://t.co/y8Urir2tXe', 'expanded_url': 'https://twitter.com/i/web/status/1410911948238163971', 'display_url': 'twitter.com/i/web/status/1…', 'indices': [112, 135]}]}, 'metadata': {'iso_language_code': 'en', 'result_type': 'recent'}, 'source': '<a href=\"https://mobile.twitter.com\" rel=\"nofollow\">Twitter Web App</a>', 'in_reply_to_status_id': None, 'in_reply_to_status_id_str': None, 'in_reply_to_user_id': None, 'in_reply_to_user_id_str': None, 'in_reply_to_screen_name': None, 'user': {'id': 2589984816, 'id_str': '2589984816', 'name': 'Eduardo Valente', 'screen_name': 'EduardoValenteI', 'location': 'SãoPaulo SampaCity Brasil 🇧🇷', 'description': 'criação #B2C #B2B consultor #Seoparaecommerce #SeoparaWebSite\\nPara #empresaonline👉https://t.co/zTUaaEvBQ0 #EV #EduardoValente', 'url': 'https://t.co/029AsFQZFA', 'entities': {'url': {'urls': [{'url': 'https://t.co/029AsFQZFA', 'expanded_url': 'http://youtu.be/vz1tBFu6CqI', 'display_url': 'youtu.be/vz1tBFu6CqI', 'indices': [0, 23]}]}, 'description': {'urls': [{'url': 'https://t.co/zTUaaEvBQ0', 'expanded_url': 'https://www.gettr.com/user/motoresdebusca', 'display_url': 'gettr.com/user/motoresde…', 'indices': [82, 105]}]}}, 'protected': False, 'followers_count': 4014, 'friends_count': 3384, 'listed_count': 102, 'created_at': 'Thu Jun 26 17:50:52 +0000 2014', 'favourites_count': 12025, 'utc_offset': None, 'time_zone': None, 'geo_enabled': True, 'verified': False, 'statuses_count': 34674, 'lang': None, 'contributors_enabled': False, 'is_translator': False, 'is_translation_enabled': False, 'profile_background_color': 'C0DEED', 'profile_background_image_url': 'http://abs.twimg.com/images/themes/theme1/bg.png', 'profile_background_image_url_https': 'https://abs.twimg.com/images/themes/theme1/bg.png', 'profile_background_tile': False, 'profile_image_url': 'http://pbs.twimg.com/profile_images/887391369727225857/XWy2Ykgo_normal.jpg', 'profile_image_url_https': 'https://pbs.twimg.com/profile_images/887391369727225857/XWy2Ykgo_normal.jpg', 'profile_banner_url': 'https://pbs.twimg.com/profile_banners/2589984816/1623251423', 'profile_link_color': '1DA1F2', 'profile_sidebar_border_color': 'C0DEED', 'profile_sidebar_fill_color': 'DDEEF6', 'profile_text_color': '333333', 'profile_use_background_image': True, 'has_extended_profile': True, 'default_profile': True, 'default_profile_image': False, 'following': False, 'follow_request_sent': False, 'notifications': False, 'translator_type': 'none', 'withheld_in_countries': []}, 'geo': None, 'coordinates': None, 'place': None, 'contributors': None, 'is_quote_status': False, 'retweet_count': 2, 'favorite_count': 0, 'favorited': False, 'retweeted': False, 'possibly_sensitive': False, 'lang': 'en'}, created_at=datetime.datetime(2021, 7, 2, 10, 43, 16), id=1410911948238163971, id_str='1410911948238163971', text='#engineer👉just followedme! on #Twitter @Pytlicek\\n#TomasPytel #influencer in #London, #England\\nPython engineer.… https://t.co/y8Urir2tXe', truncated=True, entities={'hashtags': [{'text': 'engineer', 'indices': [0, 9]}, {'text': 'Twitter', 'indices': [30, 38]}, {'text': 'TomasPytel', 'indices': [49, 60]}, {'text': 'influencer', 'indices': [61, 72]}, {'text': 'London', 'indices': [76, 83]}, {'text': 'England', 'indices': [85, 93]}], 'symbols': [], 'user_mentions': [{'screen_name': 'Pytlicek', 'name': 'Tomas Pytel', 'id': 207632758, 'id_str': '207632758', 'indices': [39, 48]}], 'urls': [{'url': 'https://t.co/y8Urir2tXe', 'expanded_url': 'https://twitter.com/i/web/status/1410911948238163971', 'display_url': 'twitter.com/i/web/status/1…', 'indices': [112, 135]}]}, metadata={'iso_language_code': 'en', 'result_type': 'recent'}, source='Twitter Web App', source_url='https://mobile.twitter.com', in_reply_to_status_id=None, in_reply_to_status_id_str=None, in_reply_to_user_id=None, in_reply_to_user_id_str=None, in_reply_to_screen_name=None, author=User(_api=<tweepy.api.API object at 0x000001F333ADE8E0>, _json={'id': 2589984816, 'id_str': '2589984816', 'name': 'Eduardo Valente', 'screen_name': 'EduardoValenteI', 'location': 'SãoPaulo SampaCity Brasil 🇧🇷', 'description': 'criação #B2C #B2B consultor #Seoparaecommerce #SeoparaWebSite\\nPara #empresaonline👉https://t.co/zTUaaEvBQ0 #EV #EduardoValente', 'url': 'https://t.co/029AsFQZFA', 'entities': {'url': {'urls': [{'url': 'https://t.co/029AsFQZFA', 'expanded_url': 'http://youtu.be/vz1tBFu6CqI', 'display_url': 'youtu.be/vz1tBFu6CqI', 'indices': [0, 23]}]}, 'description': {'urls': [{'url': 'https://t.co/zTUaaEvBQ0', 'expanded_url': 'https://www.gettr.com/user/motoresdebusca', 'display_url': 'gettr.com/user/motoresde…', 'indices': [82, 105]}]}}, 'protected': False, 'followers_count': 4014, 'friends_count': 3384, 'listed_count': 102, 'created_at': 'Thu Jun 26 17:50:52 +0000 2014', 'favourites_count': 12025, 'utc_offset': None, 'time_zone': None, 'geo_enabled': True, 'verified': False, 'statuses_count': 34674, 'lang': None, 'contributors_enabled': False, 'is_translator': False, 'is_translation_enabled': False, 'profile_background_color': 'C0DEED', 'profile_background_image_url': 'http://abs.twimg.com/images/themes/theme1/bg.png', 'profile_background_image_url_https': 'https://abs.twimg.com/images/themes/theme1/bg.png', 'profile_background_tile': False, 'profile_image_url': 'http://pbs.twimg.com/profile_images/887391369727225857/XWy2Ykgo_normal.jpg', 'profile_image_url_https': 'https://pbs.twimg.com/profile_images/887391369727225857/XWy2Ykgo_normal.jpg', 'profile_banner_url': 'https://pbs.twimg.com/profile_banners/2589984816/1623251423', 'profile_link_color': '1DA1F2', 'profile_sidebar_border_color': 'C0DEED', 'profile_sidebar_fill_color': 'DDEEF6', 'profile_text_color': '333333', 'profile_use_background_image': True, 'has_extended_profile': True, 'default_profile': True, 'default_profile_image': False, 'following': False, 'follow_request_sent': False, 'notifications': False, 'translator_type': 'none', 'withheld_in_countries': []}, id=2589984816, id_str='2589984816', name='Eduardo Valente', screen_name='EduardoValenteI', location='SãoPaulo SampaCity Brasil 🇧🇷', description='criação #B2C #B2B consultor #Seoparaecommerce #SeoparaWebSite\\nPara #empresaonline👉https://t.co/zTUaaEvBQ0 #EV #EduardoValente', url='https://t.co/029AsFQZFA', entities={'url': {'urls': [{'url': 'https://t.co/029AsFQZFA', 'expanded_url': 'http://youtu.be/vz1tBFu6CqI', 'display_url': 'youtu.be/vz1tBFu6CqI', 'indices': [0, 23]}]}, 'description': {'urls': [{'url': 'https://t.co/zTUaaEvBQ0', 'expanded_url': 'https://www.gettr.com/user/motoresdebusca', 'display_url': 'gettr.com/user/motoresde…', 'indices': [82, 105]}]}}, protected=False, followers_count=4014, friends_count=3384, listed_count=102, created_at=datetime.datetime(2014, 6, 26, 17, 50, 52), favourites_count=12025, utc_offset=None, time_zone=None, geo_enabled=True, verified=False, statuses_count=34674, lang=None, contributors_enabled=False, is_translator=False, is_translation_enabled=False, profile_background_color='C0DEED', profile_background_image_url='http://abs.twimg.com/images/themes/theme1/bg.png', profile_background_image_url_https='https://abs.twimg.com/images/themes/theme1/bg.png', profile_background_tile=False, profile_image_url='http://pbs.twimg.com/profile_images/887391369727225857/XWy2Ykgo_normal.jpg', profile_image_url_https='https://pbs.twimg.com/profile_images/887391369727225857/XWy2Ykgo_normal.jpg', profile_banner_url='https://pbs.twimg.com/profile_banners/2589984816/1623251423', profile_link_color='1DA1F2', profile_sidebar_border_color='C0DEED', profile_sidebar_fill_color='DDEEF6', profile_text_color='333333', profile_use_background_image=True, has_extended_profile=True, default_profile=True, default_profile_image=False, following=False, follow_request_sent=False, notifications=False, translator_type='none', withheld_in_countries=[]), user=User(_api=<tweepy.api.API object at 0x000001F333ADE8E0>, _json={'id': 2589984816, 'id_str': '2589984816', 'name': 'Eduardo Valente', 'screen_name': 'EduardoValenteI', 'location': 'SãoPaulo SampaCity Brasil 🇧🇷', 'description': 'criação #B2C #B2B consultor #Seoparaecommerce #SeoparaWebSite\\nPara #empresaonline👉https://t.co/zTUaaEvBQ0 #EV #EduardoValente', 'url': 'https://t.co/029AsFQZFA', 'entities': {'url': {'urls': [{'url': 'https://t.co/029AsFQZFA', 'expanded_url': 'http://youtu.be/vz1tBFu6CqI', 'display_url': 'youtu.be/vz1tBFu6CqI', 'indices': [0, 23]}]}, 'description': {'urls': [{'url': 'https://t.co/zTUaaEvBQ0', 'expanded_url': 'https://www.gettr.com/user/motoresdebusca', 'display_url': 'gettr.com/user/motoresde…', 'indices': [82, 105]}]}}, 'protected': False, 'followers_count': 4014, 'friends_count': 3384, 'listed_count': 102, 'created_at': 'Thu Jun 26 17:50:52 +0000 2014', 'favourites_count': 12025, 'utc_offset': None, 'time_zone': None, 'geo_enabled': True, 'verified': False, 'statuses_count': 34674, 'lang': None, 'contributors_enabled': False, 'is_translator': False, 'is_translation_enabled': False, 'profile_background_color': 'C0DEED', 'profile_background_image_url': 'http://abs.twimg.com/images/themes/theme1/bg.png', 'profile_background_image_url_https': 'https://abs.twimg.com/images/themes/theme1/bg.png', 'profile_background_tile': False, 'profile_image_url': 'http://pbs.twimg.com/profile_images/887391369727225857/XWy2Ykgo_normal.jpg', 'profile_image_url_https': 'https://pbs.twimg.com/profile_images/887391369727225857/XWy2Ykgo_normal.jpg', 'profile_banner_url': 'https://pbs.twimg.com/profile_banners/2589984816/1623251423', 'profile_link_color': '1DA1F2', 'profile_sidebar_border_color': 'C0DEED', 'profile_sidebar_fill_color': 'DDEEF6', 'profile_text_color': '333333', 'profile_use_background_image': True, 'has_extended_profile': True, 'default_profile': True, 'default_profile_image': False, 'following': False, 'follow_request_sent': False, 'notifications': False, 'translator_type': 'none', 'withheld_in_countries': []}, id=2589984816, id_str='2589984816', name='Eduardo Valente', screen_name='EduardoValenteI', location='SãoPaulo SampaCity Brasil 🇧🇷', description='criação #B2C #B2B consultor #Seoparaecommerce #SeoparaWebSite\\nPara #empresaonline👉https://t.co/zTUaaEvBQ0 #EV #EduardoValente', url='https://t.co/029AsFQZFA', entities={'url': {'urls': [{'url': 'https://t.co/029AsFQZFA', 'expanded_url': 'http://youtu.be/vz1tBFu6CqI', 'display_url': 'youtu.be/vz1tBFu6CqI', 'indices': [0, 23]}]}, 'description': {'urls': [{'url': 'https://t.co/zTUaaEvBQ0', 'expanded_url': 'https://www.gettr.com/user/motoresdebusca', 'display_url': 'gettr.com/user/motoresde…', 'indices': [82, 105]}]}}, protected=False, followers_count=4014, friends_count=3384, listed_count=102, created_at=datetime.datetime(2014, 6, 26, 17, 50, 52), favourites_count=12025, utc_offset=None, time_zone=None, geo_enabled=True, verified=False, statuses_count=34674, lang=None, contributors_enabled=False, is_translator=False, is_translation_enabled=False, profile_background_color='C0DEED', profile_background_image_url='http://abs.twimg.com/images/themes/theme1/bg.png', profile_background_image_url_https='https://abs.twimg.com/images/themes/theme1/bg.png', profile_background_tile=False, profile_image_url='http://pbs.twimg.com/profile_images/887391369727225857/XWy2Ykgo_normal.jpg', profile_image_url_https='https://pbs.twimg.com/profile_images/887391369727225857/XWy2Ykgo_normal.jpg', profile_banner_url='https://pbs.twimg.com/profile_banners/2589984816/1623251423', profile_link_color='1DA1F2', profile_sidebar_border_color='C0DEED', profile_sidebar_fill_color='DDEEF6', profile_text_color='333333', profile_use_background_image=True, has_extended_profile=True, default_profile=True, default_profile_image=False, following=False, follow_request_sent=False, notifications=False, translator_type='none', withheld_in_countries=[]), geo=None, coordinates=None, place=None, contributors=None, is_quote_status=False, retweet_count=2, favorite_count=0, favorited=False, retweeted=False, possibly_sensitive=False, lang='en'),\n",
       " Status(_api=<tweepy.api.API object at 0x000001F333ADE8E0>, _json={'created_at': 'Tue Jun 29 17:47:26 +0000 2021', 'id': 1409931528671432713, 'id_str': '1409931528671432713', 'text': 'RT @WillingCarol: Thank you Steering Council members, past and present, and the #python core development community for proving good governa…', 'truncated': False, 'entities': {'hashtags': [{'text': 'python', 'indices': [80, 87]}], 'symbols': [], 'user_mentions': [{'screen_name': 'WillingCarol', 'name': 'Carol Willing', 'id': 1167122150, 'id_str': '1167122150', 'indices': [3, 16]}], 'urls': []}, 'metadata': {'iso_language_code': 'en', 'result_type': 'recent'}, 'source': '<a href=\"http://twitter.com/download/iphone\" rel=\"nofollow\">Twitter for iPhone</a>', 'in_reply_to_status_id': None, 'in_reply_to_status_id_str': None, 'in_reply_to_user_id': None, 'in_reply_to_user_id_str': None, 'in_reply_to_screen_name': None, 'user': {'id': 2419617625, 'id_str': '2419617625', 'name': 'PyLadies Vancouver', 'screen_name': 'pyladiesvan', 'location': 'Vancouver, BC', 'description': '@PyLadies #Vancouver resides and share knowledge on the unseeded territories of the xʷməθkwəy̓əm, Skwxwú7mesh, Stó:lō and Səl̓ílwətaʔ/Selilwitulh Nations.', 'url': 'https://t.co/tlB7fY1bFr', 'entities': {'url': {'urls': [{'url': 'https://t.co/tlB7fY1bFr', 'expanded_url': 'http://linktr.ee/pyladiesvancouver', 'display_url': 'linktr.ee/pyladiesvancou…', 'indices': [0, 23]}]}, 'description': {'urls': []}}, 'protected': False, 'followers_count': 464, 'friends_count': 104, 'listed_count': 28, 'created_at': 'Sun Mar 30 22:38:58 +0000 2014', 'favourites_count': 1044, 'utc_offset': None, 'time_zone': None, 'geo_enabled': True, 'verified': False, 'statuses_count': 1248, 'lang': None, 'contributors_enabled': False, 'is_translator': False, 'is_translation_enabled': False, 'profile_background_color': 'C0DEED', 'profile_background_image_url': 'http://abs.twimg.com/images/themes/theme1/bg.png', 'profile_background_image_url_https': 'https://abs.twimg.com/images/themes/theme1/bg.png', 'profile_background_tile': False, 'profile_image_url': 'http://pbs.twimg.com/profile_images/600416877681094656/G-R5bajO_normal.png', 'profile_image_url_https': 'https://pbs.twimg.com/profile_images/600416877681094656/G-R5bajO_normal.png', 'profile_banner_url': 'https://pbs.twimg.com/profile_banners/2419617625/1431983277', 'profile_link_color': '1DA1F2', 'profile_sidebar_border_color': 'C0DEED', 'profile_sidebar_fill_color': 'DDEEF6', 'profile_text_color': '333333', 'profile_use_background_image': True, 'has_extended_profile': False, 'default_profile': True, 'default_profile_image': False, 'following': False, 'follow_request_sent': False, 'notifications': False, 'translator_type': 'none', 'withheld_in_countries': []}, 'geo': None, 'coordinates': None, 'place': None, 'contributors': None, 'retweeted_status': {'created_at': 'Thu May 27 12:05:21 +0000 2021', 'id': 1397886643088936969, 'id_str': '1397886643088936969', 'text': 'Thank you Steering Council members, past and present, and the #python core development community for proving good g… https://t.co/3KLy03Iaq3', 'truncated': True, 'entities': {'hashtags': [{'text': 'python', 'indices': [62, 69]}], 'symbols': [], 'user_mentions': [], 'urls': [{'url': 'https://t.co/3KLy03Iaq3', 'expanded_url': 'https://twitter.com/i/web/status/1397886643088936969', 'display_url': 'twitter.com/i/web/status/1…', 'indices': [117, 140]}]}, 'metadata': {'iso_language_code': 'en', 'result_type': 'recent'}, 'source': '<a href=\"http://twitter.com/#!/download/ipad\" rel=\"nofollow\">Twitter for iPad</a>', 'in_reply_to_status_id': None, 'in_reply_to_status_id_str': None, 'in_reply_to_user_id': None, 'in_reply_to_user_id_str': None, 'in_reply_to_screen_name': None, 'user': {'id': 1167122150, 'id_str': '1167122150', 'name': 'Carol Willing', 'screen_name': 'WillingCarol', 'location': 'San Diego', 'description': 'Learn. Build. Share. | Python Steering Council and core dev | Fellow @ThePSF | @projectjupyter  @MITSloan @DukeU | @noteable_io evangelist. Opinions my own.', 'url': 'https://t.co/NBWLtJGwDA', 'entities': {'url': {'urls': [{'url': 'https://t.co/NBWLtJGwDA', 'expanded_url': 'http://willingconsulting.com', 'display_url': 'willingconsulting.com', 'indices': [0, 23]}]}, 'description': {'urls': []}}, 'protected': False, 'followers_count': 9109, 'friends_count': 2992, 'listed_count': 357, 'created_at': 'Sun Feb 10 21:44:44 +0000 2013', 'favourites_count': 63866, 'utc_offset': None, 'time_zone': None, 'geo_enabled': True, 'verified': False, 'statuses_count': 13434, 'lang': None, 'contributors_enabled': False, 'is_translator': False, 'is_translation_enabled': False, 'profile_background_color': 'EDECE9', 'profile_background_image_url': 'http://abs.twimg.com/images/themes/theme2/bg.gif', 'profile_background_image_url_https': 'https://abs.twimg.com/images/themes/theme2/bg.gif', 'profile_background_tile': True, 'profile_image_url': 'http://pbs.twimg.com/profile_images/912106281552318464/OfLHf-Up_normal.jpg', 'profile_image_url_https': 'https://pbs.twimg.com/profile_images/912106281552318464/OfLHf-Up_normal.jpg', 'profile_banner_url': 'https://pbs.twimg.com/profile_banners/1167122150/1365661184', 'profile_link_color': '088253', 'profile_sidebar_border_color': 'FFFFFF', 'profile_sidebar_fill_color': 'DAECF4', 'profile_text_color': '663B12', 'profile_use_background_image': True, 'has_extended_profile': True, 'default_profile': False, 'default_profile_image': False, 'following': False, 'follow_request_sent': False, 'notifications': False, 'translator_type': 'none', 'withheld_in_countries': []}, 'geo': None, 'coordinates': None, 'place': None, 'contributors': None, 'is_quote_status': True, 'quoted_status_id': 1397670156332044293, 'quoted_status_id_str': '1397670156332044293', 'quoted_status': {'created_at': 'Wed May 26 21:45:07 +0000 2021', 'id': 1397670156332044293, 'id_str': '1397670156332044293', 'text': 'The final keynote from #PyConUS2021 was from the Python Steering Council answering questions gathered from the comm… https://t.co/IL1PlGqtSs', 'truncated': True, 'entities': {'hashtags': [{'text': 'PyConUS2021', 'indices': [23, 35]}], 'symbols': [], 'user_mentions': [], 'urls': [{'url': 'https://t.co/IL1PlGqtSs', 'expanded_url': 'https://twitter.com/i/web/status/1397670156332044293', 'display_url': 'twitter.com/i/web/status/1…', 'indices': [117, 140]}]}, 'metadata': {'iso_language_code': 'en', 'result_type': 'recent'}, 'source': '<a href=\"https://sproutsocial.com\" rel=\"nofollow\">Sprout Social</a>', 'in_reply_to_status_id': None, 'in_reply_to_status_id_str': None, 'in_reply_to_user_id': None, 'in_reply_to_user_id_str': None, 'in_reply_to_screen_name': None, 'user': {'id': 9475182, 'id_str': '9475182', 'name': 'PyCon US', 'screen_name': 'pycon', 'location': '', 'description': 'PyCon US 2021', 'url': 'https://t.co/cDA7VmP4hV', 'entities': {'url': {'urls': [{'url': 'https://t.co/cDA7VmP4hV', 'expanded_url': 'http://us.pycon.org', 'display_url': 'us.pycon.org', 'indices': [0, 23]}]}, 'description': {'urls': []}}, 'protected': False, 'followers_count': 53097, 'friends_count': 6, 'listed_count': 1153, 'created_at': 'Tue Oct 16 11:17:41 +0000 2007', 'favourites_count': 1412, 'utc_offset': None, 'time_zone': None, 'geo_enabled': False, 'verified': False, 'statuses_count': 4484, 'lang': None, 'contributors_enabled': False, 'is_translator': False, 'is_translation_enabled': False, 'profile_background_color': '131516', 'profile_background_image_url': 'http://abs.twimg.com/images/themes/theme14/bg.gif', 'profile_background_image_url_https': 'https://abs.twimg.com/images/themes/theme14/bg.gif', 'profile_background_tile': True, 'profile_image_url': 'http://pbs.twimg.com/profile_images/1333824350672154624/_P1hFKa3_normal.jpg', 'profile_image_url_https': 'https://pbs.twimg.com/profile_images/1333824350672154624/_P1hFKa3_normal.jpg', 'profile_banner_url': 'https://pbs.twimg.com/profile_banners/9475182/1606843481', 'profile_link_color': '009CBD', 'profile_sidebar_border_color': 'FFFFFF', 'profile_sidebar_fill_color': 'DDEEF6', 'profile_text_color': '333333', 'profile_use_background_image': False, 'has_extended_profile': False, 'default_profile': False, 'default_profile_image': False, 'following': False, 'follow_request_sent': False, 'notifications': False, 'translator_type': 'none', 'withheld_in_countries': []}, 'geo': None, 'coordinates': None, 'place': None, 'contributors': None, 'is_quote_status': False, 'retweet_count': 20, 'favorite_count': 74, 'favorited': False, 'retweeted': False, 'possibly_sensitive': False, 'lang': 'en'}, 'retweet_count': 11, 'favorite_count': 33, 'favorited': False, 'retweeted': False, 'possibly_sensitive': False, 'lang': 'en'}, 'is_quote_status': True, 'quoted_status_id': 1397670156332044293, 'quoted_status_id_str': '1397670156332044293', 'retweet_count': 11, 'favorite_count': 0, 'favorited': False, 'retweeted': False, 'lang': 'en'}, created_at=datetime.datetime(2021, 6, 29, 17, 47, 26), id=1409931528671432713, id_str='1409931528671432713', text='RT @WillingCarol: Thank you Steering Council members, past and present, and the #python core development community for proving good governa…', truncated=False, entities={'hashtags': [{'text': 'python', 'indices': [80, 87]}], 'symbols': [], 'user_mentions': [{'screen_name': 'WillingCarol', 'name': 'Carol Willing', 'id': 1167122150, 'id_str': '1167122150', 'indices': [3, 16]}], 'urls': []}, metadata={'iso_language_code': 'en', 'result_type': 'recent'}, source='Twitter for iPhone', source_url='http://twitter.com/download/iphone', in_reply_to_status_id=None, in_reply_to_status_id_str=None, in_reply_to_user_id=None, in_reply_to_user_id_str=None, in_reply_to_screen_name=None, author=User(_api=<tweepy.api.API object at 0x000001F333ADE8E0>, _json={'id': 2419617625, 'id_str': '2419617625', 'name': 'PyLadies Vancouver', 'screen_name': 'pyladiesvan', 'location': 'Vancouver, BC', 'description': '@PyLadies #Vancouver resides and share knowledge on the unseeded territories of the xʷməθkwəy̓əm, Skwxwú7mesh, Stó:lō and Səl̓ílwətaʔ/Selilwitulh Nations.', 'url': 'https://t.co/tlB7fY1bFr', 'entities': {'url': {'urls': [{'url': 'https://t.co/tlB7fY1bFr', 'expanded_url': 'http://linktr.ee/pyladiesvancouver', 'display_url': 'linktr.ee/pyladiesvancou…', 'indices': [0, 23]}]}, 'description': {'urls': []}}, 'protected': False, 'followers_count': 464, 'friends_count': 104, 'listed_count': 28, 'created_at': 'Sun Mar 30 22:38:58 +0000 2014', 'favourites_count': 1044, 'utc_offset': None, 'time_zone': None, 'geo_enabled': True, 'verified': False, 'statuses_count': 1248, 'lang': None, 'contributors_enabled': False, 'is_translator': False, 'is_translation_enabled': False, 'profile_background_color': 'C0DEED', 'profile_background_image_url': 'http://abs.twimg.com/images/themes/theme1/bg.png', 'profile_background_image_url_https': 'https://abs.twimg.com/images/themes/theme1/bg.png', 'profile_background_tile': False, 'profile_image_url': 'http://pbs.twimg.com/profile_images/600416877681094656/G-R5bajO_normal.png', 'profile_image_url_https': 'https://pbs.twimg.com/profile_images/600416877681094656/G-R5bajO_normal.png', 'profile_banner_url': 'https://pbs.twimg.com/profile_banners/2419617625/1431983277', 'profile_link_color': '1DA1F2', 'profile_sidebar_border_color': 'C0DEED', 'profile_sidebar_fill_color': 'DDEEF6', 'profile_text_color': '333333', 'profile_use_background_image': True, 'has_extended_profile': False, 'default_profile': True, 'default_profile_image': False, 'following': False, 'follow_request_sent': False, 'notifications': False, 'translator_type': 'none', 'withheld_in_countries': []}, id=2419617625, id_str='2419617625', name='PyLadies Vancouver', screen_name='pyladiesvan', location='Vancouver, BC', description='@PyLadies #Vancouver resides and share knowledge on the unseeded territories of the xʷməθkwəy̓əm, Skwxwú7mesh, Stó:lō and Səl̓ílwətaʔ/Selilwitulh Nations.', url='https://t.co/tlB7fY1bFr', entities={'url': {'urls': [{'url': 'https://t.co/tlB7fY1bFr', 'expanded_url': 'http://linktr.ee/pyladiesvancouver', 'display_url': 'linktr.ee/pyladiesvancou…', 'indices': [0, 23]}]}, 'description': {'urls': []}}, protected=False, followers_count=464, friends_count=104, listed_count=28, created_at=datetime.datetime(2014, 3, 30, 22, 38, 58), favourites_count=1044, utc_offset=None, time_zone=None, geo_enabled=True, verified=False, statuses_count=1248, lang=None, contributors_enabled=False, is_translator=False, is_translation_enabled=False, profile_background_color='C0DEED', profile_background_image_url='http://abs.twimg.com/images/themes/theme1/bg.png', profile_background_image_url_https='https://abs.twimg.com/images/themes/theme1/bg.png', profile_background_tile=False, profile_image_url='http://pbs.twimg.com/profile_images/600416877681094656/G-R5bajO_normal.png', profile_image_url_https='https://pbs.twimg.com/profile_images/600416877681094656/G-R5bajO_normal.png', profile_banner_url='https://pbs.twimg.com/profile_banners/2419617625/1431983277', profile_link_color='1DA1F2', profile_sidebar_border_color='C0DEED', profile_sidebar_fill_color='DDEEF6', profile_text_color='333333', profile_use_background_image=True, has_extended_profile=False, default_profile=True, default_profile_image=False, following=False, follow_request_sent=False, notifications=False, translator_type='none', withheld_in_countries=[]), user=User(_api=<tweepy.api.API object at 0x000001F333ADE8E0>, _json={'id': 2419617625, 'id_str': '2419617625', 'name': 'PyLadies Vancouver', 'screen_name': 'pyladiesvan', 'location': 'Vancouver, BC', 'description': '@PyLadies #Vancouver resides and share knowledge on the unseeded territories of the xʷməθkwəy̓əm, Skwxwú7mesh, Stó:lō and Səl̓ílwətaʔ/Selilwitulh Nations.', 'url': 'https://t.co/tlB7fY1bFr', 'entities': {'url': {'urls': [{'url': 'https://t.co/tlB7fY1bFr', 'expanded_url': 'http://linktr.ee/pyladiesvancouver', 'display_url': 'linktr.ee/pyladiesvancou…', 'indices': [0, 23]}]}, 'description': {'urls': []}}, 'protected': False, 'followers_count': 464, 'friends_count': 104, 'listed_count': 28, 'created_at': 'Sun Mar 30 22:38:58 +0000 2014', 'favourites_count': 1044, 'utc_offset': None, 'time_zone': None, 'geo_enabled': True, 'verified': False, 'statuses_count': 1248, 'lang': None, 'contributors_enabled': False, 'is_translator': False, 'is_translation_enabled': False, 'profile_background_color': 'C0DEED', 'profile_background_image_url': 'http://abs.twimg.com/images/themes/theme1/bg.png', 'profile_background_image_url_https': 'https://abs.twimg.com/images/themes/theme1/bg.png', 'profile_background_tile': False, 'profile_image_url': 'http://pbs.twimg.com/profile_images/600416877681094656/G-R5bajO_normal.png', 'profile_image_url_https': 'https://pbs.twimg.com/profile_images/600416877681094656/G-R5bajO_normal.png', 'profile_banner_url': 'https://pbs.twimg.com/profile_banners/2419617625/1431983277', 'profile_link_color': '1DA1F2', 'profile_sidebar_border_color': 'C0DEED', 'profile_sidebar_fill_color': 'DDEEF6', 'profile_text_color': '333333', 'profile_use_background_image': True, 'has_extended_profile': False, 'default_profile': True, 'default_profile_image': False, 'following': False, 'follow_request_sent': False, 'notifications': False, 'translator_type': 'none', 'withheld_in_countries': []}, id=2419617625, id_str='2419617625', name='PyLadies Vancouver', screen_name='pyladiesvan', location='Vancouver, BC', description='@PyLadies #Vancouver resides and share knowledge on the unseeded territories of the xʷməθkwəy̓əm, Skwxwú7mesh, Stó:lō and Səl̓ílwətaʔ/Selilwitulh Nations.', url='https://t.co/tlB7fY1bFr', entities={'url': {'urls': [{'url': 'https://t.co/tlB7fY1bFr', 'expanded_url': 'http://linktr.ee/pyladiesvancouver', 'display_url': 'linktr.ee/pyladiesvancou…', 'indices': [0, 23]}]}, 'description': {'urls': []}}, protected=False, followers_count=464, friends_count=104, listed_count=28, created_at=datetime.datetime(2014, 3, 30, 22, 38, 58), favourites_count=1044, utc_offset=None, time_zone=None, geo_enabled=True, verified=False, statuses_count=1248, lang=None, contributors_enabled=False, is_translator=False, is_translation_enabled=False, profile_background_color='C0DEED', profile_background_image_url='http://abs.twimg.com/images/themes/theme1/bg.png', profile_background_image_url_https='https://abs.twimg.com/images/themes/theme1/bg.png', profile_background_tile=False, profile_image_url='http://pbs.twimg.com/profile_images/600416877681094656/G-R5bajO_normal.png', profile_image_url_https='https://pbs.twimg.com/profile_images/600416877681094656/G-R5bajO_normal.png', profile_banner_url='https://pbs.twimg.com/profile_banners/2419617625/1431983277', profile_link_color='1DA1F2', profile_sidebar_border_color='C0DEED', profile_sidebar_fill_color='DDEEF6', profile_text_color='333333', profile_use_background_image=True, has_extended_profile=False, default_profile=True, default_profile_image=False, following=False, follow_request_sent=False, notifications=False, translator_type='none', withheld_in_countries=[]), geo=None, coordinates=None, place=None, contributors=None, retweeted_status=Status(_api=<tweepy.api.API object at 0x000001F333ADE8E0>, _json={'created_at': 'Thu May 27 12:05:21 +0000 2021', 'id': 1397886643088936969, 'id_str': '1397886643088936969', 'text': 'Thank you Steering Council members, past and present, and the #python core development community for proving good g… https://t.co/3KLy03Iaq3', 'truncated': True, 'entities': {'hashtags': [{'text': 'python', 'indices': [62, 69]}], 'symbols': [], 'user_mentions': [], 'urls': [{'url': 'https://t.co/3KLy03Iaq3', 'expanded_url': 'https://twitter.com/i/web/status/1397886643088936969', 'display_url': 'twitter.com/i/web/status/1…', 'indices': [117, 140]}]}, 'metadata': {'iso_language_code': 'en', 'result_type': 'recent'}, 'source': '<a href=\"http://twitter.com/#!/download/ipad\" rel=\"nofollow\">Twitter for iPad</a>', 'in_reply_to_status_id': None, 'in_reply_to_status_id_str': None, 'in_reply_to_user_id': None, 'in_reply_to_user_id_str': None, 'in_reply_to_screen_name': None, 'user': {'id': 1167122150, 'id_str': '1167122150', 'name': 'Carol Willing', 'screen_name': 'WillingCarol', 'location': 'San Diego', 'description': 'Learn. Build. Share. | Python Steering Council and core dev | Fellow @ThePSF | @projectjupyter  @MITSloan @DukeU | @noteable_io evangelist. Opinions my own.', 'url': 'https://t.co/NBWLtJGwDA', 'entities': {'url': {'urls': [{'url': 'https://t.co/NBWLtJGwDA', 'expanded_url': 'http://willingconsulting.com', 'display_url': 'willingconsulting.com', 'indices': [0, 23]}]}, 'description': {'urls': []}}, 'protected': False, 'followers_count': 9109, 'friends_count': 2992, 'listed_count': 357, 'created_at': 'Sun Feb 10 21:44:44 +0000 2013', 'favourites_count': 63866, 'utc_offset': None, 'time_zone': None, 'geo_enabled': True, 'verified': False, 'statuses_count': 13434, 'lang': None, 'contributors_enabled': False, 'is_translator': False, 'is_translation_enabled': False, 'profile_background_color': 'EDECE9', 'profile_background_image_url': 'http://abs.twimg.com/images/themes/theme2/bg.gif', 'profile_background_image_url_https': 'https://abs.twimg.com/images/themes/theme2/bg.gif', 'profile_background_tile': True, 'profile_image_url': 'http://pbs.twimg.com/profile_images/912106281552318464/OfLHf-Up_normal.jpg', 'profile_image_url_https': 'https://pbs.twimg.com/profile_images/912106281552318464/OfLHf-Up_normal.jpg', 'profile_banner_url': 'https://pbs.twimg.com/profile_banners/1167122150/1365661184', 'profile_link_color': '088253', 'profile_sidebar_border_color': 'FFFFFF', 'profile_sidebar_fill_color': 'DAECF4', 'profile_text_color': '663B12', 'profile_use_background_image': True, 'has_extended_profile': True, 'default_profile': False, 'default_profile_image': False, 'following': False, 'follow_request_sent': False, 'notifications': False, 'translator_type': 'none', 'withheld_in_countries': []}, 'geo': None, 'coordinates': None, 'place': None, 'contributors': None, 'is_quote_status': True, 'quoted_status_id': 1397670156332044293, 'quoted_status_id_str': '1397670156332044293', 'quoted_status': {'created_at': 'Wed May 26 21:45:07 +0000 2021', 'id': 1397670156332044293, 'id_str': '1397670156332044293', 'text': 'The final keynote from #PyConUS2021 was from the Python Steering Council answering questions gathered from the comm… https://t.co/IL1PlGqtSs', 'truncated': True, 'entities': {'hashtags': [{'text': 'PyConUS2021', 'indices': [23, 35]}], 'symbols': [], 'user_mentions': [], 'urls': [{'url': 'https://t.co/IL1PlGqtSs', 'expanded_url': 'https://twitter.com/i/web/status/1397670156332044293', 'display_url': 'twitter.com/i/web/status/1…', 'indices': [117, 140]}]}, 'metadata': {'iso_language_code': 'en', 'result_type': 'recent'}, 'source': '<a href=\"https://sproutsocial.com\" rel=\"nofollow\">Sprout Social</a>', 'in_reply_to_status_id': None, 'in_reply_to_status_id_str': None, 'in_reply_to_user_id': None, 'in_reply_to_user_id_str': None, 'in_reply_to_screen_name': None, 'user': {'id': 9475182, 'id_str': '9475182', 'name': 'PyCon US', 'screen_name': 'pycon', 'location': '', 'description': 'PyCon US 2021', 'url': 'https://t.co/cDA7VmP4hV', 'entities': {'url': {'urls': [{'url': 'https://t.co/cDA7VmP4hV', 'expanded_url': 'http://us.pycon.org', 'display_url': 'us.pycon.org', 'indices': [0, 23]}]}, 'description': {'urls': []}}, 'protected': False, 'followers_count': 53097, 'friends_count': 6, 'listed_count': 1153, 'created_at': 'Tue Oct 16 11:17:41 +0000 2007', 'favourites_count': 1412, 'utc_offset': None, 'time_zone': None, 'geo_enabled': False, 'verified': False, 'statuses_count': 4484, 'lang': None, 'contributors_enabled': False, 'is_translator': False, 'is_translation_enabled': False, 'profile_background_color': '131516', 'profile_background_image_url': 'http://abs.twimg.com/images/themes/theme14/bg.gif', 'profile_background_image_url_https': 'https://abs.twimg.com/images/themes/theme14/bg.gif', 'profile_background_tile': True, 'profile_image_url': 'http://pbs.twimg.com/profile_images/1333824350672154624/_P1hFKa3_normal.jpg', 'profile_image_url_https': 'https://pbs.twimg.com/profile_images/1333824350672154624/_P1hFKa3_normal.jpg', 'profile_banner_url': 'https://pbs.twimg.com/profile_banners/9475182/1606843481', 'profile_link_color': '009CBD', 'profile_sidebar_border_color': 'FFFFFF', 'profile_sidebar_fill_color': 'DDEEF6', 'profile_text_color': '333333', 'profile_use_background_image': False, 'has_extended_profile': False, 'default_profile': False, 'default_profile_image': False, 'following': False, 'follow_request_sent': False, 'notifications': False, 'translator_type': 'none', 'withheld_in_countries': []}, 'geo': None, 'coordinates': None, 'place': None, 'contributors': None, 'is_quote_status': False, 'retweet_count': 20, 'favorite_count': 74, 'favorited': False, 'retweeted': False, 'possibly_sensitive': False, 'lang': 'en'}, 'retweet_count': 11, 'favorite_count': 33, 'favorited': False, 'retweeted': False, 'possibly_sensitive': False, 'lang': 'en'}, created_at=datetime.datetime(2021, 5, 27, 12, 5, 21), id=1397886643088936969, id_str='1397886643088936969', text='Thank you Steering Council members, past and present, and the #python core development community for proving good g… https://t.co/3KLy03Iaq3', truncated=True, entities={'hashtags': [{'text': 'python', 'indices': [62, 69]}], 'symbols': [], 'user_mentions': [], 'urls': [{'url': 'https://t.co/3KLy03Iaq3', 'expanded_url': 'https://twitter.com/i/web/status/1397886643088936969', 'display_url': 'twitter.com/i/web/status/1…', 'indices': [117, 140]}]}, metadata={'iso_language_code': 'en', 'result_type': 'recent'}, source='Twitter for iPad', source_url='http://twitter.com/#!/download/ipad', in_reply_to_status_id=None, in_reply_to_status_id_str=None, in_reply_to_user_id=None, in_reply_to_user_id_str=None, in_reply_to_screen_name=None, author=User(_api=<tweepy.api.API object at 0x000001F333ADE8E0>, _json={'id': 1167122150, 'id_str': '1167122150', 'name': 'Carol Willing', 'screen_name': 'WillingCarol', 'location': 'San Diego', 'description': 'Learn. Build. Share. | Python Steering Council and core dev | Fellow @ThePSF | @projectjupyter  @MITSloan @DukeU | @noteable_io evangelist. Opinions my own.', 'url': 'https://t.co/NBWLtJGwDA', 'entities': {'url': {'urls': [{'url': 'https://t.co/NBWLtJGwDA', 'expanded_url': 'http://willingconsulting.com', 'display_url': 'willingconsulting.com', 'indices': [0, 23]}]}, 'description': {'urls': []}}, 'protected': False, 'followers_count': 9109, 'friends_count': 2992, 'listed_count': 357, 'created_at': 'Sun Feb 10 21:44:44 +0000 2013', 'favourites_count': 63866, 'utc_offset': None, 'time_zone': None, 'geo_enabled': True, 'verified': False, 'statuses_count': 13434, 'lang': None, 'contributors_enabled': False, 'is_translator': False, 'is_translation_enabled': False, 'profile_background_color': 'EDECE9', 'profile_background_image_url': 'http://abs.twimg.com/images/themes/theme2/bg.gif', 'profile_background_image_url_https': 'https://abs.twimg.com/images/themes/theme2/bg.gif', 'profile_background_tile': True, 'profile_image_url': 'http://pbs.twimg.com/profile_images/912106281552318464/OfLHf-Up_normal.jpg', 'profile_image_url_https': 'https://pbs.twimg.com/profile_images/912106281552318464/OfLHf-Up_normal.jpg', 'profile_banner_url': 'https://pbs.twimg.com/profile_banners/1167122150/1365661184', 'profile_link_color': '088253', 'profile_sidebar_border_color': 'FFFFFF', 'profile_sidebar_fill_color': 'DAECF4', 'profile_text_color': '663B12', 'profile_use_background_image': True, 'has_extended_profile': True, 'default_profile': False, 'default_profile_image': False, 'following': False, 'follow_request_sent': False, 'notifications': False, 'translator_type': 'none', 'withheld_in_countries': []}, id=1167122150, id_str='1167122150', name='Carol Willing', screen_name='WillingCarol', location='San Diego', description='Learn. Build. Share. | Python Steering Council and core dev | Fellow @ThePSF | @projectjupyter  @MITSloan @DukeU | @noteable_io evangelist. Opinions my own.', url='https://t.co/NBWLtJGwDA', entities={'url': {'urls': [{'url': 'https://t.co/NBWLtJGwDA', 'expanded_url': 'http://willingconsulting.com', 'display_url': 'willingconsulting.com', 'indices': [0, 23]}]}, 'description': {'urls': []}}, protected=False, followers_count=9109, friends_count=2992, listed_count=357, created_at=datetime.datetime(2013, 2, 10, 21, 44, 44), favourites_count=63866, utc_offset=None, time_zone=None, geo_enabled=True, verified=False, statuses_count=13434, lang=None, contributors_enabled=False, is_translator=False, is_translation_enabled=False, profile_background_color='EDECE9', profile_background_image_url='http://abs.twimg.com/images/themes/theme2/bg.gif', profile_background_image_url_https='https://abs.twimg.com/images/themes/theme2/bg.gif', profile_background_tile=True, profile_image_url='http://pbs.twimg.com/profile_images/912106281552318464/OfLHf-Up_normal.jpg', profile_image_url_https='https://pbs.twimg.com/profile_images/912106281552318464/OfLHf-Up_normal.jpg', profile_banner_url='https://pbs.twimg.com/profile_banners/1167122150/1365661184', profile_link_color='088253', profile_sidebar_border_color='FFFFFF', profile_sidebar_fill_color='DAECF4', profile_text_color='663B12', profile_use_background_image=True, has_extended_profile=True, default_profile=False, default_profile_image=False, following=False, follow_request_sent=False, notifications=False, translator_type='none', withheld_in_countries=[]), user=User(_api=<tweepy.api.API object at 0x000001F333ADE8E0>, _json={'id': 1167122150, 'id_str': '1167122150', 'name': 'Carol Willing', 'screen_name': 'WillingCarol', 'location': 'San Diego', 'description': 'Learn. Build. Share. | Python Steering Council and core dev | Fellow @ThePSF | @projectjupyter  @MITSloan @DukeU | @noteable_io evangelist. Opinions my own.', 'url': 'https://t.co/NBWLtJGwDA', 'entities': {'url': {'urls': [{'url': 'https://t.co/NBWLtJGwDA', 'expanded_url': 'http://willingconsulting.com', 'display_url': 'willingconsulting.com', 'indices': [0, 23]}]}, 'description': {'urls': []}}, 'protected': False, 'followers_count': 9109, 'friends_count': 2992, 'listed_count': 357, 'created_at': 'Sun Feb 10 21:44:44 +0000 2013', 'favourites_count': 63866, 'utc_offset': None, 'time_zone': None, 'geo_enabled': True, 'verified': False, 'statuses_count': 13434, 'lang': None, 'contributors_enabled': False, 'is_translator': False, 'is_translation_enabled': False, 'profile_background_color': 'EDECE9', 'profile_background_image_url': 'http://abs.twimg.com/images/themes/theme2/bg.gif', 'profile_background_image_url_https': 'https://abs.twimg.com/images/themes/theme2/bg.gif', 'profile_background_tile': True, 'profile_image_url': 'http://pbs.twimg.com/profile_images/912106281552318464/OfLHf-Up_normal.jpg', 'profile_image_url_https': 'https://pbs.twimg.com/profile_images/912106281552318464/OfLHf-Up_normal.jpg', 'profile_banner_url': 'https://pbs.twimg.com/profile_banners/1167122150/1365661184', 'profile_link_color': '088253', 'profile_sidebar_border_color': 'FFFFFF', 'profile_sidebar_fill_color': 'DAECF4', 'profile_text_color': '663B12', 'profile_use_background_image': True, 'has_extended_profile': True, 'default_profile': False, 'default_profile_image': False, 'following': False, 'follow_request_sent': False, 'notifications': False, 'translator_type': 'none', 'withheld_in_countries': []}, id=1167122150, id_str='1167122150', name='Carol Willing', screen_name='WillingCarol', location='San Diego', description='Learn. Build. Share. | Python Steering Council and core dev | Fellow @ThePSF | @projectjupyter  @MITSloan @DukeU | @noteable_io evangelist. Opinions my own.', url='https://t.co/NBWLtJGwDA', entities={'url': {'urls': [{'url': 'https://t.co/NBWLtJGwDA', 'expanded_url': 'http://willingconsulting.com', 'display_url': 'willingconsulting.com', 'indices': [0, 23]}]}, 'description': {'urls': []}}, protected=False, followers_count=9109, friends_count=2992, listed_count=357, created_at=datetime.datetime(2013, 2, 10, 21, 44, 44), favourites_count=63866, utc_offset=None, time_zone=None, geo_enabled=True, verified=False, statuses_count=13434, lang=None, contributors_enabled=False, is_translator=False, is_translation_enabled=False, profile_background_color='EDECE9', profile_background_image_url='http://abs.twimg.com/images/themes/theme2/bg.gif', profile_background_image_url_https='https://abs.twimg.com/images/themes/theme2/bg.gif', profile_background_tile=True, profile_image_url='http://pbs.twimg.com/profile_images/912106281552318464/OfLHf-Up_normal.jpg', profile_image_url_https='https://pbs.twimg.com/profile_images/912106281552318464/OfLHf-Up_normal.jpg', profile_banner_url='https://pbs.twimg.com/profile_banners/1167122150/1365661184', profile_link_color='088253', profile_sidebar_border_color='FFFFFF', profile_sidebar_fill_color='DAECF4', profile_text_color='663B12', profile_use_background_image=True, has_extended_profile=True, default_profile=False, default_profile_image=False, following=False, follow_request_sent=False, notifications=False, translator_type='none', withheld_in_countries=[]), geo=None, coordinates=None, place=None, contributors=None, is_quote_status=True, quoted_status_id=1397670156332044293, quoted_status_id_str='1397670156332044293', quoted_status=Status(_api=<tweepy.api.API object at 0x000001F333ADE8E0>, _json={'created_at': 'Wed May 26 21:45:07 +0000 2021', 'id': 1397670156332044293, 'id_str': '1397670156332044293', 'text': 'The final keynote from #PyConUS2021 was from the Python Steering Council answering questions gathered from the comm… https://t.co/IL1PlGqtSs', 'truncated': True, 'entities': {'hashtags': [{'text': 'PyConUS2021', 'indices': [23, 35]}], 'symbols': [], 'user_mentions': [], 'urls': [{'url': 'https://t.co/IL1PlGqtSs', 'expanded_url': 'https://twitter.com/i/web/status/1397670156332044293', 'display_url': 'twitter.com/i/web/status/1…', 'indices': [117, 140]}]}, 'metadata': {'iso_language_code': 'en', 'result_type': 'recent'}, 'source': '<a href=\"https://sproutsocial.com\" rel=\"nofollow\">Sprout Social</a>', 'in_reply_to_status_id': None, 'in_reply_to_status_id_str': None, 'in_reply_to_user_id': None, 'in_reply_to_user_id_str': None, 'in_reply_to_screen_name': None, 'user': {'id': 9475182, 'id_str': '9475182', 'name': 'PyCon US', 'screen_name': 'pycon', 'location': '', 'description': 'PyCon US 2021', 'url': 'https://t.co/cDA7VmP4hV', 'entities': {'url': {'urls': [{'url': 'https://t.co/cDA7VmP4hV', 'expanded_url': 'http://us.pycon.org', 'display_url': 'us.pycon.org', 'indices': [0, 23]}]}, 'description': {'urls': []}}, 'protected': False, 'followers_count': 53097, 'friends_count': 6, 'listed_count': 1153, 'created_at': 'Tue Oct 16 11:17:41 +0000 2007', 'favourites_count': 1412, 'utc_offset': None, 'time_zone': None, 'geo_enabled': False, 'verified': False, 'statuses_count': 4484, 'lang': None, 'contributors_enabled': False, 'is_translator': False, 'is_translation_enabled': False, 'profile_background_color': '131516', 'profile_background_image_url': 'http://abs.twimg.com/images/themes/theme14/bg.gif', 'profile_background_image_url_https': 'https://abs.twimg.com/images/themes/theme14/bg.gif', 'profile_background_tile': True, 'profile_image_url': 'http://pbs.twimg.com/profile_images/1333824350672154624/_P1hFKa3_normal.jpg', 'profile_image_url_https': 'https://pbs.twimg.com/profile_images/1333824350672154624/_P1hFKa3_normal.jpg', 'profile_banner_url': 'https://pbs.twimg.com/profile_banners/9475182/1606843481', 'profile_link_color': '009CBD', 'profile_sidebar_border_color': 'FFFFFF', 'profile_sidebar_fill_color': 'DDEEF6', 'profile_text_color': '333333', 'profile_use_background_image': False, 'has_extended_profile': False, 'default_profile': False, 'default_profile_image': False, 'following': False, 'follow_request_sent': False, 'notifications': False, 'translator_type': 'none', 'withheld_in_countries': []}, 'geo': None, 'coordinates': None, 'place': None, 'contributors': None, 'is_quote_status': False, 'retweet_count': 20, 'favorite_count': 74, 'favorited': False, 'retweeted': False, 'possibly_sensitive': False, 'lang': 'en'}, created_at=datetime.datetime(2021, 5, 26, 21, 45, 7), id=1397670156332044293, id_str='1397670156332044293', text='The final keynote from #PyConUS2021 was from the Python Steering Council answering questions gathered from the comm… https://t.co/IL1PlGqtSs', truncated=True, entities={'hashtags': [{'text': 'PyConUS2021', 'indices': [23, 35]}], 'symbols': [], 'user_mentions': [], 'urls': [{'url': 'https://t.co/IL1PlGqtSs', 'expanded_url': 'https://twitter.com/i/web/status/1397670156332044293', 'display_url': 'twitter.com/i/web/status/1…', 'indices': [117, 140]}]}, metadata={'iso_language_code': 'en', 'result_type': 'recent'}, source='Sprout Social', source_url='https://sproutsocial.com', in_reply_to_status_id=None, in_reply_to_status_id_str=None, in_reply_to_user_id=None, in_reply_to_user_id_str=None, in_reply_to_screen_name=None, author=User(_api=<tweepy.api.API object at 0x000001F333ADE8E0>, _json={'id': 9475182, 'id_str': '9475182', 'name': 'PyCon US', 'screen_name': 'pycon', 'location': '', 'description': 'PyCon US 2021', 'url': 'https://t.co/cDA7VmP4hV', 'entities': {'url': {'urls': [{'url': 'https://t.co/cDA7VmP4hV', 'expanded_url': 'http://us.pycon.org', 'display_url': 'us.pycon.org', 'indices': [0, 23]}]}, 'description': {'urls': []}}, 'protected': False, 'followers_count': 53097, 'friends_count': 6, 'listed_count': 1153, 'created_at': 'Tue Oct 16 11:17:41 +0000 2007', 'favourites_count': 1412, 'utc_offset': None, 'time_zone': None, 'geo_enabled': False, 'verified': False, 'statuses_count': 4484, 'lang': None, 'contributors_enabled': False, 'is_translator': False, 'is_translation_enabled': False, 'profile_background_color': '131516', 'profile_background_image_url': 'http://abs.twimg.com/images/themes/theme14/bg.gif', 'profile_background_image_url_https': 'https://abs.twimg.com/images/themes/theme14/bg.gif', 'profile_background_tile': True, 'profile_image_url': 'http://pbs.twimg.com/profile_images/1333824350672154624/_P1hFKa3_normal.jpg', 'profile_image_url_https': 'https://pbs.twimg.com/profile_images/1333824350672154624/_P1hFKa3_normal.jpg', 'profile_banner_url': 'https://pbs.twimg.com/profile_banners/9475182/1606843481', 'profile_link_color': '009CBD', 'profile_sidebar_border_color': 'FFFFFF', 'profile_sidebar_fill_color': 'DDEEF6', 'profile_text_color': '333333', 'profile_use_background_image': False, 'has_extended_profile': False, 'default_profile': False, 'default_profile_image': False, 'following': False, 'follow_request_sent': False, 'notifications': False, 'translator_type': 'none', 'withheld_in_countries': []}, id=9475182, id_str='9475182', name='PyCon US', screen_name='pycon', location='', description='PyCon US 2021', url='https://t.co/cDA7VmP4hV', entities={'url': {'urls': [{'url': 'https://t.co/cDA7VmP4hV', 'expanded_url': 'http://us.pycon.org', 'display_url': 'us.pycon.org', 'indices': [0, 23]}]}, 'description': {'urls': []}}, protected=False, followers_count=53097, friends_count=6, listed_count=1153, created_at=datetime.datetime(2007, 10, 16, 11, 17, 41), favourites_count=1412, utc_offset=None, time_zone=None, geo_enabled=False, verified=False, statuses_count=4484, lang=None, contributors_enabled=False, is_translator=False, is_translation_enabled=False, profile_background_color='131516', profile_background_image_url='http://abs.twimg.com/images/themes/theme14/bg.gif', profile_background_image_url_https='https://abs.twimg.com/images/themes/theme14/bg.gif', profile_background_tile=True, profile_image_url='http://pbs.twimg.com/profile_images/1333824350672154624/_P1hFKa3_normal.jpg', profile_image_url_https='https://pbs.twimg.com/profile_images/1333824350672154624/_P1hFKa3_normal.jpg', profile_banner_url='https://pbs.twimg.com/profile_banners/9475182/1606843481', profile_link_color='009CBD', profile_sidebar_border_color='FFFFFF', profile_sidebar_fill_color='DDEEF6', profile_text_color='333333', profile_use_background_image=False, has_extended_profile=False, default_profile=False, default_profile_image=False, following=False, follow_request_sent=False, notifications=False, translator_type='none', withheld_in_countries=[]), user=User(_api=<tweepy.api.API object at 0x000001F333ADE8E0>, _json={'id': 9475182, 'id_str': '9475182', 'name': 'PyCon US', 'screen_name': 'pycon', 'location': '', 'description': 'PyCon US 2021', 'url': 'https://t.co/cDA7VmP4hV', 'entities': {'url': {'urls': [{'url': 'https://t.co/cDA7VmP4hV', 'expanded_url': 'http://us.pycon.org', 'display_url': 'us.pycon.org', 'indices': [0, 23]}]}, 'description': {'urls': []}}, 'protected': False, 'followers_count': 53097, 'friends_count': 6, 'listed_count': 1153, 'created_at': 'Tue Oct 16 11:17:41 +0000 2007', 'favourites_count': 1412, 'utc_offset': None, 'time_zone': None, 'geo_enabled': False, 'verified': False, 'statuses_count': 4484, 'lang': None, 'contributors_enabled': False, 'is_translator': False, 'is_translation_enabled': False, 'profile_background_color': '131516', 'profile_background_image_url': 'http://abs.twimg.com/images/themes/theme14/bg.gif', 'profile_background_image_url_https': 'https://abs.twimg.com/images/themes/theme14/bg.gif', 'profile_background_tile': True, 'profile_image_url': 'http://pbs.twimg.com/profile_images/1333824350672154624/_P1hFKa3_normal.jpg', 'profile_image_url_https': 'https://pbs.twimg.com/profile_images/1333824350672154624/_P1hFKa3_normal.jpg', 'profile_banner_url': 'https://pbs.twimg.com/profile_banners/9475182/1606843481', 'profile_link_color': '009CBD', 'profile_sidebar_border_color': 'FFFFFF', 'profile_sidebar_fill_color': 'DDEEF6', 'profile_text_color': '333333', 'profile_use_background_image': False, 'has_extended_profile': False, 'default_profile': False, 'default_profile_image': False, 'following': False, 'follow_request_sent': False, 'notifications': False, 'translator_type': 'none', 'withheld_in_countries': []}, id=9475182, id_str='9475182', name='PyCon US', screen_name='pycon', location='', description='PyCon US 2021', url='https://t.co/cDA7VmP4hV', entities={'url': {'urls': [{'url': 'https://t.co/cDA7VmP4hV', 'expanded_url': 'http://us.pycon.org', 'display_url': 'us.pycon.org', 'indices': [0, 23]}]}, 'description': {'urls': []}}, protected=False, followers_count=53097, friends_count=6, listed_count=1153, created_at=datetime.datetime(2007, 10, 16, 11, 17, 41), favourites_count=1412, utc_offset=None, time_zone=None, geo_enabled=False, verified=False, statuses_count=4484, lang=None, contributors_enabled=False, is_translator=False, is_translation_enabled=False, profile_background_color='131516', profile_background_image_url='http://abs.twimg.com/images/themes/theme14/bg.gif', profile_background_image_url_https='https://abs.twimg.com/images/themes/theme14/bg.gif', profile_background_tile=True, profile_image_url='http://pbs.twimg.com/profile_images/1333824350672154624/_P1hFKa3_normal.jpg', profile_image_url_https='https://pbs.twimg.com/profile_images/1333824350672154624/_P1hFKa3_normal.jpg', profile_banner_url='https://pbs.twimg.com/profile_banners/9475182/1606843481', profile_link_color='009CBD', profile_sidebar_border_color='FFFFFF', profile_sidebar_fill_color='DDEEF6', profile_text_color='333333', profile_use_background_image=False, has_extended_profile=False, default_profile=False, default_profile_image=False, following=False, follow_request_sent=False, notifications=False, translator_type='none', withheld_in_countries=[]), geo=None, coordinates=None, place=None, contributors=None, is_quote_status=False, retweet_count=20, favorite_count=74, favorited=False, retweeted=False, possibly_sensitive=False, lang='en'), retweet_count=11, favorite_count=33, favorited=False, retweeted=False, possibly_sensitive=False, lang='en'), is_quote_status=True, quoted_status_id=1397670156332044293, quoted_status_id_str='1397670156332044293', retweet_count=11, favorite_count=0, favorited=False, retweeted=False, lang='en')]"
      ]
     },
     "execution_count": 131,
     "metadata": {},
     "output_type": "execute_result"
    }
   ],
   "source": [
    "searched_tweets"
   ]
  },
  {
   "cell_type": "code",
   "execution_count": 132,
   "id": "70e06975",
   "metadata": {},
   "outputs": [
    {
     "data": {
      "text/plain": [
       "8"
      ]
     },
     "execution_count": 132,
     "metadata": {},
     "output_type": "execute_result"
    }
   ],
   "source": [
    "len(searched_tweets)"
   ]
  },
  {
   "cell_type": "code",
   "execution_count": 133,
   "id": "89bde995",
   "metadata": {},
   "outputs": [],
   "source": [
    "## trying out another method to search"
   ]
  },
  {
   "cell_type": "code",
   "execution_count": 134,
   "id": "2362239e",
   "metadata": {},
   "outputs": [
    {
     "data": {
      "text/plain": [
       "0      🐍 Take a look! 🐍 \\nA few highlights along with...\n",
       "1      🐍 🎙️ 💬  The conference tutorials, talks, works...\n",
       "2      #PyConUS Keynote addresses are now live on the...\n",
       "3      #PyConUS2021 is now behind us and the final ed...\n",
       "4      The final keynote from #PyConUS2021 was from t...\n",
       "                             ...                        \n",
       "895    Since 2011, companies behind your favorite too...\n",
       "896    #StartupRow companies use Python in all sorts ...\n",
       "897    #StartupRow companies use Python to build the ...\n",
       "898    Just a few more hours to donate to the @ThePSF...\n",
       "899    Support @ThePSF by sponsoring @pycon 2019! We'...\n",
       "Name: tweets, Length: 900, dtype: object"
      ]
     },
     "execution_count": 134,
     "metadata": {},
     "output_type": "execute_result"
    }
   ],
   "source": [
    "df.tweets"
   ]
  },
  {
   "cell_type": "code",
   "execution_count": 135,
   "id": "e2a89e4b",
   "metadata": {},
   "outputs": [
    {
     "data": {
      "text/plain": [
       "pandas.core.series.Series"
      ]
     },
     "execution_count": 135,
     "metadata": {},
     "output_type": "execute_result"
    }
   ],
   "source": [
    "type(df.tweets)"
   ]
  },
  {
   "cell_type": "code",
   "execution_count": 136,
   "id": "3bb7b9f9",
   "metadata": {},
   "outputs": [
    {
     "data": {
      "text/plain": [
       "['🐍',\n",
       " 'Take',\n",
       " 'a',\n",
       " 'look!',\n",
       " '🐍',\n",
       " 'A',\n",
       " 'few',\n",
       " 'highlights',\n",
       " 'along',\n",
       " 'with',\n",
       " 'the',\n",
       " 'conference',\n",
       " 'and',\n",
       " 'keynote',\n",
       " 'graphics',\n",
       " 'from',\n",
       " '@MindsEyeCCF',\n",
       " 'are',\n",
       " 'available',\n",
       " 'for',\n",
       " 'download',\n",
       " 'on',\n",
       " 'the',\n",
       " '#PyConUS',\n",
       " 'website:',\n",
       " 'https://t.co/nZXZrdUb8q']"
      ]
     },
     "execution_count": 136,
     "metadata": {},
     "output_type": "execute_result"
    }
   ],
   "source": [
    "df.tweets[0].split()\n"
   ]
  },
  {
   "cell_type": "code",
   "execution_count": 137,
   "id": "6984b85d",
   "metadata": {},
   "outputs": [
    {
     "name": "stdout",
     "output_type": "stream",
     "text": [
      "176\n",
      "178\n",
      "183\n",
      "294\n",
      "261\n",
      "232\n",
      "138\n",
      "222\n",
      "216\n",
      "153\n",
      "216\n",
      "236\n",
      "68\n",
      "140\n",
      "139\n",
      "140\n",
      "212\n",
      "144\n",
      "139\n",
      "139\n",
      "140\n",
      "143\n",
      "93\n",
      "140\n",
      "114\n",
      "140\n",
      "245\n",
      "206\n",
      "222\n",
      "186\n",
      "280\n",
      "226\n",
      "273\n",
      "191\n",
      "260\n",
      "258\n",
      "273\n",
      "275\n",
      "140\n",
      "208\n",
      "140\n",
      "140\n",
      "25\n",
      "197\n",
      "265\n",
      "304\n",
      "289\n",
      "299\n",
      "303\n",
      "140\n",
      "61\n",
      "78\n",
      "139\n",
      "140\n",
      "140\n",
      "296\n",
      "287\n",
      "140\n",
      "114\n",
      "140\n",
      "140\n",
      "168\n",
      "139\n",
      "153\n",
      "140\n",
      "140\n",
      "47\n",
      "186\n",
      "271\n",
      "61\n",
      "35\n",
      "140\n",
      "267\n",
      "104\n",
      "140\n",
      "109\n",
      "90\n",
      "140\n",
      "140\n",
      "140\n",
      "162\n",
      "140\n",
      "140\n",
      "111\n",
      "139\n",
      "104\n",
      "109\n",
      "140\n",
      "140\n",
      "222\n",
      "140\n",
      "144\n",
      "94\n",
      "49\n",
      "133\n",
      "53\n",
      "97\n",
      "126\n",
      "130\n",
      "74\n",
      "140\n",
      "262\n",
      "138\n",
      "140\n",
      "114\n",
      "139\n",
      "140\n",
      "140\n",
      "140\n",
      "100\n",
      "140\n",
      "303\n",
      "67\n",
      "290\n",
      "117\n",
      "301\n",
      "260\n",
      "102\n",
      "144\n",
      "253\n",
      "60\n",
      "135\n",
      "88\n",
      "140\n",
      "300\n",
      "170\n",
      "139\n",
      "141\n",
      "144\n",
      "93\n",
      "140\n",
      "109\n",
      "140\n",
      "297\n",
      "140\n",
      "140\n",
      "140\n",
      "103\n",
      "139\n",
      "140\n",
      "140\n",
      "202\n",
      "62\n",
      "139\n",
      "88\n",
      "187\n",
      "47\n",
      "140\n",
      "82\n",
      "273\n",
      "140\n",
      "229\n",
      "206\n",
      "140\n",
      "124\n",
      "144\n",
      "173\n",
      "140\n",
      "36\n",
      "98\n",
      "140\n",
      "34\n",
      "63\n",
      "167\n",
      "280\n",
      "226\n",
      "297\n",
      "144\n",
      "175\n",
      "69\n",
      "139\n",
      "278\n",
      "140\n",
      "140\n",
      "88\n",
      "64\n",
      "74\n",
      "140\n",
      "60\n",
      "140\n",
      "140\n",
      "180\n",
      "148\n",
      "119\n",
      "67\n",
      "140\n",
      "140\n",
      "247\n",
      "95\n",
      "29\n",
      "89\n",
      "197\n",
      "128\n",
      "140\n",
      "118\n",
      "112\n",
      "101\n",
      "140\n",
      "140\n",
      "136\n",
      "115\n",
      "40\n",
      "132\n",
      "292\n",
      "193\n",
      "39\n",
      "98\n",
      "70\n",
      "147\n",
      "109\n",
      "87\n",
      "275\n",
      "76\n",
      "28\n",
      "143\n",
      "140\n",
      "173\n",
      "141\n",
      "50\n",
      "65\n",
      "47\n",
      "120\n",
      "176\n",
      "280\n",
      "87\n",
      "133\n",
      "87\n",
      "238\n",
      "292\n",
      "294\n",
      "180\n",
      "155\n",
      "229\n",
      "119\n",
      "292\n",
      "83\n",
      "254\n",
      "255\n",
      "140\n",
      "260\n",
      "162\n",
      "278\n",
      "247\n",
      "297\n",
      "140\n",
      "102\n",
      "242\n",
      "109\n",
      "210\n",
      "150\n",
      "70\n",
      "81\n",
      "66\n",
      "139\n",
      "139\n",
      "140\n",
      "60\n",
      "194\n",
      "107\n",
      "140\n",
      "175\n",
      "214\n",
      "140\n",
      "268\n",
      "293\n",
      "222\n",
      "72\n",
      "112\n",
      "118\n",
      "177\n",
      "247\n",
      "153\n",
      "118\n",
      "143\n",
      "172\n",
      "158\n",
      "178\n",
      "282\n",
      "280\n",
      "181\n",
      "124\n",
      "204\n",
      "262\n",
      "226\n",
      "257\n",
      "186\n",
      "216\n",
      "263\n",
      "186\n",
      "289\n",
      "224\n",
      "226\n",
      "228\n",
      "278\n",
      "173\n",
      "171\n",
      "271\n",
      "113\n",
      "216\n",
      "133\n",
      "187\n",
      "278\n",
      "218\n",
      "272\n",
      "129\n",
      "120\n",
      "48\n",
      "191\n",
      "250\n",
      "149\n",
      "60\n",
      "100\n",
      "134\n",
      "187\n",
      "129\n",
      "186\n",
      "182\n",
      "239\n",
      "136\n",
      "181\n",
      "248\n",
      "191\n",
      "287\n",
      "105\n",
      "182\n",
      "126\n",
      "86\n",
      "95\n",
      "273\n",
      "131\n",
      "147\n",
      "115\n",
      "90\n",
      "61\n",
      "126\n",
      "148\n",
      "97\n",
      "231\n",
      "157\n",
      "136\n",
      "152\n",
      "129\n",
      "154\n",
      "184\n",
      "28\n",
      "279\n",
      "75\n",
      "305\n",
      "269\n",
      "281\n",
      "65\n",
      "303\n",
      "39\n",
      "44\n",
      "99\n",
      "125\n",
      "273\n",
      "177\n",
      "156\n",
      "63\n",
      "278\n",
      "97\n",
      "268\n",
      "179\n",
      "164\n",
      "86\n",
      "101\n",
      "179\n",
      "148\n",
      "284\n",
      "95\n",
      "295\n",
      "88\n",
      "68\n",
      "231\n",
      "140\n",
      "92\n",
      "47\n",
      "56\n",
      "234\n",
      "248\n",
      "40\n",
      "86\n",
      "210\n",
      "111\n",
      "100\n",
      "140\n",
      "301\n",
      "124\n",
      "126\n",
      "258\n",
      "270\n",
      "140\n",
      "217\n",
      "249\n",
      "283\n",
      "231\n",
      "157\n",
      "236\n",
      "213\n",
      "140\n",
      "157\n",
      "140\n",
      "277\n",
      "229\n",
      "248\n",
      "245\n",
      "248\n",
      "302\n",
      "254\n",
      "201\n",
      "116\n",
      "277\n",
      "267\n",
      "203\n",
      "276\n",
      "280\n",
      "196\n",
      "271\n",
      "202\n",
      "211\n",
      "223\n",
      "259\n",
      "262\n",
      "134\n",
      "211\n",
      "190\n",
      "142\n",
      "140\n",
      "222\n",
      "258\n",
      "267\n",
      "139\n",
      "300\n",
      "196\n",
      "191\n",
      "183\n",
      "281\n",
      "270\n",
      "184\n",
      "130\n",
      "167\n",
      "304\n",
      "153\n",
      "222\n",
      "203\n",
      "270\n",
      "201\n",
      "236\n",
      "152\n",
      "217\n",
      "176\n",
      "263\n",
      "271\n",
      "278\n",
      "85\n",
      "277\n",
      "140\n",
      "245\n",
      "140\n",
      "146\n",
      "273\n",
      "284\n",
      "196\n",
      "244\n",
      "284\n",
      "129\n",
      "233\n",
      "252\n",
      "266\n",
      "210\n",
      "115\n",
      "162\n",
      "189\n",
      "193\n",
      "230\n",
      "159\n",
      "297\n",
      "239\n",
      "231\n",
      "269\n",
      "260\n",
      "257\n",
      "166\n",
      "240\n",
      "209\n",
      "283\n",
      "273\n",
      "246\n",
      "210\n",
      "179\n",
      "280\n",
      "182\n",
      "275\n",
      "257\n",
      "270\n",
      "288\n",
      "272\n",
      "275\n",
      "257\n",
      "270\n",
      "292\n",
      "280\n",
      "279\n",
      "278\n",
      "212\n",
      "184\n",
      "241\n",
      "278\n",
      "299\n",
      "217\n",
      "160\n",
      "233\n",
      "241\n",
      "213\n",
      "282\n",
      "221\n",
      "188\n",
      "278\n",
      "274\n",
      "236\n",
      "278\n",
      "127\n",
      "149\n",
      "140\n",
      "142\n",
      "155\n",
      "64\n",
      "244\n",
      "26\n",
      "140\n",
      "214\n",
      "68\n",
      "173\n",
      "238\n",
      "262\n",
      "301\n",
      "300\n",
      "199\n",
      "296\n",
      "276\n",
      "195\n",
      "128\n",
      "114\n",
      "208\n",
      "212\n",
      "240\n",
      "177\n",
      "299\n",
      "251\n",
      "226\n",
      "219\n",
      "230\n",
      "266\n",
      "223\n",
      "206\n",
      "268\n",
      "260\n",
      "191\n",
      "281\n",
      "111\n",
      "148\n",
      "281\n",
      "299\n",
      "281\n",
      "305\n",
      "162\n",
      "274\n",
      "201\n",
      "249\n",
      "212\n",
      "263\n",
      "198\n",
      "191\n",
      "235\n",
      "284\n",
      "189\n",
      "217\n",
      "225\n",
      "189\n",
      "90\n",
      "23\n",
      "152\n",
      "265\n",
      "241\n",
      "271\n",
      "164\n",
      "286\n",
      "142\n",
      "234\n",
      "271\n",
      "42\n",
      "144\n",
      "219\n",
      "268\n",
      "261\n",
      "268\n",
      "157\n",
      "268\n",
      "237\n",
      "157\n",
      "268\n",
      "116\n",
      "140\n",
      "115\n",
      "122\n",
      "70\n",
      "94\n",
      "140\n",
      "266\n",
      "168\n",
      "139\n",
      "30\n",
      "145\n",
      "139\n",
      "113\n",
      "205\n",
      "167\n",
      "253\n",
      "140\n",
      "246\n",
      "116\n",
      "15\n",
      "35\n",
      "58\n",
      "243\n",
      "96\n",
      "131\n",
      "128\n",
      "139\n",
      "157\n",
      "306\n",
      "204\n",
      "38\n",
      "33\n",
      "73\n",
      "12\n",
      "76\n",
      "222\n",
      "315\n",
      "45\n",
      "32\n",
      "140\n",
      "100\n",
      "114\n",
      "190\n",
      "40\n",
      "160\n",
      "73\n",
      "140\n",
      "61\n",
      "139\n",
      "140\n",
      "99\n",
      "178\n",
      "137\n",
      "139\n",
      "83\n",
      "89\n",
      "199\n",
      "214\n",
      "209\n",
      "140\n",
      "29\n",
      "160\n",
      "229\n",
      "139\n",
      "197\n",
      "136\n",
      "285\n",
      "194\n",
      "88\n",
      "168\n",
      "140\n",
      "278\n",
      "35\n",
      "160\n",
      "267\n",
      "31\n",
      "100\n",
      "261\n",
      "241\n",
      "215\n",
      "101\n",
      "182\n",
      "139\n",
      "160\n",
      "210\n",
      "270\n",
      "275\n",
      "108\n",
      "110\n",
      "297\n",
      "244\n",
      "59\n",
      "202\n",
      "160\n",
      "219\n",
      "246\n",
      "198\n",
      "266\n",
      "215\n",
      "84\n",
      "73\n",
      "216\n",
      "75\n",
      "284\n",
      "293\n",
      "140\n",
      "304\n",
      "135\n",
      "168\n",
      "293\n",
      "284\n",
      "254\n",
      "271\n",
      "278\n",
      "182\n",
      "317\n",
      "202\n",
      "179\n",
      "272\n",
      "179\n",
      "227\n",
      "106\n",
      "263\n",
      "202\n",
      "182\n",
      "303\n",
      "66\n",
      "166\n",
      "246\n",
      "283\n",
      "182\n",
      "180\n",
      "253\n",
      "219\n",
      "184\n",
      "185\n",
      "260\n",
      "269\n",
      "257\n",
      "287\n",
      "199\n",
      "234\n",
      "181\n",
      "271\n",
      "261\n",
      "304\n",
      "208\n",
      "298\n",
      "268\n",
      "310\n",
      "266\n",
      "301\n",
      "302\n",
      "315\n",
      "227\n",
      "194\n",
      "303\n",
      "275\n",
      "159\n",
      "263\n",
      "279\n",
      "225\n",
      "106\n",
      "300\n",
      "166\n",
      "256\n",
      "248\n",
      "258\n",
      "301\n",
      "270\n",
      "144\n",
      "275\n",
      "308\n",
      "193\n",
      "173\n",
      "118\n",
      "26\n",
      "239\n",
      "118\n",
      "282\n",
      "183\n",
      "118\n",
      "231\n",
      "125\n",
      "212\n",
      "245\n",
      "118\n",
      "296\n",
      "251\n",
      "286\n",
      "274\n",
      "252\n",
      "139\n",
      "245\n",
      "119\n",
      "276\n",
      "310\n",
      "215\n",
      "171\n",
      "275\n",
      "275\n",
      "266\n",
      "163\n",
      "303\n",
      "225\n",
      "239\n",
      "140\n",
      "306\n",
      "266\n",
      "43\n",
      "285\n",
      "190\n",
      "159\n",
      "140\n",
      "287\n",
      "267\n",
      "267\n",
      "140\n",
      "280\n",
      "265\n",
      "144\n",
      "305\n",
      "285\n",
      "171\n",
      "199\n",
      "140\n",
      "233\n",
      "133\n",
      "150\n",
      "106\n",
      "38\n",
      "20\n",
      "280\n",
      "218\n",
      "220\n",
      "219\n",
      "166\n",
      "265\n",
      "275\n",
      "274\n",
      "274\n",
      "207\n",
      "169\n",
      "283\n",
      "238\n",
      "138\n",
      "275\n",
      "305\n",
      "216\n",
      "279\n",
      "289\n",
      "260\n",
      "232\n",
      "146\n",
      "290\n",
      "255\n",
      "16\n",
      "148\n",
      "288\n",
      "201\n",
      "266\n",
      "261\n",
      "271\n",
      "140\n",
      "298\n",
      "228\n",
      "205\n",
      "282\n",
      "188\n",
      "272\n",
      "48\n",
      "231\n",
      "116\n",
      "56\n",
      "212\n",
      "264\n",
      "147\n",
      "300\n",
      "293\n",
      "265\n",
      "299\n",
      "211\n",
      "218\n",
      "55\n",
      "147\n",
      "269\n",
      "201\n",
      "197\n",
      "226\n",
      "98\n",
      "140\n",
      "266\n",
      "284\n",
      "269\n",
      "263\n",
      "229\n",
      "231\n"
     ]
    }
   ],
   "source": [
    "for i in utt:\n",
    "    print(len(i.full_text))"
   ]
  },
  {
   "cell_type": "code",
   "execution_count": 138,
   "id": "ca57ca0f",
   "metadata": {},
   "outputs": [],
   "source": [
    "financial_hashtags=['#financialfreedom',\n",
    " '#wallstreet',\n",
    " '#investments',\n",
    " '#motivation',\n",
    " '#economy',\n",
    " '#finance',\n",
    " '#fintech',\n",
    " '#trader',\n",
    " '#lifestyle',\n",
    " '#forextrader',\n",
    " '#money',\n",
    " '#accounting',\n",
    " '#success',\n",
    " '#bhfyp',\n",
    " '#luxury',\n",
    " '#wealth',\n",
    " '#tax',\n",
    " '#cryptocurrency',\n",
    " '#stockmarket',\n",
    " '#covid',\n",
    " '#personalfinance',\n",
    " '#financialadvisor',\n",
    " '#financialplanning',\n",
    " '#investor',\n",
    " '#passiveincome',\n",
    " '#financeminister',\n",
    " '#mortgage',\n",
    " '#investing',\n",
    " '#cash',\n",
    " '#business',\n",
    " '#goals',\n",
    " '#entrepreneurship',\n",
    " '#education',\n",
    " '#india',\n",
    " '#startup',\n",
    " '#debtfree',\n",
    " '#forex',\n",
    " '#marketing',\n",
    " '#invest',\n",
    " '#accountant',\n",
    " '#insurance',\n",
    " '#banking',\n",
    " '#crypto',\n",
    " '#rich',\n",
    " '#financetips',\n",
    " '#blockchain',\n",
    " '#entrepreneur',\n",
    " '#trading',\n",
    " '#financialliteracy',\n",
    " '#businessowner',\n",
    " '#creditrepair',\n",
    " '#stocks',\n",
    " '#investment',\n",
    " '#millionaire',\n",
    " '#financial',\n",
    " '#realestate',\n",
    " '#daytrader',\n",
    " '#smallbusiness',\n",
    " '#credit',\n",
    " '#loans','#loan'\n",
    " '#bitcoin']\n"
   ]
  },
  {
   "cell_type": "code",
   "execution_count": 139,
   "id": "aabf432f",
   "metadata": {},
   "outputs": [],
   "source": [
    "financial_words=[x[1:] for x in financial_hashtags]"
   ]
  },
  {
   "cell_type": "code",
   "execution_count": 140,
   "id": "a61a1ee0",
   "metadata": {},
   "outputs": [
    {
     "name": "stdout",
     "output_type": "stream",
     "text": [
      "103\n"
     ]
    }
   ],
   "source": [
    "#checking if a word from fin_hash is there in the tweet\n",
    "count=0\n",
    "list_of_financial_tweets=[]\n",
    "for i in range(len(utt)):\n",
    "    res = [ele for ele in financial_words if(ele in utt[i].full_text.lower())] \n",
    "    if(res):\n",
    "        count+=1\n",
    "        list_of_financial_tweets.append(utt[i])\n",
    "\n",
    "print(count)"
   ]
  },
  {
   "cell_type": "code",
   "execution_count": 141,
   "id": "5282bc83",
   "metadata": {},
   "outputs": [
    {
     "data": {
      "text/html": [
       "<div>\n",
       "<style scoped>\n",
       "    .dataframe tbody tr th:only-of-type {\n",
       "        vertical-align: middle;\n",
       "    }\n",
       "\n",
       "    .dataframe tbody tr th {\n",
       "        vertical-align: top;\n",
       "    }\n",
       "\n",
       "    .dataframe thead th {\n",
       "        text-align: right;\n",
       "    }\n",
       "</style>\n",
       "<table border=\"1\" class=\"dataframe\">\n",
       "  <thead>\n",
       "    <tr style=\"text-align: right;\">\n",
       "      <th></th>\n",
       "      <th>tweets</th>\n",
       "      <th>id</th>\n",
       "      <th>len</th>\n",
       "      <th>date</th>\n",
       "      <th>source</th>\n",
       "      <th>likes</th>\n",
       "      <th>retweets</th>\n",
       "    </tr>\n",
       "  </thead>\n",
       "  <tbody>\n",
       "    <tr>\n",
       "      <th>0</th>\n",
       "      <td>The final keynote from #PyConUS2021 was from t...</td>\n",
       "      <td>1397670156332044293</td>\n",
       "      <td>261</td>\n",
       "      <td>2021-05-26 21:45:07</td>\n",
       "      <td>Sprout Social</td>\n",
       "      <td>74</td>\n",
       "      <td>20</td>\n",
       "    </tr>\n",
       "    <tr>\n",
       "      <th>1</th>\n",
       "      <td>RT @terriko: After some successful sprinting a...</td>\n",
       "      <td>1395018592341708804</td>\n",
       "      <td>140</td>\n",
       "      <td>2021-05-19 14:08:45</td>\n",
       "      <td>Twitter Web App</td>\n",
       "      <td>0</td>\n",
       "      <td>1</td>\n",
       "    </tr>\n",
       "    <tr>\n",
       "      <th>2</th>\n",
       "      <td>Our Mentored Sprints coordinators, Humble Data...</td>\n",
       "      <td>1394030009984110592</td>\n",
       "      <td>222</td>\n",
       "      <td>2021-05-16 20:40:28</td>\n",
       "      <td>Twitter Web App</td>\n",
       "      <td>14</td>\n",
       "      <td>0</td>\n",
       "    </tr>\n",
       "    <tr>\n",
       "      <th>3</th>\n",
       "      <td>Our Language Summit, Education and Trainers Su...</td>\n",
       "      <td>1394030008860033025</td>\n",
       "      <td>186</td>\n",
       "      <td>2021-05-16 20:40:28</td>\n",
       "      <td>Twitter Web App</td>\n",
       "      <td>15</td>\n",
       "      <td>0</td>\n",
       "    </tr>\n",
       "    <tr>\n",
       "      <th>4</th>\n",
       "      <td>Our Financial Aid committee ensured that the p...</td>\n",
       "      <td>1394030006574145536</td>\n",
       "      <td>226</td>\n",
       "      <td>2021-05-16 20:40:28</td>\n",
       "      <td>Twitter Web App</td>\n",
       "      <td>15</td>\n",
       "      <td>0</td>\n",
       "    </tr>\n",
       "    <tr>\n",
       "      <th>...</th>\n",
       "      <td>...</td>\n",
       "      <td>...</td>\n",
       "      <td>...</td>\n",
       "      <td>...</td>\n",
       "      <td>...</td>\n",
       "      <td>...</td>\n",
       "      <td>...</td>\n",
       "    </tr>\n",
       "    <tr>\n",
       "      <th>98</th>\n",
       "      <td>#StartupRow companies have been acquired by co...</td>\n",
       "      <td>1072159084126896128</td>\n",
       "      <td>266</td>\n",
       "      <td>2018-12-10 16:00:20</td>\n",
       "      <td>Sprout Social</td>\n",
       "      <td>5</td>\n",
       "      <td>3</td>\n",
       "    </tr>\n",
       "    <tr>\n",
       "      <th>99</th>\n",
       "      <td>Since 2011, companies behind your favorite too...</td>\n",
       "      <td>1071071879887249409</td>\n",
       "      <td>284</td>\n",
       "      <td>2018-12-07 16:00:10</td>\n",
       "      <td>Sprout Social</td>\n",
       "      <td>11</td>\n",
       "      <td>3</td>\n",
       "    </tr>\n",
       "    <tr>\n",
       "      <th>100</th>\n",
       "      <td>#StartupRow companies use Python in all sorts ...</td>\n",
       "      <td>1070422635333464064</td>\n",
       "      <td>269</td>\n",
       "      <td>2018-12-05 21:00:18</td>\n",
       "      <td>Sprout Social</td>\n",
       "      <td>5</td>\n",
       "      <td>4</td>\n",
       "    </tr>\n",
       "    <tr>\n",
       "      <th>101</th>\n",
       "      <td>#StartupRow companies use Python to build the ...</td>\n",
       "      <td>1068248268650491904</td>\n",
       "      <td>263</td>\n",
       "      <td>2018-11-29 21:00:08</td>\n",
       "      <td>Sprout Social</td>\n",
       "      <td>2</td>\n",
       "      <td>2</td>\n",
       "    </tr>\n",
       "    <tr>\n",
       "      <th>102</th>\n",
       "      <td>Support @ThePSF by sponsoring @pycon 2019! We'...</td>\n",
       "      <td>1067448047993540608</td>\n",
       "      <td>231</td>\n",
       "      <td>2018-11-27 16:00:21</td>\n",
       "      <td>Sprout Social</td>\n",
       "      <td>8</td>\n",
       "      <td>2</td>\n",
       "    </tr>\n",
       "  </tbody>\n",
       "</table>\n",
       "<p>103 rows × 7 columns</p>\n",
       "</div>"
      ],
      "text/plain": [
       "                                                tweets                   id  \\\n",
       "0    The final keynote from #PyConUS2021 was from t...  1397670156332044293   \n",
       "1    RT @terriko: After some successful sprinting a...  1395018592341708804   \n",
       "2    Our Mentored Sprints coordinators, Humble Data...  1394030009984110592   \n",
       "3    Our Language Summit, Education and Trainers Su...  1394030008860033025   \n",
       "4    Our Financial Aid committee ensured that the p...  1394030006574145536   \n",
       "..                                                 ...                  ...   \n",
       "98   #StartupRow companies have been acquired by co...  1072159084126896128   \n",
       "99   Since 2011, companies behind your favorite too...  1071071879887249409   \n",
       "100  #StartupRow companies use Python in all sorts ...  1070422635333464064   \n",
       "101  #StartupRow companies use Python to build the ...  1068248268650491904   \n",
       "102  Support @ThePSF by sponsoring @pycon 2019! We'...  1067448047993540608   \n",
       "\n",
       "     len                date           source  likes  retweets  \n",
       "0    261 2021-05-26 21:45:07    Sprout Social     74        20  \n",
       "1    140 2021-05-19 14:08:45  Twitter Web App      0         1  \n",
       "2    222 2021-05-16 20:40:28  Twitter Web App     14         0  \n",
       "3    186 2021-05-16 20:40:28  Twitter Web App     15         0  \n",
       "4    226 2021-05-16 20:40:28  Twitter Web App     15         0  \n",
       "..   ...                 ...              ...    ...       ...  \n",
       "98   266 2018-12-10 16:00:20    Sprout Social      5         3  \n",
       "99   284 2018-12-07 16:00:10    Sprout Social     11         3  \n",
       "100  269 2018-12-05 21:00:18    Sprout Social      5         4  \n",
       "101  263 2018-11-29 21:00:08    Sprout Social      2         2  \n",
       "102  231 2018-11-27 16:00:21    Sprout Social      8         2  \n",
       "\n",
       "[103 rows x 7 columns]"
      ]
     },
     "execution_count": 141,
     "metadata": {},
     "output_type": "execute_result"
    }
   ],
   "source": [
    "financial_dataframe=tweet_analyzer.tweets_to_data_frame(list_of_financial_tweets)    \n",
    "financial_dataframe"
   ]
  },
  {
   "cell_type": "code",
   "execution_count": 142,
   "id": "2f9e7a50",
   "metadata": {},
   "outputs": [],
   "source": [
    "train_df=pd.read_csv('million_tweets.csv')"
   ]
  },
  {
   "cell_type": "code",
   "execution_count": 143,
   "id": "f37d9609",
   "metadata": {
    "scrolled": true
   },
   "outputs": [
    {
     "data": {
      "text/html": [
       "<div>\n",
       "<style scoped>\n",
       "    .dataframe tbody tr th:only-of-type {\n",
       "        vertical-align: middle;\n",
       "    }\n",
       "\n",
       "    .dataframe tbody tr th {\n",
       "        vertical-align: top;\n",
       "    }\n",
       "\n",
       "    .dataframe thead th {\n",
       "        text-align: right;\n",
       "    }\n",
       "</style>\n",
       "<table border=\"1\" class=\"dataframe\">\n",
       "  <thead>\n",
       "    <tr style=\"text-align: right;\">\n",
       "      <th></th>\n",
       "      <th>0</th>\n",
       "      <th>1467810369</th>\n",
       "      <th>Mon Apr 06 22:19:45 PDT 2009</th>\n",
       "      <th>NO_QUERY</th>\n",
       "      <th>_TheSpecialOne_</th>\n",
       "      <th>@switchfoot http://twitpic.com/2y1zl - Awww, that's a bummer.  You shoulda got David Carr of Third Day to do it. ;D</th>\n",
       "    </tr>\n",
       "  </thead>\n",
       "  <tbody>\n",
       "    <tr>\n",
       "      <th>0</th>\n",
       "      <td>0</td>\n",
       "      <td>1467810672</td>\n",
       "      <td>Mon Apr 06 22:19:49 PDT 2009</td>\n",
       "      <td>NO_QUERY</td>\n",
       "      <td>scotthamilton</td>\n",
       "      <td>is upset that he can't update his Facebook by ...</td>\n",
       "    </tr>\n",
       "    <tr>\n",
       "      <th>1</th>\n",
       "      <td>0</td>\n",
       "      <td>1467810917</td>\n",
       "      <td>Mon Apr 06 22:19:53 PDT 2009</td>\n",
       "      <td>NO_QUERY</td>\n",
       "      <td>mattycus</td>\n",
       "      <td>@Kenichan I dived many times for the ball. Man...</td>\n",
       "    </tr>\n",
       "    <tr>\n",
       "      <th>2</th>\n",
       "      <td>0</td>\n",
       "      <td>1467811184</td>\n",
       "      <td>Mon Apr 06 22:19:57 PDT 2009</td>\n",
       "      <td>NO_QUERY</td>\n",
       "      <td>ElleCTF</td>\n",
       "      <td>my whole body feels itchy and like its on fire</td>\n",
       "    </tr>\n",
       "    <tr>\n",
       "      <th>3</th>\n",
       "      <td>0</td>\n",
       "      <td>1467811193</td>\n",
       "      <td>Mon Apr 06 22:19:57 PDT 2009</td>\n",
       "      <td>NO_QUERY</td>\n",
       "      <td>Karoli</td>\n",
       "      <td>@nationwideclass no, it's not behaving at all....</td>\n",
       "    </tr>\n",
       "    <tr>\n",
       "      <th>4</th>\n",
       "      <td>0</td>\n",
       "      <td>1467811372</td>\n",
       "      <td>Mon Apr 06 22:20:00 PDT 2009</td>\n",
       "      <td>NO_QUERY</td>\n",
       "      <td>joy_wolf</td>\n",
       "      <td>@Kwesidei not the whole crew</td>\n",
       "    </tr>\n",
       "    <tr>\n",
       "      <th>...</th>\n",
       "      <td>...</td>\n",
       "      <td>...</td>\n",
       "      <td>...</td>\n",
       "      <td>...</td>\n",
       "      <td>...</td>\n",
       "      <td>...</td>\n",
       "    </tr>\n",
       "    <tr>\n",
       "      <th>1599994</th>\n",
       "      <td>4</td>\n",
       "      <td>2193601966</td>\n",
       "      <td>Tue Jun 16 08:40:49 PDT 2009</td>\n",
       "      <td>NO_QUERY</td>\n",
       "      <td>AmandaMarie1028</td>\n",
       "      <td>Just woke up. Having no school is the best fee...</td>\n",
       "    </tr>\n",
       "    <tr>\n",
       "      <th>1599995</th>\n",
       "      <td>4</td>\n",
       "      <td>2193601969</td>\n",
       "      <td>Tue Jun 16 08:40:49 PDT 2009</td>\n",
       "      <td>NO_QUERY</td>\n",
       "      <td>TheWDBoards</td>\n",
       "      <td>TheWDB.com - Very cool to hear old Walt interv...</td>\n",
       "    </tr>\n",
       "    <tr>\n",
       "      <th>1599996</th>\n",
       "      <td>4</td>\n",
       "      <td>2193601991</td>\n",
       "      <td>Tue Jun 16 08:40:49 PDT 2009</td>\n",
       "      <td>NO_QUERY</td>\n",
       "      <td>bpbabe</td>\n",
       "      <td>Are you ready for your MoJo Makeover? Ask me f...</td>\n",
       "    </tr>\n",
       "    <tr>\n",
       "      <th>1599997</th>\n",
       "      <td>4</td>\n",
       "      <td>2193602064</td>\n",
       "      <td>Tue Jun 16 08:40:49 PDT 2009</td>\n",
       "      <td>NO_QUERY</td>\n",
       "      <td>tinydiamondz</td>\n",
       "      <td>Happy 38th Birthday to my boo of alll time!!! ...</td>\n",
       "    </tr>\n",
       "    <tr>\n",
       "      <th>1599998</th>\n",
       "      <td>4</td>\n",
       "      <td>2193602129</td>\n",
       "      <td>Tue Jun 16 08:40:50 PDT 2009</td>\n",
       "      <td>NO_QUERY</td>\n",
       "      <td>RyanTrevMorris</td>\n",
       "      <td>happy #charitytuesday @theNSPCC @SparksCharity...</td>\n",
       "    </tr>\n",
       "  </tbody>\n",
       "</table>\n",
       "<p>1599999 rows × 6 columns</p>\n",
       "</div>"
      ],
      "text/plain": [
       "         0  1467810369  Mon Apr 06 22:19:45 PDT 2009  NO_QUERY  \\\n",
       "0        0  1467810672  Mon Apr 06 22:19:49 PDT 2009  NO_QUERY   \n",
       "1        0  1467810917  Mon Apr 06 22:19:53 PDT 2009  NO_QUERY   \n",
       "2        0  1467811184  Mon Apr 06 22:19:57 PDT 2009  NO_QUERY   \n",
       "3        0  1467811193  Mon Apr 06 22:19:57 PDT 2009  NO_QUERY   \n",
       "4        0  1467811372  Mon Apr 06 22:20:00 PDT 2009  NO_QUERY   \n",
       "...     ..         ...                           ...       ...   \n",
       "1599994  4  2193601966  Tue Jun 16 08:40:49 PDT 2009  NO_QUERY   \n",
       "1599995  4  2193601969  Tue Jun 16 08:40:49 PDT 2009  NO_QUERY   \n",
       "1599996  4  2193601991  Tue Jun 16 08:40:49 PDT 2009  NO_QUERY   \n",
       "1599997  4  2193602064  Tue Jun 16 08:40:49 PDT 2009  NO_QUERY   \n",
       "1599998  4  2193602129  Tue Jun 16 08:40:50 PDT 2009  NO_QUERY   \n",
       "\n",
       "         _TheSpecialOne_  \\\n",
       "0          scotthamilton   \n",
       "1               mattycus   \n",
       "2                ElleCTF   \n",
       "3                 Karoli   \n",
       "4               joy_wolf   \n",
       "...                  ...   \n",
       "1599994  AmandaMarie1028   \n",
       "1599995      TheWDBoards   \n",
       "1599996           bpbabe   \n",
       "1599997     tinydiamondz   \n",
       "1599998   RyanTrevMorris   \n",
       "\n",
       "        @switchfoot http://twitpic.com/2y1zl - Awww, that's a bummer.  You shoulda got David Carr of Third Day to do it. ;D  \n",
       "0        is upset that he can't update his Facebook by ...                                                                   \n",
       "1        @Kenichan I dived many times for the ball. Man...                                                                   \n",
       "2          my whole body feels itchy and like its on fire                                                                    \n",
       "3        @nationwideclass no, it's not behaving at all....                                                                   \n",
       "4                            @Kwesidei not the whole crew                                                                    \n",
       "...                                                    ...                                                                   \n",
       "1599994  Just woke up. Having no school is the best fee...                                                                   \n",
       "1599995  TheWDB.com - Very cool to hear old Walt interv...                                                                   \n",
       "1599996  Are you ready for your MoJo Makeover? Ask me f...                                                                   \n",
       "1599997  Happy 38th Birthday to my boo of alll time!!! ...                                                                   \n",
       "1599998  happy #charitytuesday @theNSPCC @SparksCharity...                                                                   \n",
       "\n",
       "[1599999 rows x 6 columns]"
      ]
     },
     "execution_count": 143,
     "metadata": {},
     "output_type": "execute_result"
    }
   ],
   "source": [
    "train_df"
   ]
  },
  {
   "cell_type": "code",
   "execution_count": 144,
   "id": "b27fad04",
   "metadata": {},
   "outputs": [],
   "source": [
    "train_df.columns=['polarity','id','date_time','query','user','tweet']"
   ]
  },
  {
   "cell_type": "code",
   "execution_count": 145,
   "id": "d2996288",
   "metadata": {},
   "outputs": [
    {
     "data": {
      "text/html": [
       "<div>\n",
       "<style scoped>\n",
       "    .dataframe tbody tr th:only-of-type {\n",
       "        vertical-align: middle;\n",
       "    }\n",
       "\n",
       "    .dataframe tbody tr th {\n",
       "        vertical-align: top;\n",
       "    }\n",
       "\n",
       "    .dataframe thead th {\n",
       "        text-align: right;\n",
       "    }\n",
       "</style>\n",
       "<table border=\"1\" class=\"dataframe\">\n",
       "  <thead>\n",
       "    <tr style=\"text-align: right;\">\n",
       "      <th></th>\n",
       "      <th>polarity</th>\n",
       "      <th>id</th>\n",
       "      <th>date_time</th>\n",
       "      <th>query</th>\n",
       "      <th>user</th>\n",
       "      <th>tweet</th>\n",
       "    </tr>\n",
       "  </thead>\n",
       "  <tbody>\n",
       "    <tr>\n",
       "      <th>0</th>\n",
       "      <td>0</td>\n",
       "      <td>1467810672</td>\n",
       "      <td>Mon Apr 06 22:19:49 PDT 2009</td>\n",
       "      <td>NO_QUERY</td>\n",
       "      <td>scotthamilton</td>\n",
       "      <td>is upset that he can't update his Facebook by ...</td>\n",
       "    </tr>\n",
       "    <tr>\n",
       "      <th>1</th>\n",
       "      <td>0</td>\n",
       "      <td>1467810917</td>\n",
       "      <td>Mon Apr 06 22:19:53 PDT 2009</td>\n",
       "      <td>NO_QUERY</td>\n",
       "      <td>mattycus</td>\n",
       "      <td>@Kenichan I dived many times for the ball. Man...</td>\n",
       "    </tr>\n",
       "    <tr>\n",
       "      <th>2</th>\n",
       "      <td>0</td>\n",
       "      <td>1467811184</td>\n",
       "      <td>Mon Apr 06 22:19:57 PDT 2009</td>\n",
       "      <td>NO_QUERY</td>\n",
       "      <td>ElleCTF</td>\n",
       "      <td>my whole body feels itchy and like its on fire</td>\n",
       "    </tr>\n",
       "    <tr>\n",
       "      <th>3</th>\n",
       "      <td>0</td>\n",
       "      <td>1467811193</td>\n",
       "      <td>Mon Apr 06 22:19:57 PDT 2009</td>\n",
       "      <td>NO_QUERY</td>\n",
       "      <td>Karoli</td>\n",
       "      <td>@nationwideclass no, it's not behaving at all....</td>\n",
       "    </tr>\n",
       "    <tr>\n",
       "      <th>4</th>\n",
       "      <td>0</td>\n",
       "      <td>1467811372</td>\n",
       "      <td>Mon Apr 06 22:20:00 PDT 2009</td>\n",
       "      <td>NO_QUERY</td>\n",
       "      <td>joy_wolf</td>\n",
       "      <td>@Kwesidei not the whole crew</td>\n",
       "    </tr>\n",
       "  </tbody>\n",
       "</table>\n",
       "</div>"
      ],
      "text/plain": [
       "   polarity          id                     date_time     query  \\\n",
       "0         0  1467810672  Mon Apr 06 22:19:49 PDT 2009  NO_QUERY   \n",
       "1         0  1467810917  Mon Apr 06 22:19:53 PDT 2009  NO_QUERY   \n",
       "2         0  1467811184  Mon Apr 06 22:19:57 PDT 2009  NO_QUERY   \n",
       "3         0  1467811193  Mon Apr 06 22:19:57 PDT 2009  NO_QUERY   \n",
       "4         0  1467811372  Mon Apr 06 22:20:00 PDT 2009  NO_QUERY   \n",
       "\n",
       "            user                                              tweet  \n",
       "0  scotthamilton  is upset that he can't update his Facebook by ...  \n",
       "1       mattycus  @Kenichan I dived many times for the ball. Man...  \n",
       "2        ElleCTF    my whole body feels itchy and like its on fire   \n",
       "3         Karoli  @nationwideclass no, it's not behaving at all....  \n",
       "4       joy_wolf                      @Kwesidei not the whole crew   "
      ]
     },
     "execution_count": 145,
     "metadata": {},
     "output_type": "execute_result"
    }
   ],
   "source": [
    "train_df.head()"
   ]
  },
  {
   "cell_type": "code",
   "execution_count": 146,
   "id": "9230e59d",
   "metadata": {},
   "outputs": [
    {
     "data": {
      "text/plain": [
       "4    800000\n",
       "0    799999\n",
       "Name: polarity, dtype: int64"
      ]
     },
     "execution_count": 146,
     "metadata": {},
     "output_type": "execute_result"
    }
   ],
   "source": [
    "train_df.polarity.value_counts()"
   ]
  },
  {
   "cell_type": "code",
   "execution_count": 147,
   "id": "645566f7",
   "metadata": {},
   "outputs": [],
   "source": [
    "train_df.polarity.replace({4:1,0:0},inplace=True)"
   ]
  },
  {
   "cell_type": "code",
   "execution_count": 148,
   "id": "8cbca0a5",
   "metadata": {},
   "outputs": [],
   "source": [
    "train_df=train_df.sample(n=1000)"
   ]
  },
  {
   "cell_type": "code",
   "execution_count": 149,
   "id": "5818fde1",
   "metadata": {},
   "outputs": [
    {
     "data": {
      "text/html": [
       "<div>\n",
       "<style scoped>\n",
       "    .dataframe tbody tr th:only-of-type {\n",
       "        vertical-align: middle;\n",
       "    }\n",
       "\n",
       "    .dataframe tbody tr th {\n",
       "        vertical-align: top;\n",
       "    }\n",
       "\n",
       "    .dataframe thead th {\n",
       "        text-align: right;\n",
       "    }\n",
       "</style>\n",
       "<table border=\"1\" class=\"dataframe\">\n",
       "  <thead>\n",
       "    <tr style=\"text-align: right;\">\n",
       "      <th></th>\n",
       "      <th>polarity</th>\n",
       "      <th>id</th>\n",
       "      <th>date_time</th>\n",
       "      <th>query</th>\n",
       "      <th>user</th>\n",
       "      <th>tweet</th>\n",
       "    </tr>\n",
       "  </thead>\n",
       "  <tbody>\n",
       "    <tr>\n",
       "      <th>655563</th>\n",
       "      <td>0</td>\n",
       "      <td>2240005823</td>\n",
       "      <td>Fri Jun 19 09:13:31 PDT 2009</td>\n",
       "      <td>NO_QUERY</td>\n",
       "      <td>Audnumber</td>\n",
       "      <td>TGIF..........wait, not looking forward to dri...</td>\n",
       "    </tr>\n",
       "    <tr>\n",
       "      <th>848263</th>\n",
       "      <td>1</td>\n",
       "      <td>1564779690</td>\n",
       "      <td>Mon Apr 20 04:53:54 PDT 2009</td>\n",
       "      <td>NO_QUERY</td>\n",
       "      <td>GaLiNd3z</td>\n",
       "      <td>@VayaG  my too, they were awesome )</td>\n",
       "    </tr>\n",
       "    <tr>\n",
       "      <th>1423183</th>\n",
       "      <td>1</td>\n",
       "      <td>2058641650</td>\n",
       "      <td>Sat Jun 06 15:20:34 PDT 2009</td>\n",
       "      <td>NO_QUERY</td>\n",
       "      <td>sugarlace</td>\n",
       "      <td>@catjuan my house is an open house for champor...</td>\n",
       "    </tr>\n",
       "    <tr>\n",
       "      <th>1419369</th>\n",
       "      <td>1</td>\n",
       "      <td>2057955930</td>\n",
       "      <td>Sat Jun 06 13:59:14 PDT 2009</td>\n",
       "      <td>NO_QUERY</td>\n",
       "      <td>mccoy81603</td>\n",
       "      <td>Ppdurham i'm watching white chicks with my mom...</td>\n",
       "    </tr>\n",
       "    <tr>\n",
       "      <th>585895</th>\n",
       "      <td>0</td>\n",
       "      <td>2215790498</td>\n",
       "      <td>Wed Jun 17 18:36:54 PDT 2009</td>\n",
       "      <td>NO_QUERY</td>\n",
       "      <td>carl0sroman</td>\n",
       "      <td>@JenalynMichelle I miss you too niggga. you do...</td>\n",
       "    </tr>\n",
       "    <tr>\n",
       "      <th>...</th>\n",
       "      <td>...</td>\n",
       "      <td>...</td>\n",
       "      <td>...</td>\n",
       "      <td>...</td>\n",
       "      <td>...</td>\n",
       "      <td>...</td>\n",
       "    </tr>\n",
       "    <tr>\n",
       "      <th>196616</th>\n",
       "      <td>0</td>\n",
       "      <td>1970763494</td>\n",
       "      <td>Sat May 30 05:07:30 PDT 2009</td>\n",
       "      <td>NO_QUERY</td>\n",
       "      <td>teh_gurumeister</td>\n",
       "      <td>@robineccles you mistweeted  here's the link a...</td>\n",
       "    </tr>\n",
       "    <tr>\n",
       "      <th>1201376</th>\n",
       "      <td>1</td>\n",
       "      <td>1985662270</td>\n",
       "      <td>Sun May 31 17:32:11 PDT 2009</td>\n",
       "      <td>NO_QUERY</td>\n",
       "      <td>niicolemarshall</td>\n",
       "      <td>listening to thenewno2... @dhaniharrison is ab...</td>\n",
       "    </tr>\n",
       "    <tr>\n",
       "      <th>176863</th>\n",
       "      <td>0</td>\n",
       "      <td>1965464799</td>\n",
       "      <td>Fri May 29 15:58:11 PDT 2009</td>\n",
       "      <td>NO_QUERY</td>\n",
       "      <td>jasminepotts</td>\n",
       "      <td>@nattymsmith they have nice cakes  why can't I...</td>\n",
       "    </tr>\n",
       "    <tr>\n",
       "      <th>937813</th>\n",
       "      <td>1</td>\n",
       "      <td>1793309636</td>\n",
       "      <td>Thu May 14 02:11:32 PDT 2009</td>\n",
       "      <td>NO_QUERY</td>\n",
       "      <td>iandolphin24</td>\n",
       "      <td>PR @jimrhiz Here's a bit more data  I'm losing...</td>\n",
       "    </tr>\n",
       "    <tr>\n",
       "      <th>1174472</th>\n",
       "      <td>1</td>\n",
       "      <td>1980957060</td>\n",
       "      <td>Sun May 31 08:05:01 PDT 2009</td>\n",
       "      <td>NO_QUERY</td>\n",
       "      <td>travelinpainter</td>\n",
       "      <td>going to ikea &amp;amp; goodwill for some new fabr...</td>\n",
       "    </tr>\n",
       "  </tbody>\n",
       "</table>\n",
       "<p>1000 rows × 6 columns</p>\n",
       "</div>"
      ],
      "text/plain": [
       "         polarity          id                     date_time     query  \\\n",
       "655563          0  2240005823  Fri Jun 19 09:13:31 PDT 2009  NO_QUERY   \n",
       "848263          1  1564779690  Mon Apr 20 04:53:54 PDT 2009  NO_QUERY   \n",
       "1423183         1  2058641650  Sat Jun 06 15:20:34 PDT 2009  NO_QUERY   \n",
       "1419369         1  2057955930  Sat Jun 06 13:59:14 PDT 2009  NO_QUERY   \n",
       "585895          0  2215790498  Wed Jun 17 18:36:54 PDT 2009  NO_QUERY   \n",
       "...           ...         ...                           ...       ...   \n",
       "196616          0  1970763494  Sat May 30 05:07:30 PDT 2009  NO_QUERY   \n",
       "1201376         1  1985662270  Sun May 31 17:32:11 PDT 2009  NO_QUERY   \n",
       "176863          0  1965464799  Fri May 29 15:58:11 PDT 2009  NO_QUERY   \n",
       "937813          1  1793309636  Thu May 14 02:11:32 PDT 2009  NO_QUERY   \n",
       "1174472         1  1980957060  Sun May 31 08:05:01 PDT 2009  NO_QUERY   \n",
       "\n",
       "                    user                                              tweet  \n",
       "655563         Audnumber  TGIF..........wait, not looking forward to dri...  \n",
       "848263          GaLiNd3z                @VayaG  my too, they were awesome )  \n",
       "1423183        sugarlace  @catjuan my house is an open house for champor...  \n",
       "1419369       mccoy81603  Ppdurham i'm watching white chicks with my mom...  \n",
       "585895       carl0sroman  @JenalynMichelle I miss you too niggga. you do...  \n",
       "...                  ...                                                ...  \n",
       "196616   teh_gurumeister  @robineccles you mistweeted  here's the link a...  \n",
       "1201376  niicolemarshall  listening to thenewno2... @dhaniharrison is ab...  \n",
       "176863      jasminepotts  @nattymsmith they have nice cakes  why can't I...  \n",
       "937813      iandolphin24  PR @jimrhiz Here's a bit more data  I'm losing...  \n",
       "1174472  travelinpainter  going to ikea &amp; goodwill for some new fabr...  \n",
       "\n",
       "[1000 rows x 6 columns]"
      ]
     },
     "execution_count": 149,
     "metadata": {},
     "output_type": "execute_result"
    }
   ],
   "source": [
    "train_df"
   ]
  },
  {
   "cell_type": "code",
   "execution_count": 150,
   "id": "08ab5c83",
   "metadata": {},
   "outputs": [],
   "source": [
    "train_df.to_csv(\"sentiment140-subset.csv\",index=False)"
   ]
  },
  {
   "cell_type": "code",
   "execution_count": 151,
   "id": "fb67da38",
   "metadata": {},
   "outputs": [
    {
     "data": {
      "text/plain": [
       "0    533\n",
       "1    467\n",
       "Name: polarity, dtype: int64"
      ]
     },
     "execution_count": 151,
     "metadata": {},
     "output_type": "execute_result"
    }
   ],
   "source": [
    "train_df.polarity.value_counts()"
   ]
  },
  {
   "cell_type": "code",
   "execution_count": 152,
   "id": "ce9ebfc1",
   "metadata": {},
   "outputs": [
    {
     "data": {
      "text/plain": [
       "polarity        2\n",
       "id           1000\n",
       "date_time    1000\n",
       "query           1\n",
       "user          997\n",
       "tweet         999\n",
       "dtype: int64"
      ]
     },
     "execution_count": 152,
     "metadata": {},
     "output_type": "execute_result"
    }
   ],
   "source": [
    "train_df.nunique()"
   ]
  },
  {
   "cell_type": "code",
   "execution_count": 153,
   "id": "280df456",
   "metadata": {},
   "outputs": [],
   "source": [
    "train_df.drop(columns=['date_time','query','user','id'],inplace=True)"
   ]
  },
  {
   "cell_type": "code",
   "execution_count": 154,
   "id": "921a0c48",
   "metadata": {},
   "outputs": [
    {
     "data": {
      "text/html": [
       "<div>\n",
       "<style scoped>\n",
       "    .dataframe tbody tr th:only-of-type {\n",
       "        vertical-align: middle;\n",
       "    }\n",
       "\n",
       "    .dataframe tbody tr th {\n",
       "        vertical-align: top;\n",
       "    }\n",
       "\n",
       "    .dataframe thead th {\n",
       "        text-align: right;\n",
       "    }\n",
       "</style>\n",
       "<table border=\"1\" class=\"dataframe\">\n",
       "  <thead>\n",
       "    <tr style=\"text-align: right;\">\n",
       "      <th></th>\n",
       "      <th>polarity</th>\n",
       "      <th>tweet</th>\n",
       "    </tr>\n",
       "  </thead>\n",
       "  <tbody>\n",
       "    <tr>\n",
       "      <th>655563</th>\n",
       "      <td>0</td>\n",
       "      <td>TGIF..........wait, not looking forward to dri...</td>\n",
       "    </tr>\n",
       "    <tr>\n",
       "      <th>848263</th>\n",
       "      <td>1</td>\n",
       "      <td>@VayaG  my too, they were awesome )</td>\n",
       "    </tr>\n",
       "    <tr>\n",
       "      <th>1423183</th>\n",
       "      <td>1</td>\n",
       "      <td>@catjuan my house is an open house for champor...</td>\n",
       "    </tr>\n",
       "    <tr>\n",
       "      <th>1419369</th>\n",
       "      <td>1</td>\n",
       "      <td>Ppdurham i'm watching white chicks with my mom...</td>\n",
       "    </tr>\n",
       "    <tr>\n",
       "      <th>585895</th>\n",
       "      <td>0</td>\n",
       "      <td>@JenalynMichelle I miss you too niggga. you do...</td>\n",
       "    </tr>\n",
       "    <tr>\n",
       "      <th>...</th>\n",
       "      <td>...</td>\n",
       "      <td>...</td>\n",
       "    </tr>\n",
       "    <tr>\n",
       "      <th>196616</th>\n",
       "      <td>0</td>\n",
       "      <td>@robineccles you mistweeted  here's the link a...</td>\n",
       "    </tr>\n",
       "    <tr>\n",
       "      <th>1201376</th>\n",
       "      <td>1</td>\n",
       "      <td>listening to thenewno2... @dhaniharrison is ab...</td>\n",
       "    </tr>\n",
       "    <tr>\n",
       "      <th>176863</th>\n",
       "      <td>0</td>\n",
       "      <td>@nattymsmith they have nice cakes  why can't I...</td>\n",
       "    </tr>\n",
       "    <tr>\n",
       "      <th>937813</th>\n",
       "      <td>1</td>\n",
       "      <td>PR @jimrhiz Here's a bit more data  I'm losing...</td>\n",
       "    </tr>\n",
       "    <tr>\n",
       "      <th>1174472</th>\n",
       "      <td>1</td>\n",
       "      <td>going to ikea &amp;amp; goodwill for some new fabr...</td>\n",
       "    </tr>\n",
       "  </tbody>\n",
       "</table>\n",
       "<p>1000 rows × 2 columns</p>\n",
       "</div>"
      ],
      "text/plain": [
       "         polarity                                              tweet\n",
       "655563          0  TGIF..........wait, not looking forward to dri...\n",
       "848263          1                @VayaG  my too, they were awesome )\n",
       "1423183         1  @catjuan my house is an open house for champor...\n",
       "1419369         1  Ppdurham i'm watching white chicks with my mom...\n",
       "585895          0  @JenalynMichelle I miss you too niggga. you do...\n",
       "...           ...                                                ...\n",
       "196616          0  @robineccles you mistweeted  here's the link a...\n",
       "1201376         1  listening to thenewno2... @dhaniharrison is ab...\n",
       "176863          0  @nattymsmith they have nice cakes  why can't I...\n",
       "937813          1  PR @jimrhiz Here's a bit more data  I'm losing...\n",
       "1174472         1  going to ikea &amp; goodwill for some new fabr...\n",
       "\n",
       "[1000 rows x 2 columns]"
      ]
     },
     "execution_count": 154,
     "metadata": {},
     "output_type": "execute_result"
    }
   ],
   "source": [
    "train_df"
   ]
  },
  {
   "cell_type": "code",
   "execution_count": 155,
   "id": "9f1ea581",
   "metadata": {},
   "outputs": [],
   "source": [
    "from sklearn.feature_extraction.text import CountVectorizer\n",
    "from sklearn.model_selection import train_test_split"
   ]
  },
  {
   "cell_type": "code",
   "execution_count": 156,
   "id": "da1af394",
   "metadata": {},
   "outputs": [],
   "source": [
    "train_df_X=train_df['tweet']\n",
    "train_df_y=train_df['polarity']"
   ]
  },
  {
   "cell_type": "code",
   "execution_count": 157,
   "id": "278005bc",
   "metadata": {},
   "outputs": [
    {
     "name": "stderr",
     "output_type": "stream",
     "text": [
      "[nltk_data] Downloading package stopwords to\n",
      "[nltk_data]     D:\\Users\\NDEE5U8\\AppData\\Roaming\\nltk_data...\n",
      "[nltk_data]   Package stopwords is already up-to-date!\n",
      "[nltk_data] Downloading package wordnet to\n",
      "[nltk_data]     D:\\Users\\NDEE5U8\\AppData\\Roaming\\nltk_data...\n",
      "[nltk_data]   Package wordnet is already up-to-date!\n"
     ]
    }
   ],
   "source": [
    "import pandas as pd\n",
    "import numpy as np\n",
    "import re \n",
    "import string\n",
    "\n",
    "from nltk.corpus import stopwords\n",
    "from nltk.tokenize import word_tokenize\n",
    "from nltk.stem import PorterStemmer\n",
    "from nltk.stem import WordNetLemmatizer\n",
    "\n",
    "import nltk\n",
    "nltk.download('stopwords')\n",
    "nltk.download('wordnet')\n",
    "stop_words=set(stopwords.words('english'))"
   ]
  },
  {
   "cell_type": "code",
   "execution_count": 158,
   "id": "baa0c6ae",
   "metadata": {},
   "outputs": [],
   "source": [
    "def preprocess_tweet_text(tweet):\n",
    "    #lower case\n",
    "    tweet=tweet.lower()\n",
    "    #remove urls\n",
    "    tweet=re.sub(r\"http\\S+|www\\S+|https\\S+\",\"\",tweet,flags=re.MULTILINE)\n",
    "    #remove punctuation\n",
    "    tweet=tweet.translate(str.maketrans(\"\",\"\",string.punctuation))\n",
    "    #remove user @ and # from hashtags\n",
    "    tweet=re.sub(\"(@[A-Za-z0-9]+)|([^0-9A-Za-z \\t])|(\\w+:\\/\\/\\S+)\",\" \",tweet)\n",
    "    #remove stopwords\n",
    "    tweet_tokens=word_tokenize(tweet)\n",
    "    filtered_words=[word for word in tweet_tokens if word not in stop_words]\n",
    "    #stemming\n",
    "    ps=PorterStemmer()\n",
    "    stemmed_words=[ps.stem(w) for w in filtered_words]\n",
    "    #lemmatization\n",
    "    lemmatizer=WordNetLemmatizer()\n",
    "    lemma_words=[lemmatizer.lemmatize(w) for w in stemmed_words]\n",
    "    \n",
    "    return \" \".join(lemma_words)\n",
    "    "
   ]
  },
  {
   "cell_type": "code",
   "execution_count": 159,
   "id": "9926214d",
   "metadata": {},
   "outputs": [],
   "source": [
    "train_df_X=train_df_X.apply(preprocess_tweet_text)"
   ]
  },
  {
   "cell_type": "code",
   "execution_count": 160,
   "id": "8607886e",
   "metadata": {},
   "outputs": [
    {
     "data": {
      "text/plain": [
       "655563         tgifwait look forward drive oklahoma tomorrow\n",
       "848263                                          vayag awesom\n",
       "1423183    catjuan hous open hous champorado breakfast co...\n",
       "1419369    ppdurham im watch white chick momth could wors...\n",
       "585895             jenalynmichel miss niggga dont text nomor\n",
       "                                 ...                        \n",
       "196616                     robineccl mistweet here link need\n",
       "1201376    listen thenewno2 dhaniharrison absolut love co...\n",
       "176863     nattymsmith nice cake cant like haha that sooo...\n",
       "937813     pr jimrhiz here bit data im lose live one im a...\n",
       "1174472    go ikea amp goodwil new fabric im give live ro...\n",
       "Name: tweet, Length: 1000, dtype: object"
      ]
     },
     "execution_count": 160,
     "metadata": {},
     "output_type": "execute_result"
    }
   ],
   "source": [
    "train_df_X"
   ]
  },
  {
   "cell_type": "code",
   "execution_count": 161,
   "id": "a439375c",
   "metadata": {},
   "outputs": [],
   "source": [
    "cv=CountVectorizer()\n",
    "X_train,X_test,y_train,y_test=train_test_split(train_df_X,train_df_y,test_size=0.2)"
   ]
  },
  {
   "cell_type": "code",
   "execution_count": 162,
   "id": "0dc4a9a8",
   "metadata": {},
   "outputs": [
    {
     "name": "stdout",
     "output_type": "stream",
     "text": [
      "(800,) (200,) (800,) (200,)\n"
     ]
    }
   ],
   "source": [
    "print(X_train.shape,X_test.shape,y_train.shape,y_test.shape)"
   ]
  },
  {
   "cell_type": "code",
   "execution_count": 163,
   "id": "b112ddf8",
   "metadata": {},
   "outputs": [
    {
     "data": {
      "text/plain": [
       "<800x2754 sparse matrix of type '<class 'numpy.int64'>'\n",
       "\twith 6054 stored elements in Compressed Sparse Row format>"
      ]
     },
     "execution_count": 163,
     "metadata": {},
     "output_type": "execute_result"
    }
   ],
   "source": [
    "X=cv.fit_transform(train_df_X)\n",
    "y=train_df_y\n",
    "X_train_cv=cv.fit_transform(X_train)\n",
    "X_test_cv=cv.transform(X_test)\n",
    "X_train_cv"
   ]
  },
  {
   "cell_type": "code",
   "execution_count": 164,
   "id": "e1e8d841",
   "metadata": {},
   "outputs": [
    {
     "data": {
      "text/plain": [
       "0.645"
      ]
     },
     "execution_count": 164,
     "metadata": {},
     "output_type": "execute_result"
    }
   ],
   "source": [
    "from sklearn.linear_model import LogisticRegression\n",
    "from sklearn.ensemble import RandomForestClassifier\n",
    "from sklearn.ensemble import StackingClassifier\n",
    "from sklearn import metrics\n",
    "\n",
    "level0_1=list()\n",
    "level0_1.append(('lr',LogisticRegression(solver='lbfgs', max_iter=1000)))\n",
    "level0_1.append(('rf',RandomForestClassifier()))\n",
    "level1_1=LogisticRegression()\n",
    "\n",
    "model_1=StackingClassifier(estimators=level0_1,final_estimator=level1_1,cv=5)\n",
    "model_1.fit(X_train_cv,y_train)\n",
    "model_1.score(X_test_cv,y_test)\n",
    "\n"
   ]
  },
  {
   "cell_type": "code",
   "execution_count": 165,
   "id": "94eb8611",
   "metadata": {},
   "outputs": [
    {
     "data": {
      "text/plain": [
       "0.645"
      ]
     },
     "execution_count": 165,
     "metadata": {},
     "output_type": "execute_result"
    }
   ],
   "source": [
    "lr=LogisticRegression(solver='lbfgs', max_iter=1000)\n",
    "lr.fit(X_train_cv,y_train)\n",
    "lr.score(X_test_cv,y_test)"
   ]
  },
  {
   "cell_type": "code",
   "execution_count": 166,
   "id": "1d49a1a2",
   "metadata": {},
   "outputs": [
    {
     "data": {
      "text/plain": [
       "0.67"
      ]
     },
     "execution_count": 166,
     "metadata": {},
     "output_type": "execute_result"
    }
   ],
   "source": [
    "lr=RandomForestClassifier()\n",
    "lr.fit(X_train_cv,y_train)\n",
    "lr.score(X_test_cv,y_test)"
   ]
  },
  {
   "cell_type": "code",
   "execution_count": 167,
   "id": "dd8b741a",
   "metadata": {},
   "outputs": [
    {
     "data": {
      "text/plain": [
       "0.585"
      ]
     },
     "execution_count": 167,
     "metadata": {},
     "output_type": "execute_result"
    }
   ],
   "source": [
    "from sklearn.ensemble import GradientBoostingClassifier\n",
    "from sklearn.naive_bayes import GaussianNB\n",
    "level0_2=list()\n",
    "level0_2.append(('nb',GaussianNB()))\n",
    "level0_2.append(('gb',GradientBoostingClassifier()))\n",
    "level1_2=LogisticRegression()\n",
    "\n",
    "model_2=StackingClassifier(estimators=level0_2,final_estimator=level1_2,cv=5)\n",
    "model_2.fit(X_train_cv.toarray(),y_train)\n",
    "model_2.score(X_test_cv.toarray(),y_test)\n"
   ]
  },
  {
   "cell_type": "code",
   "execution_count": 168,
   "id": "882513e7",
   "metadata": {},
   "outputs": [
    {
     "data": {
      "text/plain": [
       "0.565"
      ]
     },
     "execution_count": 168,
     "metadata": {},
     "output_type": "execute_result"
    }
   ],
   "source": [
    "nb=GaussianNB()\n",
    "nb.fit(X_train_cv.toarray(),y_train)\n",
    "nb.score(X_test_cv.toarray(),y_test)"
   ]
  },
  {
   "cell_type": "code",
   "execution_count": 169,
   "id": "f0865a07",
   "metadata": {},
   "outputs": [
    {
     "data": {
      "text/plain": [
       "0.62"
      ]
     },
     "execution_count": 169,
     "metadata": {},
     "output_type": "execute_result"
    }
   ],
   "source": [
    "gb=GradientBoostingClassifier()\n",
    "gb.fit(X_train_cv,y_train)\n",
    "gb.score(X_test_cv,y_test)"
   ]
  },
  {
   "cell_type": "code",
   "execution_count": 170,
   "id": "e0387622",
   "metadata": {},
   "outputs": [
    {
     "data": {
      "text/plain": [
       "0.71"
      ]
     },
     "execution_count": 170,
     "metadata": {},
     "output_type": "execute_result"
    }
   ],
   "source": [
    "from sklearn.ensemble import AdaBoostClassifier\n",
    "from sklearn.svm import SVC\n",
    "level0_3=list()\n",
    "level0_3.append(('svm',SVC()))\n",
    "level0_3.append(('ab',AdaBoostClassifier()))\n",
    "level1_3=LogisticRegression()\n",
    "\n",
    "model_3=StackingClassifier(estimators=level0_3,final_estimator=level1_3,cv=5)\n",
    "model_3.fit(X_train_cv,y_train)\n",
    "model_3.score(X_test_cv,y_test)\n"
   ]
  },
  {
   "cell_type": "code",
   "execution_count": 171,
   "id": "b52ba04b",
   "metadata": {},
   "outputs": [
    {
     "data": {
      "text/plain": [
       "0.61"
      ]
     },
     "execution_count": 171,
     "metadata": {},
     "output_type": "execute_result"
    }
   ],
   "source": [
    "ab=AdaBoostClassifier()\n",
    "ab.fit(X_train_cv,y_train)\n",
    "ab.score(X_test_cv,y_test)"
   ]
  },
  {
   "cell_type": "code",
   "execution_count": 172,
   "id": "cc15aee0",
   "metadata": {},
   "outputs": [
    {
     "data": {
      "text/plain": [
       "0.69"
      ]
     },
     "execution_count": 172,
     "metadata": {},
     "output_type": "execute_result"
    }
   ],
   "source": [
    "svm=SVC() #better accuracy than stacking\n",
    "svm.fit(X_train_cv,y_train)\n",
    "svm.score(X_test_cv,y_test)"
   ]
  },
  {
   "cell_type": "code",
   "execution_count": 173,
   "id": "524936c1",
   "metadata": {},
   "outputs": [],
   "source": [
    "from sklearn.feature_extraction.text import TfidfVectorizer\n",
    "\n",
    "tf_idf=TfidfVectorizer()\n",
    "X_train_tfidf=tf_idf.fit_transform(X_train)\n",
    "X_test_tfidf=tf_idf.transform(X_test)"
   ]
  },
  {
   "cell_type": "code",
   "execution_count": 174,
   "id": "9c160bee",
   "metadata": {},
   "outputs": [
    {
     "data": {
      "text/plain": [
       "0.625"
      ]
     },
     "execution_count": 174,
     "metadata": {},
     "output_type": "execute_result"
    }
   ],
   "source": [
    "level0_4=list()\n",
    "level0_4.append(('lr',LogisticRegression(solver='lbfgs', max_iter=1000)))\n",
    "level0_4.append(('rf',RandomForestClassifier()))\n",
    "level1_4=LogisticRegression()\n",
    "\n",
    "model_4=StackingClassifier(estimators=level0_4,final_estimator=level1_4,cv=5)\n",
    "model_4.fit(X_train_tfidf,y_train)\n",
    "model_4.score(X_test_tfidf,y_test)"
   ]
  },
  {
   "cell_type": "code",
   "execution_count": 175,
   "id": "a7daa4db",
   "metadata": {},
   "outputs": [
    {
     "data": {
      "text/plain": [
       "0.615"
      ]
     },
     "execution_count": 175,
     "metadata": {},
     "output_type": "execute_result"
    }
   ],
   "source": [
    "level0_5=list()\n",
    "level0_5.append(('nb',GaussianNB()))\n",
    "level0_5.append(('gb',GradientBoostingClassifier()))\n",
    "level1_5=LogisticRegression()\n",
    "\n",
    "model_5=StackingClassifier(estimators=level0_5,final_estimator=level1_5,cv=5)\n",
    "model_5.fit(X_train_tfidf.toarray(),y_train)\n",
    "model_5.score(X_test_tfidf.toarray(),y_test)\n"
   ]
  },
  {
   "cell_type": "code",
   "execution_count": 176,
   "id": "d7703b4b",
   "metadata": {},
   "outputs": [
    {
     "data": {
      "text/plain": [
       "0.69"
      ]
     },
     "execution_count": 176,
     "metadata": {},
     "output_type": "execute_result"
    }
   ],
   "source": [
    "level0_6=list()\n",
    "level0_6.append(('svm',SVC()))\n",
    "level0_6.append(('ab',AdaBoostClassifier()))\n",
    "                \n",
    "level1_6=LogisticRegression(solver='lbfgs', max_iter=1000)\n",
    "\n",
    "model_6=StackingClassifier(estimators=level0_6,final_estimator=level1_6,cv=5)\n",
    "model_6.fit(X_train_tfidf,y_train)\n",
    "model_6.score(X_test_tfidf,y_test)\n"
   ]
  },
  {
   "cell_type": "raw",
   "id": "eac96f86",
   "metadata": {},
   "source": [
    "from sklearn.ensemble import VotingClassifier\n",
    "from sklearn.metrics import accuracy_score\n",
    "from sklearn.model_selection import cross_val_score\n",
    "\n",
    "estimator = [('lr+rf',model_1),('nb+gb',model_2),('svm+ab',model_3)]  \n",
    "#Voting Classifier with hard voting\n",
    "vot_hard = VotingClassifier(estimators = estimator, voting ='hard')\n",
    "vot_hard.fit(X_train_cv.toarray(), y_train)\n",
    "y_pred = vot_hard.predict(X_test_cv.toarray())\n",
    "\n",
    "# using accuracy_score metric to predict accuracy\n",
    "score = accuracy_score(y_test.values, y_pred)\n",
    "print(\"Hard Voting Score % d\" % score)\n"
   ]
  },
  {
   "cell_type": "raw",
   "id": "b0450df5",
   "metadata": {},
   "source": [
    "X_train_cv"
   ]
  },
  {
   "cell_type": "raw",
   "id": "5e45b153",
   "metadata": {},
   "source": [
    "y_pred"
   ]
  },
  {
   "cell_type": "raw",
   "id": "50799470",
   "metadata": {},
   "source": [
    "y_test"
   ]
  },
  {
   "cell_type": "raw",
   "id": "94e6f925",
   "metadata": {},
   "source": [
    "len(y_test),len(y_pred)"
   ]
  },
  {
   "cell_type": "raw",
   "id": "cd6425cc",
   "metadata": {},
   "source": [
    "type(y_test),type(y_pred)"
   ]
  },
  {
   "cell_type": "raw",
   "id": "35749190",
   "metadata": {},
   "source": [
    "estimator2 = []\n",
    "estimator2.append(('lr+rf2',model_4))\n",
    "estimator2.append(('nb+gb2',model_5))\n",
    "estimator2.append(('svm+ab2',model_6))\n",
    "  \n",
    "# Voting Classifier with hard voting\n",
    "vot_hard2 = VotingClassifier(estimators = estimator2, voting ='hard')\n",
    "vot_hard2.fit(X_train_tfidf.toarray(), y_train)\n",
    "y_pred = vot_hard2.predict(X_test_tfidf.toarray())\n",
    "  \n",
    "# using accuracy_score metric to predict accuracy\n",
    "score = accuracy_score(y_test, y_pred)\n",
    "print(\"Hard Voting Score % d\" % score)\n",
    "  \n"
   ]
  },
  {
   "cell_type": "raw",
   "id": "32c6b837",
   "metadata": {},
   "source": [
    "estimator2 = []\n",
    "estimator2.append(('rf',RandomForestClassifier()))\n",
    "estimator2.append(('gb',GradientBoostingClassifier()))\n",
    "estimator2.append(('ab',AdaBoostClassifier()))\n",
    "\n",
    "level1_7=LogisticRegression()\n",
    "\n",
    "model_7=StackingClassifier(estimators=estimator2,final_estimator=level1_7,cv=5)\n",
    "model_7.fit(X_train_tfidf.toarray(),y_train)\n",
    "model_7.score(X_test_tfidf.toarray(),y_test)\n",
    "\n",
    "  \n"
   ]
  },
  {
   "cell_type": "raw",
   "id": "cb238261",
   "metadata": {},
   "source": [
    "estimator2 = []\n",
    "estimator2.append(('lr',LogisticRegression(max_iter=1000)))\n",
    "estimator2.append(('rf',RandomForestClassifier()))\n",
    "estimator2.append(('nb',GaussianNB()))\n",
    "estimator2.append(('nb',GradientBoostingClassifier()))\n",
    "estimator2.append(('svm',SVC()))\n",
    "estimator2.append(('ab',AdaBoostClassifier()))\n",
    "  \n",
    "# Voting Classifier with hard voting\n",
    "vot_hard2 = VotingClassifier(estimators = estimator2, voting ='hard')\n",
    "vot_hard2.fit(X_train_tfidf.toarray(), y_train)\n",
    "y_pred = vot_hard2.predict(X_test_cv.toarray())\n",
    "  \n",
    "# using accuracy_score metric to predict accuracy\n",
    "score = accuracy_score(y_test, y_pred)\n",
    "print(\"Hard Voting Score % d\" % score)\n",
    "  \n"
   ]
  },
  {
   "cell_type": "code",
   "execution_count": 201,
   "id": "79796025",
   "metadata": {},
   "outputs": [],
   "source": [
    "final_train_df=pd.read_csv('million_tweets.csv')"
   ]
  },
  {
   "cell_type": "code",
   "execution_count": 202,
   "id": "9862131d",
   "metadata": {},
   "outputs": [],
   "source": [
    "final_train_df=final_train_df.sample(n=40000)"
   ]
  },
  {
   "cell_type": "code",
   "execution_count": 203,
   "id": "09a141e1",
   "metadata": {},
   "outputs": [],
   "source": [
    "final_train_df.columns=['polarity','id','date_time','query','user','tweet']"
   ]
  },
  {
   "cell_type": "code",
   "execution_count": 204,
   "id": "b80069b2",
   "metadata": {},
   "outputs": [
    {
     "data": {
      "text/html": [
       "<div>\n",
       "<style scoped>\n",
       "    .dataframe tbody tr th:only-of-type {\n",
       "        vertical-align: middle;\n",
       "    }\n",
       "\n",
       "    .dataframe tbody tr th {\n",
       "        vertical-align: top;\n",
       "    }\n",
       "\n",
       "    .dataframe thead th {\n",
       "        text-align: right;\n",
       "    }\n",
       "</style>\n",
       "<table border=\"1\" class=\"dataframe\">\n",
       "  <thead>\n",
       "    <tr style=\"text-align: right;\">\n",
       "      <th></th>\n",
       "      <th>polarity</th>\n",
       "      <th>id</th>\n",
       "      <th>date_time</th>\n",
       "      <th>query</th>\n",
       "      <th>user</th>\n",
       "      <th>tweet</th>\n",
       "    </tr>\n",
       "  </thead>\n",
       "  <tbody>\n",
       "    <tr>\n",
       "      <th>858180</th>\n",
       "      <td>4</td>\n",
       "      <td>1574087049</td>\n",
       "      <td>Tue Apr 21 04:11:38 PDT 2009</td>\n",
       "      <td>NO_QUERY</td>\n",
       "      <td>Vdera</td>\n",
       "      <td>Lush day and off to work. Gutted! Should be qu...</td>\n",
       "    </tr>\n",
       "    <tr>\n",
       "      <th>166809</th>\n",
       "      <td>0</td>\n",
       "      <td>1961455628</td>\n",
       "      <td>Fri May 29 09:31:46 PDT 2009</td>\n",
       "      <td>NO_QUERY</td>\n",
       "      <td>jarelloveless</td>\n",
       "      <td>Just got home from the bank, the teller was de...</td>\n",
       "    </tr>\n",
       "    <tr>\n",
       "      <th>1056571</th>\n",
       "      <td>4</td>\n",
       "      <td>1962518208</td>\n",
       "      <td>Fri May 29 11:10:08 PDT 2009</td>\n",
       "      <td>NO_QUERY</td>\n",
       "      <td>MichelleZen</td>\n",
       "      <td>@scorpiontheater I try to keep life interestin...</td>\n",
       "    </tr>\n",
       "    <tr>\n",
       "      <th>622940</th>\n",
       "      <td>0</td>\n",
       "      <td>2229381084</td>\n",
       "      <td>Thu Jun 18 15:39:12 PDT 2009</td>\n",
       "      <td>NO_QUERY</td>\n",
       "      <td>ka_pasa</td>\n",
       "      <td>@tdm911 I am okay, but my poor Kia Sportage is...</td>\n",
       "    </tr>\n",
       "    <tr>\n",
       "      <th>1087525</th>\n",
       "      <td>4</td>\n",
       "      <td>1969439831</td>\n",
       "      <td>Sat May 30 00:02:36 PDT 2009</td>\n",
       "      <td>NO_QUERY</td>\n",
       "      <td>khaled</td>\n",
       "      <td>@Saudi I aim and hope to change that</td>\n",
       "    </tr>\n",
       "    <tr>\n",
       "      <th>...</th>\n",
       "      <td>...</td>\n",
       "      <td>...</td>\n",
       "      <td>...</td>\n",
       "      <td>...</td>\n",
       "      <td>...</td>\n",
       "      <td>...</td>\n",
       "    </tr>\n",
       "    <tr>\n",
       "      <th>413523</th>\n",
       "      <td>0</td>\n",
       "      <td>2060608389</td>\n",
       "      <td>Sat Jun 06 19:13:39 PDT 2009</td>\n",
       "      <td>NO_QUERY</td>\n",
       "      <td>EyesBleed4Him</td>\n",
       "      <td>sitting around waiting for him to sneak over. ...</td>\n",
       "    </tr>\n",
       "    <tr>\n",
       "      <th>936020</th>\n",
       "      <td>4</td>\n",
       "      <td>1792892675</td>\n",
       "      <td>Thu May 14 00:36:31 PDT 2009</td>\n",
       "      <td>NO_QUERY</td>\n",
       "      <td>jacksonpalmer</td>\n",
       "      <td>time to make my way home without someone on th...</td>\n",
       "    </tr>\n",
       "    <tr>\n",
       "      <th>655993</th>\n",
       "      <td>0</td>\n",
       "      <td>2240273633</td>\n",
       "      <td>Fri Jun 19 09:32:55 PDT 2009</td>\n",
       "      <td>NO_QUERY</td>\n",
       "      <td>pretobasico</td>\n",
       "      <td>@deadcrow</td>\n",
       "    </tr>\n",
       "    <tr>\n",
       "      <th>669001</th>\n",
       "      <td>0</td>\n",
       "      <td>2246117012</td>\n",
       "      <td>Fri Jun 19 17:07:04 PDT 2009</td>\n",
       "      <td>NO_QUERY</td>\n",
       "      <td>mmccul4</td>\n",
       "      <td>work is the last place i want to be right now.</td>\n",
       "    </tr>\n",
       "    <tr>\n",
       "      <th>1119080</th>\n",
       "      <td>4</td>\n",
       "      <td>1973708985</td>\n",
       "      <td>Sat May 30 11:40:45 PDT 2009</td>\n",
       "      <td>NO_QUERY</td>\n",
       "      <td>CzarWright</td>\n",
       "      <td>Love the Latino music   ? http://blip.fm/~7bxaz</td>\n",
       "    </tr>\n",
       "  </tbody>\n",
       "</table>\n",
       "<p>40000 rows × 6 columns</p>\n",
       "</div>"
      ],
      "text/plain": [
       "         polarity          id                     date_time     query  \\\n",
       "858180          4  1574087049  Tue Apr 21 04:11:38 PDT 2009  NO_QUERY   \n",
       "166809          0  1961455628  Fri May 29 09:31:46 PDT 2009  NO_QUERY   \n",
       "1056571         4  1962518208  Fri May 29 11:10:08 PDT 2009  NO_QUERY   \n",
       "622940          0  2229381084  Thu Jun 18 15:39:12 PDT 2009  NO_QUERY   \n",
       "1087525         4  1969439831  Sat May 30 00:02:36 PDT 2009  NO_QUERY   \n",
       "...           ...         ...                           ...       ...   \n",
       "413523          0  2060608389  Sat Jun 06 19:13:39 PDT 2009  NO_QUERY   \n",
       "936020          4  1792892675  Thu May 14 00:36:31 PDT 2009  NO_QUERY   \n",
       "655993          0  2240273633  Fri Jun 19 09:32:55 PDT 2009  NO_QUERY   \n",
       "669001          0  2246117012  Fri Jun 19 17:07:04 PDT 2009  NO_QUERY   \n",
       "1119080         4  1973708985  Sat May 30 11:40:45 PDT 2009  NO_QUERY   \n",
       "\n",
       "                  user                                              tweet  \n",
       "858180           Vdera  Lush day and off to work. Gutted! Should be qu...  \n",
       "166809   jarelloveless  Just got home from the bank, the teller was de...  \n",
       "1056571    MichelleZen  @scorpiontheater I try to keep life interestin...  \n",
       "622940         ka_pasa  @tdm911 I am okay, but my poor Kia Sportage is...  \n",
       "1087525         khaled              @Saudi I aim and hope to change that   \n",
       "...                ...                                                ...  \n",
       "413523   EyesBleed4Him  sitting around waiting for him to sneak over. ...  \n",
       "936020   jacksonpalmer  time to make my way home without someone on th...  \n",
       "655993     pretobasico                                         @deadcrow   \n",
       "669001         mmccul4    work is the last place i want to be right now.   \n",
       "1119080     CzarWright    Love the Latino music   ? http://blip.fm/~7bxaz  \n",
       "\n",
       "[40000 rows x 6 columns]"
      ]
     },
     "execution_count": 204,
     "metadata": {},
     "output_type": "execute_result"
    }
   ],
   "source": [
    "final_train_df"
   ]
  },
  {
   "cell_type": "code",
   "execution_count": 205,
   "id": "5d409992",
   "metadata": {},
   "outputs": [],
   "source": [
    "final_train_df.drop(columns=['date_time','query','user','id'],inplace=True)"
   ]
  },
  {
   "cell_type": "code",
   "execution_count": 206,
   "id": "a6a89644",
   "metadata": {},
   "outputs": [],
   "source": [
    "final_train_df.polarity.replace({4:1,0:0},inplace=True)"
   ]
  },
  {
   "cell_type": "code",
   "execution_count": 207,
   "id": "09636496",
   "metadata": {},
   "outputs": [],
   "source": [
    "final_train_df_X=final_train_df['tweet']\n",
    "final_train_df_y=final_train_df['polarity']"
   ]
  },
  {
   "cell_type": "code",
   "execution_count": 208,
   "id": "94f7672c",
   "metadata": {},
   "outputs": [],
   "source": [
    "final_cv=CountVectorizer()\n",
    "X_train,X_test,y_train,y_test=train_test_split(final_train_df_X,final_train_df_y,test_size=0.2)"
   ]
  },
  {
   "cell_type": "code",
   "execution_count": 209,
   "id": "08d02231",
   "metadata": {},
   "outputs": [],
   "source": [
    "final_train_df_X=final_train_df_X.apply(preprocess_tweet_text)"
   ]
  },
  {
   "cell_type": "code",
   "execution_count": 210,
   "id": "4a89e439",
   "metadata": {},
   "outputs": [
    {
     "data": {
      "text/plain": [
       "<32000x42546 sparse matrix of type '<class 'numpy.int64'>'\n",
       "\twith 379346 stored elements in Compressed Sparse Row format>"
      ]
     },
     "execution_count": 210,
     "metadata": {},
     "output_type": "execute_result"
    }
   ],
   "source": [
    "X=final_cv.fit_transform(final_train_df_X)\n",
    "y=final_train_df_y\n",
    "final_X_train_cv=final_cv.fit_transform(X_train)\n",
    "final_X_test_cv=final_cv.transform(X_test)\n",
    "final_X_train_cv"
   ]
  },
  {
   "cell_type": "code",
   "execution_count": 212,
   "id": "77ceb94b",
   "metadata": {},
   "outputs": [
    {
     "data": {
      "text/plain": [
       "0.757375"
      ]
     },
     "execution_count": 212,
     "metadata": {},
     "output_type": "execute_result"
    }
   ],
   "source": [
    "model_3.fit(final_X_train_cv,y_train)\n",
    "model_3.score(final_X_test_cv,y_test)"
   ]
  },
  {
   "cell_type": "code",
   "execution_count": 243,
   "id": "17ca8307",
   "metadata": {},
   "outputs": [],
   "source": [
    "import pickle\n",
    "pickle.dump(model_3,open('final_model.sav','wb'))"
   ]
  },
  {
   "cell_type": "code",
   "execution_count": 244,
   "id": "11d6da7c",
   "metadata": {},
   "outputs": [],
   "source": [
    "financial_tweets=financial_dataframe[\"tweets\"]"
   ]
  },
  {
   "cell_type": "code",
   "execution_count": 245,
   "id": "077fa3fe",
   "metadata": {},
   "outputs": [
    {
     "data": {
      "text/plain": [
       "103"
      ]
     },
     "execution_count": 245,
     "metadata": {},
     "output_type": "execute_result"
    }
   ],
   "source": [
    "len(financial_tweets)"
   ]
  },
  {
   "cell_type": "code",
   "execution_count": 246,
   "id": "22241f11",
   "metadata": {},
   "outputs": [],
   "source": [
    "financial_tweets=financial_tweets.apply(preprocess_tweet_text)"
   ]
  },
  {
   "cell_type": "code",
   "execution_count": 247,
   "id": "e62abee2",
   "metadata": {},
   "outputs": [],
   "source": [
    "final_test=final_cv.transform(financial_tweets)"
   ]
  },
  {
   "cell_type": "code",
   "execution_count": 248,
   "id": "99997d1d",
   "metadata": {},
   "outputs": [],
   "source": [
    "loaded_model=pickle.load(open('final_model.sav','rb'))"
   ]
  },
  {
   "cell_type": "code",
   "execution_count": 249,
   "id": "ea957b30",
   "metadata": {},
   "outputs": [],
   "source": [
    "final_preds=loaded_model.predict(final_test)"
   ]
  },
  {
   "cell_type": "code",
   "execution_count": 250,
   "id": "469dc994",
   "metadata": {},
   "outputs": [
    {
     "data": {
      "text/plain": [
       "array([1, 1, 1, 1, 1, 0, 0, 1, 1, 1, 1, 1, 1, 1, 1, 1, 0, 1, 1, 1, 1, 1,\n",
       "       1, 1, 0, 1, 1, 1, 0, 0, 1, 1, 1, 1, 1, 1, 1, 1, 1, 0, 1, 1, 1, 1,\n",
       "       1, 1, 1, 1, 1, 0, 1, 1, 0, 0, 0, 0, 0, 1, 0, 1, 0, 1, 0, 0, 1, 1,\n",
       "       1, 1, 1, 0, 1, 1, 1, 1, 1, 1, 1, 1, 1, 1, 1, 1, 1, 1, 1, 1, 1, 1,\n",
       "       1, 1, 1, 1, 1, 1, 0, 0, 0, 1, 1, 1, 1, 1, 1], dtype=int64)"
      ]
     },
     "execution_count": 250,
     "metadata": {},
     "output_type": "execute_result"
    }
   ],
   "source": [
    "final_preds"
   ]
  },
  {
   "cell_type": "code",
   "execution_count": 251,
   "id": "88ac9ac3",
   "metadata": {},
   "outputs": [
    {
     "data": {
      "text/plain": [
       "100.0"
      ]
     },
     "execution_count": 251,
     "metadata": {},
     "output_type": "execute_result"
    }
   ],
   "source": [
    "financial_score=(len(final_preds==1)/len(final_preds))*100\n",
    "financial_score"
   ]
  },
  {
   "cell_type": "code",
   "execution_count": 252,
   "id": "33004a3b",
   "metadata": {},
   "outputs": [
    {
     "data": {
      "text/plain": [
       "84.20138888888889"
      ]
     },
     "execution_count": 252,
     "metadata": {},
     "output_type": "execute_result"
    }
   ],
   "source": [
    "final_score=0.5*financial_score+0.25*profile_score+0.25*twit_score\n",
    "final_score"
   ]
  },
  {
   "cell_type": "code",
   "execution_count": null,
   "id": "7142e6d9",
   "metadata": {},
   "outputs": [],
   "source": []
  },
  {
   "cell_type": "code",
   "execution_count": null,
   "id": "16f64921",
   "metadata": {},
   "outputs": [],
   "source": []
  },
  {
   "cell_type": "code",
   "execution_count": null,
   "id": "2c37a0c6",
   "metadata": {},
   "outputs": [],
   "source": []
  },
  {
   "cell_type": "code",
   "execution_count": null,
   "id": "8e903196",
   "metadata": {},
   "outputs": [],
   "source": []
  }
 ],
 "metadata": {
  "kernelspec": {
   "display_name": "Python 3",
   "language": "python",
   "name": "python3"
  },
  "language_info": {
   "codemirror_mode": {
    "name": "ipython",
    "version": 3
   },
   "file_extension": ".py",
   "mimetype": "text/x-python",
   "name": "python",
   "nbconvert_exporter": "python",
   "pygments_lexer": "ipython3",
   "version": "3.8.8"
  }
 },
 "nbformat": 4,
 "nbformat_minor": 5
}
